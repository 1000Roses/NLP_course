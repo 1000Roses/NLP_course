{
  "nbformat": 4,
  "nbformat_minor": 0,
  "metadata": {
    "colab": {
      "name": "final_LSTM_final.ipynb",
      "provenance": [],
      "mount_file_id": "1EfMX-KqwA0eX27Lw0FKkqBZ_-KP6jsIB",
      "authorship_tag": "ABX9TyN8rLjTlAdB0EIgwC1hWIB6",
      "include_colab_link": true
    },
    "kernelspec": {
      "name": "python3",
      "display_name": "Python 3"
    },
    "language_info": {
      "name": "python"
    }
  },
  "cells": [
    {
      "cell_type": "markdown",
      "metadata": {
        "id": "view-in-github",
        "colab_type": "text"
      },
      "source": [
        "<a href=\"https://colab.research.google.com/github/1000Roses/NLP_course/blob/main/final_LSTM_final.ipynb\" target=\"_parent\"><img src=\"https://colab.research.google.com/assets/colab-badge.svg\" alt=\"Open In Colab\"/></a>"
      ]
    },
    {
      "cell_type": "code",
      "metadata": {
        "id": "V45H0yA3M8F4"
      },
      "source": [
        "import numpy as np"
      ],
      "execution_count": 27,
      "outputs": []
    },
    {
      "cell_type": "code",
      "metadata": {
        "id": "FES2343rNDeH"
      },
      "source": [
        "FRIEND_DATA = list()\n",
        "VOCAB_SIZE = 0"
      ],
      "execution_count": 44,
      "outputs": []
    },
    {
      "cell_type": "code",
      "metadata": {
        "id": "bmok8Ti0NHQ7"
      },
      "source": [
        "# Make the pair question and answer list\n",
        "path = '/content/drive/MyDrive/NLP/chatbotdata/bạn bè.txt'\n",
        "with open(path) as frienddata:\n",
        "  i = 0\n",
        "  for data in frienddata:\n",
        "    sent = data.split(\"__eou__\")[:2]\n",
        "    if len(sent) == 2:\n",
        "      qaa = list()\n",
        "      for subsent in sent:\n",
        "        # Remove leading, ending space in string, \" để mùa hạ qua từng đêm vắng  \"  -> \"để mùa hạ qua từng đêm vắng\"\n",
        "        subsent = subsent.strip()\n",
        "        qaa.append(subsent)\n",
        "      FRIEND_DATA.append(qaa)"
      ],
      "execution_count": 45,
      "outputs": []
    },
    {
      "cell_type": "code",
      "metadata": {
        "colab": {
          "base_uri": "https://localhost:8080/"
        },
        "id": "Q4QhMgjuNI5k",
        "outputId": "bcd5e220-ae9d-4610-85b9-5ac7c8152b91"
      },
      "source": [
        "FRIEND_DATA[:5]"
      ],
      "execution_count": 46,
      "outputs": [
        {
          "output_type": "execute_result",
          "data": {
            "text/plain": [
              "[['Thích đánh lộn không?', 'Ngon nhà vô'],\n",
              " ['Solo yasua không', 'Chấp lun 2 mạng đầu'],\n",
              " ['Mai đi picnic không?', 'Mai bận học rồi'],\n",
              " ['Mai học ca mấy vậy?', 'Mai học ca 3'],\n",
              " ['Còn tiền không?', 'Còn chết liền']]"
            ]
          },
          "metadata": {
            "tags": []
          },
          "execution_count": 46
        }
      ]
    },
    {
      "cell_type": "code",
      "metadata": {
        "id": "Qmrr67OMN1PE"
      },
      "source": [
        "# Separate Answer and Question \n",
        "# Input text is question, target_text is answer\n",
        "input_texts = list()\n",
        "target_texts = list()\n",
        "input_characters = set()\n",
        "target_charaters = set()\n",
        "\n",
        "for input_text, target_text in FRIEND_DATA:\n",
        "  #make lower text\n",
        "  input_text = input_text.lower()\n",
        "  target_text = target_text.lower()\n",
        "  target_text = '\\t'+ target_text + '\\n'\n",
        "\n",
        "  input_texts.append(input_text)\n",
        "  target_texts.append(target_text)\n",
        "\n",
        "  for char in input_text:\n",
        "    if char not in input_characters:\n",
        "      input_characters.add(char)\n",
        "  for char in target_text:\n",
        "    if char not in target_charaters:\n",
        "      target_charaters.add(char)\n",
        "      "
      ],
      "execution_count": 47,
      "outputs": []
    },
    {
      "cell_type": "code",
      "metadata": {
        "colab": {
          "base_uri": "https://localhost:8080/"
        },
        "id": "wIol8vSSPbt9",
        "outputId": "1b8b78c3-eff9-4c0d-ee27-b0a56e4e914e"
      },
      "source": [
        "input_texts[:2]"
      ],
      "execution_count": 48,
      "outputs": [
        {
          "output_type": "execute_result",
          "data": {
            "text/plain": [
              "['thích đánh lộn không?', 'solo yasua không']"
            ]
          },
          "metadata": {
            "tags": []
          },
          "execution_count": 48
        }
      ]
    },
    {
      "cell_type": "code",
      "metadata": {
        "colab": {
          "base_uri": "https://localhost:8080/"
        },
        "id": "Crv7nS90QlHZ",
        "outputId": "4d7116cd-8313-443c-af83-6983c93d821b"
      },
      "source": [
        "target_texts[:2]"
      ],
      "execution_count": 49,
      "outputs": [
        {
          "output_type": "execute_result",
          "data": {
            "text/plain": [
              "['\\tngon nhà vô\\n', '\\tchấp lun 2 mạng đầu\\n']"
            ]
          },
          "metadata": {
            "tags": []
          },
          "execution_count": 49
        }
      ]
    },
    {
      "cell_type": "code",
      "metadata": {
        "colab": {
          "base_uri": "https://localhost:8080/"
        },
        "id": "AnknqUGkRRbX",
        "outputId": "1d09b4d9-52ba-458b-cb7d-4e6e2ba0a4c0"
      },
      "source": [
        "len(input_characters)"
      ],
      "execution_count": 50,
      "outputs": [
        {
          "output_type": "execute_result",
          "data": {
            "text/plain": [
              "99"
            ]
          },
          "metadata": {
            "tags": []
          },
          "execution_count": 50
        }
      ]
    },
    {
      "cell_type": "code",
      "metadata": {
        "id": "_IC7gO2yQ0hZ"
      },
      "source": [
        "input_characters = sorted(list(input_characters))\n",
        "target_charaters = sorted(list(target_charaters))\n",
        "num_encoder_tokens = len(input_characters)\n",
        "num_decoder_tokens = len(target_charaters)\n",
        "max_encoder_seq_length = max([len(txt) for txt in input_texts])\n",
        "max_decoder_seq_length = max([len(txt) for txt in target_texts])"
      ],
      "execution_count": 51,
      "outputs": []
    },
    {
      "cell_type": "code",
      "metadata": {
        "colab": {
          "base_uri": "https://localhost:8080/"
        },
        "id": "AfKmUho2R8mJ",
        "outputId": "a2cbae11-4f1e-44a8-af45-0115cc0ab196"
      },
      "source": [
        "print(\"Number of samples: \", len(input_texts))\n",
        "print(\"Number of unique input tokens: \", num_encoder_tokens)\n",
        "print(\"Number of unique output tokens: \", num_decoder_tokens)\n",
        "print(\"Max sequence length for inputs: \", max_encoder_seq_length)\n",
        "print(\"Max sequence length for outputs: \", max_decoder_seq_length)"
      ],
      "execution_count": 53,
      "outputs": [
        {
          "output_type": "stream",
          "text": [
            "Number of samples:  610\n",
            "Number of unique input tokens:  99\n",
            "Number of unique output tokens:  112\n",
            "Max sequence length for inputs:  109\n",
            "Max sequence length for outputs:  291\n"
          ],
          "name": "stdout"
        }
      ]
    },
    {
      "cell_type": "code",
      "metadata": {
        "id": "nGJTGVftRDEK"
      },
      "source": [
        "input_token_index = dict(\n",
        "    [(char, i) for i, char in enumerate(input_characters)]\n",
        ")\n",
        "target_token_index = dict(\n",
        "    [(char,i) for i, char in enumerate(target_charaters)]\n",
        ")"
      ],
      "execution_count": 54,
      "outputs": []
    },
    {
      "cell_type": "code",
      "metadata": {
        "id": "0IDNw1ztjG-C"
      },
      "source": [
        "target_token_reverse_index = { value : key for key, value in target_token_index.items() }"
      ],
      "execution_count": 79,
      "outputs": []
    },
    {
      "cell_type": "code",
      "metadata": {
        "colab": {
          "base_uri": "https://localhost:8080/"
        },
        "id": "yQwEGiobTEal",
        "outputId": "8abd5887-f790-4cfb-dd18-12af7b404fba"
      },
      "source": [
        "{key:input_token_index[key] for i, key in enumerate(input_token_index) if i < 5}"
      ],
      "execution_count": 58,
      "outputs": [
        {
          "output_type": "execute_result",
          "data": {
            "text/plain": [
              "{' ': 0, '\"': 1, ',': 2, '.': 3, '/': 4}"
            ]
          },
          "metadata": {
            "tags": []
          },
          "execution_count": 58
        }
      ]
    },
    {
      "cell_type": "code",
      "metadata": {
        "colab": {
          "base_uri": "https://localhost:8080/"
        },
        "id": "2GZY_y08n0C-",
        "outputId": "bb0c0a0c-00cf-4151-cbd4-b14ab9c2e2c6"
      },
      "source": [
        "{key:target_token_index[key] for i, key in enumerate(target_token_index) if i < 5}"
      ],
      "execution_count": 106,
      "outputs": [
        {
          "output_type": "execute_result",
          "data": {
            "text/plain": [
              "{'\\t': 0, '\\n': 1, ' ': 2, '!': 3, '(': 4}"
            ]
          },
          "metadata": {
            "tags": []
          },
          "execution_count": 106
        }
      ]
    },
    {
      "cell_type": "code",
      "metadata": {
        "id": "-syFBnvkTLSW"
      },
      "source": [
        "# 3D array of shape (num_pairs, max_sentence_length_char, num_characters)\n",
        "\n",
        "encoder_input_data = np.zeros(\n",
        "    (len(input_texts), max_encoder_seq_length, num_encoder_tokens), dtype= 'float32'\n",
        ")\n",
        "decoder_input_data = np.zeros(\n",
        "    (len(input_texts), max_decoder_seq_length, num_decoder_tokens), dtype= 'float32'\n",
        ")\n",
        "decoder_target_data = np.zeros(\n",
        "    (len(input_texts), max_decoder_seq_length, num_decoder_tokens), dtype= 'float32'\n",
        ")"
      ],
      "execution_count": 60,
      "outputs": []
    },
    {
      "cell_type": "code",
      "metadata": {
        "colab": {
          "base_uri": "https://localhost:8080/"
        },
        "id": "NFUSb8sjVotP",
        "outputId": "1dd33327-6ffc-42d0-8c17-692fc900b02f"
      },
      "source": [
        "encoder_input_data.shape, decoder_input_data.shape"
      ],
      "execution_count": 63,
      "outputs": [
        {
          "output_type": "execute_result",
          "data": {
            "text/plain": [
              "((610, 109, 99), (610, 291, 112))"
            ]
          },
          "metadata": {
            "tags": []
          },
          "execution_count": 63
        }
      ]
    },
    {
      "cell_type": "code",
      "metadata": {
        "id": "b65Lvn_mWUDP"
      },
      "source": [
        "# build one hot vector\n",
        "for i, (input_text, target_text) in enumerate(zip(input_texts, target_texts)):\n",
        "  for t, char in enumerate(input_text):\n",
        "    encoder_input_data[i, t, input_token_index[char]] = 1\n",
        "  encoder_input_data[i, t + 1:, input_token_index[' ']] = 1\n",
        "\n",
        "  for t, char in enumerate(target_text):\n",
        "    decoder_input_data[i, t, target_token_index[char]] = 1\n",
        "    if t > 0:\n",
        "      # decoder_target_data is ahead of decoder_input_data by one timestep\n",
        "      # and will not include the start character /t\n",
        "      decoder_target_data[i, t - 1, target_token_index[char]] = 1\n",
        "  \n",
        "  decoder_input_data[i, t + 1:, target_token_index[' ']] = 1\n",
        "  decoder_target_data[i, t:, target_token_index[' ']] = 1"
      ],
      "execution_count": 64,
      "outputs": []
    },
    {
      "cell_type": "code",
      "metadata": {
        "id": "7SNLQngVYfQq"
      },
      "source": [
        "'''\n",
        "  decoder_target_data is ahead of decoder_input_data by one timestep\n",
        "  such as, decoder_input = /ttoi di hoc -> /t t o i d i h o c\n",
        "           decoder_target               -> t o i d i h o c\n",
        "'''"
      ],
      "execution_count": null,
      "outputs": []
    },
    {
      "cell_type": "code",
      "metadata": {
        "colab": {
          "base_uri": "https://localhost:8080/"
        },
        "id": "Gf630_A7ZcTW",
        "outputId": "b43f338e-14a4-4230-b28b-ac5c74ddb43b"
      },
      "source": [
        "from keras.models import Model\n",
        "from keras.layers import Input, LSTM, Dense\n",
        "\n",
        "latent_dim = 300\n",
        "\n",
        "# Define an input sequence and process it.\n",
        "encoder_inputs = Input(shape=(None, num_encoder_tokens))\n",
        "encoder = LSTM(latent_dim, return_state=True)\n",
        "encoder_outputs, state_h, state_c = encoder(encoder_inputs)\n",
        "# We discard `encoder_outputs` and only keep the states.\n",
        "encoder_states = [state_h, state_c]\n",
        "\n",
        "# Set up the decoder, using `encoder_states` as initial state.\n",
        "decoder_inputs = Input(shape=(None, num_decoder_tokens))\n",
        "# We set up our decoder to return full output sequences,\n",
        "# and to return internal states as well. We don't use the \n",
        "# return states in the training model, but we will use them in inference.\n",
        "decoder_lstm = LSTM(latent_dim, return_sequences=True, return_state=True)\n",
        "decoder_outputs, _, _ = decoder_lstm(decoder_inputs,\n",
        "                                     initial_state=encoder_states)\n",
        "decoder_dense = Dense(num_decoder_tokens, activation='softmax')\n",
        "decoder_outputs = decoder_dense(decoder_outputs)\n",
        "\n",
        "# Define the model that will turn\n",
        "# `encoder_input_data` & `decoder_input_data` into `decoder_target_data`\n",
        "model = Model([encoder_inputs, decoder_inputs], decoder_outputs)\n",
        "model.summary()"
      ],
      "execution_count": 69,
      "outputs": [
        {
          "output_type": "stream",
          "text": [
            "Model: \"model_1\"\n",
            "__________________________________________________________________________________________________\n",
            "Layer (type)                    Output Shape         Param #     Connected to                     \n",
            "==================================================================================================\n",
            "input_3 (InputLayer)            [(None, None, 99)]   0                                            \n",
            "__________________________________________________________________________________________________\n",
            "input_4 (InputLayer)            [(None, None, 112)]  0                                            \n",
            "__________________________________________________________________________________________________\n",
            "lstm_2 (LSTM)                   [(None, 300), (None, 480000      input_3[0][0]                    \n",
            "__________________________________________________________________________________________________\n",
            "lstm_3 (LSTM)                   [(None, None, 300),  495600      input_4[0][0]                    \n",
            "                                                                 lstm_2[0][1]                     \n",
            "                                                                 lstm_2[0][2]                     \n",
            "__________________________________________________________________________________________________\n",
            "dense_1 (Dense)                 (None, None, 112)    33712       lstm_3[0][0]                     \n",
            "==================================================================================================\n",
            "Total params: 1,009,312\n",
            "Trainable params: 1,009,312\n",
            "Non-trainable params: 0\n",
            "__________________________________________________________________________________________________\n"
          ],
          "name": "stdout"
        }
      ]
    },
    {
      "cell_type": "code",
      "metadata": {
        "colab": {
          "base_uri": "https://localhost:8080/"
        },
        "id": "NdTpbHlvhHlB",
        "outputId": "dd3ed382-c394-4ad2-a0df-78b4709e8209"
      },
      "source": [
        "batch_size = 100\n",
        "epochs = 10\n",
        "# Run training\n",
        "model.compile(optimizer='rmsprop', loss='categorical_crossentropy', metrics= ['accuracy'])\n",
        "model.fit([encoder_input_data, decoder_input_data], decoder_target_data,\n",
        "          batch_size=batch_size,\n",
        "          epochs=epochs,\n",
        "          validation_split=0.2)"
      ],
      "execution_count": 71,
      "outputs": [
        {
          "output_type": "stream",
          "text": [
            "Epoch 1/10\n",
            "5/5 [==============================] - 19s 3s/step - loss: 3.3565 - accuracy: 0.5108 - val_loss: 0.4683 - val_accuracy: 0.9362\n",
            "Epoch 2/10\n",
            "5/5 [==============================] - 15s 3s/step - loss: 0.8529 - accuracy: 0.8730 - val_loss: 0.4641 - val_accuracy: 0.9363\n",
            "Epoch 3/10\n",
            "5/5 [==============================] - 15s 3s/step - loss: 0.8232 - accuracy: 0.8711 - val_loss: 0.4452 - val_accuracy: 0.9362\n",
            "Epoch 4/10\n",
            "5/5 [==============================] - 15s 3s/step - loss: 0.9245 - accuracy: 0.8522 - val_loss: 0.5565 - val_accuracy: 0.9142\n",
            "Epoch 5/10\n",
            "5/5 [==============================] - 15s 3s/step - loss: 0.8189 - accuracy: 0.8603 - val_loss: 0.4228 - val_accuracy: 0.9362\n",
            "Epoch 6/10\n",
            "5/5 [==============================] - 15s 3s/step - loss: 0.8252 - accuracy: 0.8724 - val_loss: 0.4203 - val_accuracy: 0.9360\n",
            "Epoch 7/10\n",
            "5/5 [==============================] - 15s 3s/step - loss: 0.7692 - accuracy: 0.8711 - val_loss: 0.4022 - val_accuracy: 0.9340\n",
            "Epoch 8/10\n",
            "5/5 [==============================] - 15s 3s/step - loss: 0.7341 - accuracy: 0.8708 - val_loss: 0.4763 - val_accuracy: 0.9353\n",
            "Epoch 9/10\n",
            "5/5 [==============================] - 15s 3s/step - loss: 0.6990 - accuracy: 0.8743 - val_loss: 0.3613 - val_accuracy: 0.9365\n",
            "Epoch 10/10\n",
            "5/5 [==============================] - 15s 3s/step - loss: 0.6500 - accuracy: 0.8740 - val_loss: 0.3666 - val_accuracy: 0.9365\n"
          ],
          "name": "stdout"
        },
        {
          "output_type": "execute_result",
          "data": {
            "text/plain": [
              "<tensorflow.python.keras.callbacks.History at 0x7f7e0c2460d0>"
            ]
          },
          "metadata": {
            "tags": []
          },
          "execution_count": 71
        }
      ]
    },
    {
      "cell_type": "code",
      "metadata": {
        "colab": {
          "base_uri": "https://localhost:8080/"
        },
        "id": "TNZ_lR-wmmLW",
        "outputId": "ebf32fa3-51ca-478f-b10f-6a1a2794b724"
      },
      "source": [
        "model.fit([encoder_input_data, decoder_input_data], decoder_target_data,\n",
        "          batch_size=batch_size,\n",
        "          epochs=20,\n",
        "          validation_split=0.2)"
      ],
      "execution_count": 105,
      "outputs": [
        {
          "output_type": "stream",
          "text": [
            "Epoch 1/20\n",
            "5/5 [==============================] - 16s 3s/step - loss: 0.6821 - accuracy: 0.8727 - val_loss: 0.3439 - val_accuracy: 0.9364\n",
            "Epoch 2/20\n",
            "5/5 [==============================] - 15s 3s/step - loss: 0.6548 - accuracy: 0.8724 - val_loss: 0.3384 - val_accuracy: 0.9366\n",
            "Epoch 3/20\n",
            "5/5 [==============================] - 15s 3s/step - loss: 0.6339 - accuracy: 0.8732 - val_loss: 0.3710 - val_accuracy: 0.9368\n",
            "Epoch 4/20\n",
            "5/5 [==============================] - 15s 3s/step - loss: 0.6423 - accuracy: 0.8732 - val_loss: 0.3306 - val_accuracy: 0.9374\n",
            "Epoch 5/20\n",
            "5/5 [==============================] - 15s 3s/step - loss: 0.6356 - accuracy: 0.8742 - val_loss: 0.4702 - val_accuracy: 0.9368\n",
            "Epoch 6/20\n",
            "5/5 [==============================] - 15s 3s/step - loss: 0.6522 - accuracy: 0.8740 - val_loss: 0.3207 - val_accuracy: 0.9366\n",
            "Epoch 7/20\n",
            "5/5 [==============================] - 15s 3s/step - loss: 0.6369 - accuracy: 0.8740 - val_loss: 0.3427 - val_accuracy: 0.9367\n",
            "Epoch 8/20\n",
            "5/5 [==============================] - 15s 3s/step - loss: 0.6785 - accuracy: 0.8744 - val_loss: 0.3729 - val_accuracy: 0.9368\n",
            "Epoch 9/20\n",
            "5/5 [==============================] - 15s 3s/step - loss: 0.6715 - accuracy: 0.8744 - val_loss: 0.3376 - val_accuracy: 0.9374\n",
            "Epoch 10/20\n",
            "5/5 [==============================] - 15s 3s/step - loss: 0.6147 - accuracy: 0.8744 - val_loss: 0.3224 - val_accuracy: 0.9368\n",
            "Epoch 11/20\n",
            "5/5 [==============================] - 15s 3s/step - loss: 0.5947 - accuracy: 0.8743 - val_loss: 0.3630 - val_accuracy: 0.9367\n",
            "Epoch 12/20\n",
            "5/5 [==============================] - 15s 3s/step - loss: 0.6205 - accuracy: 0.8748 - val_loss: 0.3157 - val_accuracy: 0.9370\n",
            "Epoch 13/20\n",
            "5/5 [==============================] - 15s 3s/step - loss: 0.5713 - accuracy: 0.8747 - val_loss: 0.2934 - val_accuracy: 0.9367\n",
            "Epoch 14/20\n",
            "5/5 [==============================] - 15s 3s/step - loss: 0.6317 - accuracy: 0.8753 - val_loss: 0.3312 - val_accuracy: 0.9374\n",
            "Epoch 15/20\n",
            "5/5 [==============================] - 15s 3s/step - loss: 0.5864 - accuracy: 0.8747 - val_loss: 0.3486 - val_accuracy: 0.9367\n",
            "Epoch 16/20\n",
            "5/5 [==============================] - 15s 3s/step - loss: 0.5636 - accuracy: 0.8754 - val_loss: 0.2929 - val_accuracy: 0.9367\n",
            "Epoch 17/20\n",
            "5/5 [==============================] - 15s 3s/step - loss: 0.5448 - accuracy: 0.8748 - val_loss: 0.3967 - val_accuracy: 0.9284\n",
            "Epoch 18/20\n",
            "5/5 [==============================] - 15s 3s/step - loss: 0.6483 - accuracy: 0.8732 - val_loss: 0.2896 - val_accuracy: 0.9371\n",
            "Epoch 19/20\n",
            "5/5 [==============================] - 15s 3s/step - loss: 0.5432 - accuracy: 0.8756 - val_loss: 0.2800 - val_accuracy: 0.9371\n",
            "Epoch 20/20\n",
            "5/5 [==============================] - 15s 3s/step - loss: 0.5329 - accuracy: 0.8759 - val_loss: 0.2724 - val_accuracy: 0.9374\n"
          ],
          "name": "stdout"
        },
        {
          "output_type": "execute_result",
          "data": {
            "text/plain": [
              "<tensorflow.python.keras.callbacks.History at 0x7f7e0750cc10>"
            ]
          },
          "metadata": {
            "tags": []
          },
          "execution_count": 105
        }
      ]
    },
    {
      "cell_type": "code",
      "metadata": {
        "colab": {
          "base_uri": "https://localhost:8080/"
        },
        "id": "QFTTylyCoBZY",
        "outputId": "4fd6c34f-ae41-48bb-8356-cf01d4b08a59"
      },
      "source": [
        "model.fit([encoder_input_data, decoder_input_data], decoder_target_data,\n",
        "          batch_size=batch_size,\n",
        "          epochs=50,\n",
        "          validation_split=0.2)"
      ],
      "execution_count": 110,
      "outputs": [
        {
          "output_type": "stream",
          "text": [
            "Epoch 1/50\n",
            "5/5 [==============================] - 15s 3s/step - loss: 0.5465 - accuracy: 0.8760 - val_loss: 0.2728 - val_accuracy: 0.9376\n",
            "Epoch 2/50\n",
            "5/5 [==============================] - 15s 3s/step - loss: 0.5214 - accuracy: 0.8764 - val_loss: 0.2658 - val_accuracy: 0.9373\n",
            "Epoch 3/50\n",
            "5/5 [==============================] - 15s 3s/step - loss: 0.5205 - accuracy: 0.8770 - val_loss: 0.3601 - val_accuracy: 0.9249\n",
            "Epoch 4/50\n",
            "5/5 [==============================] - 15s 3s/step - loss: 0.7577 - accuracy: 0.8761 - val_loss: 0.2787 - val_accuracy: 0.9383\n",
            "Epoch 5/50\n",
            "5/5 [==============================] - 15s 3s/step - loss: 0.5203 - accuracy: 0.8779 - val_loss: 0.2701 - val_accuracy: 0.9387\n",
            "Epoch 6/50\n",
            "5/5 [==============================] - 15s 3s/step - loss: 0.5092 - accuracy: 0.8782 - val_loss: 0.2602 - val_accuracy: 0.9387\n",
            "Epoch 7/50\n",
            "5/5 [==============================] - 15s 3s/step - loss: 0.5024 - accuracy: 0.8786 - val_loss: 0.2668 - val_accuracy: 0.9408\n",
            "Epoch 8/50\n",
            "5/5 [==============================] - 15s 3s/step - loss: 0.5000 - accuracy: 0.8810 - val_loss: 0.2492 - val_accuracy: 0.9385\n",
            "Epoch 9/50\n",
            "5/5 [==============================] - 15s 3s/step - loss: 0.4907 - accuracy: 0.8795 - val_loss: 0.2627 - val_accuracy: 0.9424\n",
            "Epoch 10/50\n",
            "5/5 [==============================] - 15s 3s/step - loss: 0.4932 - accuracy: 0.8845 - val_loss: 0.2430 - val_accuracy: 0.9415\n",
            "Epoch 11/50\n",
            "5/5 [==============================] - 15s 3s/step - loss: 0.4736 - accuracy: 0.8845 - val_loss: 0.2478 - val_accuracy: 0.9422\n",
            "Epoch 12/50\n",
            "5/5 [==============================] - 15s 3s/step - loss: 0.4730 - accuracy: 0.8838 - val_loss: 0.2357 - val_accuracy: 0.9408\n",
            "Epoch 13/50\n",
            "5/5 [==============================] - 15s 3s/step - loss: 0.6310 - accuracy: 0.8847 - val_loss: 0.2731 - val_accuracy: 0.9426\n",
            "Epoch 14/50\n",
            "5/5 [==============================] - 15s 3s/step - loss: 0.4704 - accuracy: 0.8874 - val_loss: 0.2495 - val_accuracy: 0.9450\n",
            "Epoch 15/50\n",
            "5/5 [==============================] - 15s 3s/step - loss: 0.4550 - accuracy: 0.8901 - val_loss: 0.2360 - val_accuracy: 0.9453\n",
            "Epoch 16/50\n",
            "5/5 [==============================] - 15s 3s/step - loss: 0.4461 - accuracy: 0.8903 - val_loss: 0.2379 - val_accuracy: 0.9476\n",
            "Epoch 17/50\n",
            "5/5 [==============================] - 15s 3s/step - loss: 0.4408 - accuracy: 0.8934 - val_loss: 0.2243 - val_accuracy: 0.9457\n",
            "Epoch 18/50\n",
            "5/5 [==============================] - 15s 3s/step - loss: 0.4340 - accuracy: 0.8940 - val_loss: 0.2231 - val_accuracy: 0.9500\n",
            "Epoch 19/50\n",
            "5/5 [==============================] - 15s 3s/step - loss: 0.4274 - accuracy: 0.8943 - val_loss: 0.2283 - val_accuracy: 0.9472\n",
            "Epoch 20/50\n",
            "5/5 [==============================] - 15s 3s/step - loss: 0.4244 - accuracy: 0.8952 - val_loss: 0.2135 - val_accuracy: 0.9468\n",
            "Epoch 21/50\n",
            "5/5 [==============================] - 15s 3s/step - loss: 0.4154 - accuracy: 0.8977 - val_loss: 0.2172 - val_accuracy: 0.9519\n",
            "Epoch 22/50\n",
            "5/5 [==============================] - 15s 3s/step - loss: 0.4105 - accuracy: 0.9009 - val_loss: 0.2079 - val_accuracy: 0.9471\n",
            "Epoch 23/50\n",
            "5/5 [==============================] - 15s 3s/step - loss: 0.4051 - accuracy: 0.8980 - val_loss: 0.2061 - val_accuracy: 0.9512\n",
            "Epoch 24/50\n",
            "5/5 [==============================] - 15s 3s/step - loss: 0.3946 - accuracy: 0.9034 - val_loss: 0.2057 - val_accuracy: 0.9489\n",
            "Epoch 25/50\n",
            "5/5 [==============================] - 15s 3s/step - loss: 0.3938 - accuracy: 0.9018 - val_loss: 0.1972 - val_accuracy: 0.9528\n",
            "Epoch 26/50\n",
            "5/5 [==============================] - 15s 3s/step - loss: 0.3888 - accuracy: 0.9031 - val_loss: 0.1956 - val_accuracy: 0.9518\n",
            "Epoch 27/50\n",
            "5/5 [==============================] - 15s 3s/step - loss: 0.3784 - accuracy: 0.9058 - val_loss: 0.1943 - val_accuracy: 0.9528\n",
            "Epoch 28/50\n",
            "5/5 [==============================] - 15s 3s/step - loss: 0.3743 - accuracy: 0.9061 - val_loss: 0.1917 - val_accuracy: 0.9530\n",
            "Epoch 29/50\n",
            "5/5 [==============================] - 15s 3s/step - loss: 0.3712 - accuracy: 0.9062 - val_loss: 0.1913 - val_accuracy: 0.9554\n",
            "Epoch 30/50\n",
            "5/5 [==============================] - 15s 3s/step - loss: 0.3687 - accuracy: 0.9083 - val_loss: 0.1909 - val_accuracy: 0.9518\n",
            "Epoch 31/50\n",
            "5/5 [==============================] - 15s 3s/step - loss: 0.5448 - accuracy: 0.9011 - val_loss: 0.2637 - val_accuracy: 0.9539\n",
            "Epoch 32/50\n",
            "5/5 [==============================] - 15s 3s/step - loss: 0.3713 - accuracy: 0.9087 - val_loss: 0.1902 - val_accuracy: 0.9554\n",
            "Epoch 33/50\n",
            "5/5 [==============================] - 15s 3s/step - loss: 0.3566 - accuracy: 0.9101 - val_loss: 0.1849 - val_accuracy: 0.9554\n",
            "Epoch 34/50\n",
            "5/5 [==============================] - 15s 3s/step - loss: 0.3521 - accuracy: 0.9111 - val_loss: 0.1828 - val_accuracy: 0.9553\n",
            "Epoch 35/50\n",
            "5/5 [==============================] - 15s 3s/step - loss: 0.3492 - accuracy: 0.9114 - val_loss: 0.1854 - val_accuracy: 0.9561\n",
            "Epoch 36/50\n",
            "5/5 [==============================] - 15s 3s/step - loss: 0.3476 - accuracy: 0.9117 - val_loss: 0.1805 - val_accuracy: 0.9563\n",
            "Epoch 37/50\n",
            "5/5 [==============================] - 15s 3s/step - loss: 0.3448 - accuracy: 0.9121 - val_loss: 0.1791 - val_accuracy: 0.9562\n",
            "Epoch 38/50\n",
            "5/5 [==============================] - 15s 3s/step - loss: 0.3413 - accuracy: 0.9129 - val_loss: 0.1793 - val_accuracy: 0.9545\n",
            "Epoch 39/50\n",
            "5/5 [==============================] - 15s 3s/step - loss: 0.3414 - accuracy: 0.9121 - val_loss: 0.1757 - val_accuracy: 0.9556\n",
            "Epoch 40/50\n",
            "5/5 [==============================] - 15s 3s/step - loss: 0.3369 - accuracy: 0.9129 - val_loss: 0.1754 - val_accuracy: 0.9556\n",
            "Epoch 41/50\n",
            "5/5 [==============================] - 15s 3s/step - loss: 0.3312 - accuracy: 0.9142 - val_loss: 0.1720 - val_accuracy: 0.9572\n",
            "Epoch 42/50\n",
            "5/5 [==============================] - 15s 3s/step - loss: 0.3359 - accuracy: 0.9134 - val_loss: 0.1724 - val_accuracy: 0.9562\n",
            "Epoch 43/50\n",
            "5/5 [==============================] - 15s 3s/step - loss: 0.3279 - accuracy: 0.9148 - val_loss: 0.1727 - val_accuracy: 0.9576\n",
            "Epoch 44/50\n",
            "5/5 [==============================] - 15s 3s/step - loss: 0.3269 - accuracy: 0.9147 - val_loss: 0.1730 - val_accuracy: 0.9567\n",
            "Epoch 45/50\n",
            "5/5 [==============================] - 15s 3s/step - loss: 0.3238 - accuracy: 0.9158 - val_loss: 0.1682 - val_accuracy: 0.9574\n",
            "Epoch 46/50\n",
            "5/5 [==============================] - 15s 3s/step - loss: 0.3213 - accuracy: 0.9157 - val_loss: 0.1709 - val_accuracy: 0.9579\n",
            "Epoch 47/50\n",
            "5/5 [==============================] - 15s 3s/step - loss: 0.3175 - accuracy: 0.9174 - val_loss: 0.1727 - val_accuracy: 0.9569\n",
            "Epoch 48/50\n",
            "5/5 [==============================] - 15s 3s/step - loss: 0.3178 - accuracy: 0.9163 - val_loss: 0.1675 - val_accuracy: 0.9583\n",
            "Epoch 49/50\n",
            "5/5 [==============================] - 15s 3s/step - loss: 0.3155 - accuracy: 0.9170 - val_loss: 0.1683 - val_accuracy: 0.9568\n",
            "Epoch 50/50\n",
            "5/5 [==============================] - 15s 3s/step - loss: 0.3123 - accuracy: 0.9178 - val_loss: 0.1663 - val_accuracy: 0.9587\n"
          ],
          "name": "stdout"
        },
        {
          "output_type": "execute_result",
          "data": {
            "text/plain": [
              "<tensorflow.python.keras.callbacks.History at 0x7f7e0c75ec10>"
            ]
          },
          "metadata": {
            "tags": []
          },
          "execution_count": 110
        }
      ]
    },
    {
      "cell_type": "code",
      "metadata": {
        "colab": {
          "base_uri": "https://localhost:8080/"
        },
        "id": "kukixPpZrcvJ",
        "outputId": "e9087da5-004e-40c3-af37-444a86cae154"
      },
      "source": [
        "model.fit([encoder_input_data, decoder_input_data], decoder_target_data,\n",
        "          batch_size=batch_size,\n",
        "          epochs=50,\n",
        "          validation_split=0.2)"
      ],
      "execution_count": 114,
      "outputs": [
        {
          "output_type": "stream",
          "text": [
            "Epoch 1/50\n",
            "5/5 [==============================] - 15s 3s/step - loss: 0.3093 - accuracy: 0.9184 - val_loss: 0.1647 - val_accuracy: 0.9575\n",
            "Epoch 2/50\n",
            "5/5 [==============================] - 15s 3s/step - loss: 0.3069 - accuracy: 0.9191 - val_loss: 0.1653 - val_accuracy: 0.9585\n",
            "Epoch 3/50\n",
            "5/5 [==============================] - 15s 3s/step - loss: 0.3043 - accuracy: 0.9192 - val_loss: 0.1636 - val_accuracy: 0.9587\n",
            "Epoch 4/50\n",
            "5/5 [==============================] - 15s 3s/step - loss: 0.3026 - accuracy: 0.9192 - val_loss: 0.1629 - val_accuracy: 0.9582\n",
            "Epoch 5/50\n",
            "5/5 [==============================] - 15s 3s/step - loss: 0.3008 - accuracy: 0.9200 - val_loss: 0.1661 - val_accuracy: 0.9576\n",
            "Epoch 6/50\n",
            "5/5 [==============================] - 15s 3s/step - loss: 0.3004 - accuracy: 0.9202 - val_loss: 0.1607 - val_accuracy: 0.9590\n",
            "Epoch 7/50\n",
            "5/5 [==============================] - 15s 3s/step - loss: 0.2958 - accuracy: 0.9207 - val_loss: 0.1609 - val_accuracy: 0.9593\n",
            "Epoch 8/50\n",
            "5/5 [==============================] - 15s 3s/step - loss: 0.2936 - accuracy: 0.9213 - val_loss: 0.1622 - val_accuracy: 0.9584\n",
            "Epoch 9/50\n",
            "5/5 [==============================] - 15s 3s/step - loss: 0.2952 - accuracy: 0.9206 - val_loss: 0.1629 - val_accuracy: 0.9592\n",
            "Epoch 10/50\n",
            "5/5 [==============================] - 15s 3s/step - loss: 0.2899 - accuracy: 0.9222 - val_loss: 0.1585 - val_accuracy: 0.9598\n",
            "Epoch 11/50\n",
            "5/5 [==============================] - 15s 3s/step - loss: 0.2894 - accuracy: 0.9218 - val_loss: 0.1591 - val_accuracy: 0.9587\n",
            "Epoch 12/50\n",
            "5/5 [==============================] - 15s 3s/step - loss: 0.2889 - accuracy: 0.9217 - val_loss: 0.1578 - val_accuracy: 0.9591\n",
            "Epoch 13/50\n",
            "5/5 [==============================] - 15s 3s/step - loss: 0.2849 - accuracy: 0.9228 - val_loss: 0.1577 - val_accuracy: 0.9592\n",
            "Epoch 14/50\n",
            "5/5 [==============================] - 15s 3s/step - loss: 0.2850 - accuracy: 0.9233 - val_loss: 0.1565 - val_accuracy: 0.9592\n",
            "Epoch 15/50\n",
            "5/5 [==============================] - 15s 3s/step - loss: 0.2801 - accuracy: 0.9238 - val_loss: 0.1566 - val_accuracy: 0.9594\n",
            "Epoch 16/50\n",
            "5/5 [==============================] - 15s 3s/step - loss: 0.2795 - accuracy: 0.9237 - val_loss: 0.1579 - val_accuracy: 0.9590\n",
            "Epoch 17/50\n",
            "5/5 [==============================] - 15s 3s/step - loss: 0.2810 - accuracy: 0.9236 - val_loss: 0.1545 - val_accuracy: 0.9593\n",
            "Epoch 18/50\n",
            "5/5 [==============================] - 15s 3s/step - loss: 0.2742 - accuracy: 0.9252 - val_loss: 0.1550 - val_accuracy: 0.9595\n",
            "Epoch 19/50\n",
            "5/5 [==============================] - 15s 3s/step - loss: 0.2758 - accuracy: 0.9245 - val_loss: 0.1542 - val_accuracy: 0.9606\n",
            "Epoch 20/50\n",
            "5/5 [==============================] - 15s 3s/step - loss: 0.2747 - accuracy: 0.9252 - val_loss: 0.1546 - val_accuracy: 0.9601\n",
            "Epoch 21/50\n",
            "5/5 [==============================] - 15s 3s/step - loss: 0.2710 - accuracy: 0.9255 - val_loss: 0.1547 - val_accuracy: 0.9590\n",
            "Epoch 22/50\n",
            "5/5 [==============================] - 15s 3s/step - loss: 0.2701 - accuracy: 0.9259 - val_loss: 0.1552 - val_accuracy: 0.9596\n",
            "Epoch 23/50\n",
            "5/5 [==============================] - 15s 3s/step - loss: 0.2667 - accuracy: 0.9261 - val_loss: 0.1531 - val_accuracy: 0.9608\n",
            "Epoch 24/50\n",
            "5/5 [==============================] - 15s 3s/step - loss: 0.2666 - accuracy: 0.9265 - val_loss: 0.1522 - val_accuracy: 0.9596\n",
            "Epoch 25/50\n",
            "5/5 [==============================] - 15s 3s/step - loss: 0.2659 - accuracy: 0.9271 - val_loss: 0.1535 - val_accuracy: 0.9606\n",
            "Epoch 26/50\n",
            "5/5 [==============================] - 15s 3s/step - loss: 0.2622 - accuracy: 0.9276 - val_loss: 0.1532 - val_accuracy: 0.9600\n",
            "Epoch 27/50\n",
            "5/5 [==============================] - 15s 3s/step - loss: 0.2619 - accuracy: 0.9269 - val_loss: 0.1535 - val_accuracy: 0.9598\n",
            "Epoch 28/50\n",
            "5/5 [==============================] - 15s 3s/step - loss: 0.2596 - accuracy: 0.9281 - val_loss: 0.1521 - val_accuracy: 0.9599\n",
            "Epoch 29/50\n",
            "5/5 [==============================] - 15s 3s/step - loss: 0.2577 - accuracy: 0.9283 - val_loss: 0.1526 - val_accuracy: 0.9597\n",
            "Epoch 30/50\n",
            "5/5 [==============================] - 15s 3s/step - loss: 0.2571 - accuracy: 0.9289 - val_loss: 0.1521 - val_accuracy: 0.9600\n",
            "Epoch 31/50\n",
            "5/5 [==============================] - 15s 3s/step - loss: 0.2567 - accuracy: 0.9286 - val_loss: 0.1546 - val_accuracy: 0.9597\n",
            "Epoch 32/50\n",
            "5/5 [==============================] - 15s 3s/step - loss: 0.2525 - accuracy: 0.9292 - val_loss: 0.1518 - val_accuracy: 0.9600\n",
            "Epoch 33/50\n",
            "5/5 [==============================] - 15s 3s/step - loss: 0.2509 - accuracy: 0.9299 - val_loss: 0.1514 - val_accuracy: 0.9602\n",
            "Epoch 34/50\n",
            "5/5 [==============================] - 15s 3s/step - loss: 0.2495 - accuracy: 0.9306 - val_loss: 0.1532 - val_accuracy: 0.9596\n",
            "Epoch 35/50\n",
            "5/5 [==============================] - 15s 3s/step - loss: 0.2476 - accuracy: 0.9310 - val_loss: 0.1534 - val_accuracy: 0.9599\n",
            "Epoch 36/50\n",
            "5/5 [==============================] - 15s 3s/step - loss: 0.2470 - accuracy: 0.9315 - val_loss: 0.1542 - val_accuracy: 0.9600\n",
            "Epoch 37/50\n",
            "5/5 [==============================] - 15s 3s/step - loss: 0.2450 - accuracy: 0.9315 - val_loss: 0.1534 - val_accuracy: 0.9603\n",
            "Epoch 38/50\n",
            "5/5 [==============================] - 15s 3s/step - loss: 0.2416 - accuracy: 0.9320 - val_loss: 0.1519 - val_accuracy: 0.9601\n",
            "Epoch 39/50\n",
            "5/5 [==============================] - 15s 3s/step - loss: 0.2414 - accuracy: 0.9327 - val_loss: 0.1521 - val_accuracy: 0.9601\n",
            "Epoch 40/50\n",
            "5/5 [==============================] - 15s 3s/step - loss: 0.2402 - accuracy: 0.9324 - val_loss: 0.1531 - val_accuracy: 0.9604\n",
            "Epoch 41/50\n",
            "5/5 [==============================] - 15s 3s/step - loss: 0.2367 - accuracy: 0.9336 - val_loss: 0.1511 - val_accuracy: 0.9602\n",
            "Epoch 42/50\n",
            "5/5 [==============================] - 15s 3s/step - loss: 0.2362 - accuracy: 0.9334 - val_loss: 0.1515 - val_accuracy: 0.9611\n",
            "Epoch 43/50\n",
            "5/5 [==============================] - 15s 3s/step - loss: 0.2343 - accuracy: 0.9337 - val_loss: 0.1530 - val_accuracy: 0.9601\n",
            "Epoch 44/50\n",
            "5/5 [==============================] - 15s 3s/step - loss: 0.2321 - accuracy: 0.9345 - val_loss: 0.1519 - val_accuracy: 0.9599\n",
            "Epoch 45/50\n",
            "5/5 [==============================] - 15s 3s/step - loss: 0.2321 - accuracy: 0.9349 - val_loss: 0.1520 - val_accuracy: 0.9604\n",
            "Epoch 46/50\n",
            "5/5 [==============================] - 15s 3s/step - loss: 0.2273 - accuracy: 0.9361 - val_loss: 0.1519 - val_accuracy: 0.9603\n",
            "Epoch 47/50\n",
            "5/5 [==============================] - 15s 3s/step - loss: 0.2261 - accuracy: 0.9367 - val_loss: 0.1525 - val_accuracy: 0.9604\n",
            "Epoch 48/50\n",
            "5/5 [==============================] - 15s 3s/step - loss: 0.2249 - accuracy: 0.9367 - val_loss: 0.1526 - val_accuracy: 0.9606\n",
            "Epoch 49/50\n",
            "5/5 [==============================] - 15s 3s/step - loss: 0.2254 - accuracy: 0.9363 - val_loss: 0.1524 - val_accuracy: 0.9601\n",
            "Epoch 50/50\n",
            "5/5 [==============================] - 15s 3s/step - loss: 0.2202 - accuracy: 0.9379 - val_loss: 0.1532 - val_accuracy: 0.9600\n"
          ],
          "name": "stdout"
        },
        {
          "output_type": "execute_result",
          "data": {
            "text/plain": [
              "<tensorflow.python.keras.callbacks.History at 0x7f7e06e73a90>"
            ]
          },
          "metadata": {
            "tags": []
          },
          "execution_count": 114
        }
      ]
    },
    {
      "cell_type": "code",
      "metadata": {
        "colab": {
          "base_uri": "https://localhost:8080/"
        },
        "id": "JFofnHfhu-Bn",
        "outputId": "b26955e4-43a9-41e6-8715-2bd088f477df"
      },
      "source": [
        "model.fit([encoder_input_data, decoder_input_data], decoder_target_data,\n",
        "          batch_size=batch_size,\n",
        "          epochs=50,\n",
        "          validation_split=0.2)"
      ],
      "execution_count": 122,
      "outputs": [
        {
          "output_type": "stream",
          "text": [
            "Epoch 1/50\n",
            "5/5 [==============================] - 15s 3s/step - loss: 0.2198 - accuracy: 0.9380 - val_loss: 0.1541 - val_accuracy: 0.9597\n",
            "Epoch 2/50\n",
            "5/5 [==============================] - 15s 3s/step - loss: 0.2198 - accuracy: 0.9379 - val_loss: 0.1544 - val_accuracy: 0.9599\n",
            "Epoch 3/50\n",
            "5/5 [==============================] - 15s 3s/step - loss: 0.2160 - accuracy: 0.9397 - val_loss: 0.1549 - val_accuracy: 0.9596\n",
            "Epoch 4/50\n",
            "5/5 [==============================] - 15s 3s/step - loss: 0.2135 - accuracy: 0.9394 - val_loss: 0.1551 - val_accuracy: 0.9601\n",
            "Epoch 5/50\n",
            "5/5 [==============================] - 15s 3s/step - loss: 0.2595 - accuracy: 0.9313 - val_loss: 0.1608 - val_accuracy: 0.9598\n",
            "Epoch 6/50\n",
            "5/5 [==============================] - 15s 3s/step - loss: 0.2397 - accuracy: 0.9328 - val_loss: 0.1538 - val_accuracy: 0.9600\n",
            "Epoch 7/50\n",
            "5/5 [==============================] - 15s 3s/step - loss: 0.2316 - accuracy: 0.9346 - val_loss: 0.1523 - val_accuracy: 0.9608\n",
            "Epoch 8/50\n",
            "5/5 [==============================] - 15s 3s/step - loss: 0.2280 - accuracy: 0.9353 - val_loss: 0.1505 - val_accuracy: 0.9604\n",
            "Epoch 9/50\n",
            "5/5 [==============================] - 15s 3s/step - loss: 0.2206 - accuracy: 0.9377 - val_loss: 0.1527 - val_accuracy: 0.9606\n",
            "Epoch 10/50\n",
            "5/5 [==============================] - 15s 3s/step - loss: 0.2221 - accuracy: 0.9370 - val_loss: 0.1514 - val_accuracy: 0.9601\n",
            "Epoch 11/50\n",
            "5/5 [==============================] - 15s 3s/step - loss: 0.2167 - accuracy: 0.9388 - val_loss: 0.1504 - val_accuracy: 0.9616\n",
            "Epoch 12/50\n",
            "5/5 [==============================] - 15s 3s/step - loss: 0.2137 - accuracy: 0.9396 - val_loss: 0.1554 - val_accuracy: 0.9601\n",
            "Epoch 13/50\n",
            "5/5 [==============================] - 15s 3s/step - loss: 0.2137 - accuracy: 0.9388 - val_loss: 0.1531 - val_accuracy: 0.9607\n",
            "Epoch 14/50\n",
            "5/5 [==============================] - 15s 3s/step - loss: 0.2064 - accuracy: 0.9416 - val_loss: 0.1535 - val_accuracy: 0.9600\n",
            "Epoch 15/50\n",
            "5/5 [==============================] - 15s 3s/step - loss: 0.2098 - accuracy: 0.9406 - val_loss: 0.1537 - val_accuracy: 0.9603\n",
            "Epoch 16/50\n",
            "5/5 [==============================] - 15s 3s/step - loss: 0.2045 - accuracy: 0.9420 - val_loss: 0.1524 - val_accuracy: 0.9602\n",
            "Epoch 17/50\n",
            "5/5 [==============================] - 15s 3s/step - loss: 0.2005 - accuracy: 0.9432 - val_loss: 0.1528 - val_accuracy: 0.9600\n",
            "Epoch 18/50\n",
            "5/5 [==============================] - 15s 3s/step - loss: 0.2024 - accuracy: 0.9426 - val_loss: 0.1527 - val_accuracy: 0.9599\n",
            "Epoch 19/50\n",
            "5/5 [==============================] - 15s 3s/step - loss: 0.1957 - accuracy: 0.9448 - val_loss: 0.1523 - val_accuracy: 0.9600\n",
            "Epoch 20/50\n",
            "5/5 [==============================] - 15s 3s/step - loss: 0.1954 - accuracy: 0.9449 - val_loss: 0.1556 - val_accuracy: 0.9600\n",
            "Epoch 21/50\n",
            "5/5 [==============================] - 15s 3s/step - loss: 0.1934 - accuracy: 0.9446 - val_loss: 0.1550 - val_accuracy: 0.9598\n",
            "Epoch 22/50\n",
            "5/5 [==============================] - 15s 3s/step - loss: 0.1894 - accuracy: 0.9462 - val_loss: 0.1551 - val_accuracy: 0.9597\n",
            "Epoch 23/50\n",
            "5/5 [==============================] - 15s 3s/step - loss: 0.1901 - accuracy: 0.9465 - val_loss: 0.1556 - val_accuracy: 0.9606\n",
            "Epoch 24/50\n",
            "5/5 [==============================] - 15s 3s/step - loss: 0.1886 - accuracy: 0.9467 - val_loss: 0.1550 - val_accuracy: 0.9596\n",
            "Epoch 25/50\n",
            "5/5 [==============================] - 15s 3s/step - loss: 0.1858 - accuracy: 0.9473 - val_loss: 0.1553 - val_accuracy: 0.9605\n",
            "Epoch 26/50\n",
            "5/5 [==============================] - 15s 3s/step - loss: 0.1828 - accuracy: 0.9487 - val_loss: 0.1565 - val_accuracy: 0.9600\n",
            "Epoch 27/50\n",
            "5/5 [==============================] - 15s 3s/step - loss: 0.1823 - accuracy: 0.9485 - val_loss: 0.1564 - val_accuracy: 0.9596\n",
            "Epoch 28/50\n",
            "5/5 [==============================] - 15s 3s/step - loss: 0.1795 - accuracy: 0.9494 - val_loss: 0.1567 - val_accuracy: 0.9597\n",
            "Epoch 29/50\n",
            "5/5 [==============================] - 15s 3s/step - loss: 0.1754 - accuracy: 0.9511 - val_loss: 0.1593 - val_accuracy: 0.9593\n",
            "Epoch 30/50\n",
            "5/5 [==============================] - 15s 3s/step - loss: 0.1744 - accuracy: 0.9511 - val_loss: 0.1587 - val_accuracy: 0.9598\n",
            "Epoch 31/50\n",
            "5/5 [==============================] - 15s 3s/step - loss: 0.1751 - accuracy: 0.9511 - val_loss: 0.1585 - val_accuracy: 0.9601\n",
            "Epoch 32/50\n",
            "5/5 [==============================] - 15s 3s/step - loss: 0.1719 - accuracy: 0.9524 - val_loss: 0.1594 - val_accuracy: 0.9603\n",
            "Epoch 33/50\n",
            "5/5 [==============================] - 15s 3s/step - loss: 0.1713 - accuracy: 0.9520 - val_loss: 0.1593 - val_accuracy: 0.9593\n",
            "Epoch 34/50\n",
            "5/5 [==============================] - 15s 3s/step - loss: 0.1681 - accuracy: 0.9531 - val_loss: 0.1606 - val_accuracy: 0.9596\n",
            "Epoch 35/50\n",
            "5/5 [==============================] - 15s 3s/step - loss: 0.1646 - accuracy: 0.9543 - val_loss: 0.1592 - val_accuracy: 0.9605\n",
            "Epoch 36/50\n",
            "5/5 [==============================] - 15s 3s/step - loss: 0.1664 - accuracy: 0.9534 - val_loss: 0.1603 - val_accuracy: 0.9598\n",
            "Epoch 37/50\n",
            "5/5 [==============================] - 15s 3s/step - loss: 0.1629 - accuracy: 0.9547 - val_loss: 0.1619 - val_accuracy: 0.9600\n",
            "Epoch 38/50\n",
            "5/5 [==============================] - 15s 3s/step - loss: 0.1598 - accuracy: 0.9558 - val_loss: 0.1609 - val_accuracy: 0.9599\n",
            "Epoch 39/50\n",
            "5/5 [==============================] - 15s 3s/step - loss: 0.1609 - accuracy: 0.9549 - val_loss: 0.1613 - val_accuracy: 0.9598\n",
            "Epoch 40/50\n",
            "5/5 [==============================] - 15s 3s/step - loss: 0.1569 - accuracy: 0.9565 - val_loss: 0.1620 - val_accuracy: 0.9594\n",
            "Epoch 41/50\n",
            "5/5 [==============================] - 15s 3s/step - loss: 0.1531 - accuracy: 0.9581 - val_loss: 0.1627 - val_accuracy: 0.9596\n",
            "Epoch 42/50\n",
            "5/5 [==============================] - 15s 3s/step - loss: 0.1548 - accuracy: 0.9570 - val_loss: 0.1618 - val_accuracy: 0.9599\n",
            "Epoch 43/50\n",
            "5/5 [==============================] - 15s 3s/step - loss: 0.1492 - accuracy: 0.9591 - val_loss: 0.1630 - val_accuracy: 0.9596\n",
            "Epoch 44/50\n",
            "5/5 [==============================] - 15s 3s/step - loss: 0.1508 - accuracy: 0.9582 - val_loss: 0.1646 - val_accuracy: 0.9594\n",
            "Epoch 45/50\n",
            "5/5 [==============================] - 15s 3s/step - loss: 0.1483 - accuracy: 0.9593 - val_loss: 0.1648 - val_accuracy: 0.9590\n",
            "Epoch 46/50\n",
            "5/5 [==============================] - 15s 3s/step - loss: 0.1477 - accuracy: 0.9592 - val_loss: 0.1654 - val_accuracy: 0.9596\n",
            "Epoch 47/50\n",
            "5/5 [==============================] - 15s 3s/step - loss: 0.1455 - accuracy: 0.9596 - val_loss: 0.1655 - val_accuracy: 0.9597\n",
            "Epoch 48/50\n",
            "5/5 [==============================] - 15s 3s/step - loss: 0.1413 - accuracy: 0.9616 - val_loss: 0.1652 - val_accuracy: 0.9596\n",
            "Epoch 49/50\n",
            "5/5 [==============================] - 15s 3s/step - loss: 0.1414 - accuracy: 0.9615 - val_loss: 0.1669 - val_accuracy: 0.9585\n",
            "Epoch 50/50\n",
            "5/5 [==============================] - 15s 3s/step - loss: 0.1391 - accuracy: 0.9622 - val_loss: 0.1668 - val_accuracy: 0.9588\n"
          ],
          "name": "stdout"
        },
        {
          "output_type": "execute_result",
          "data": {
            "text/plain": [
              "<tensorflow.python.keras.callbacks.History at 0x7f7e08194890>"
            ]
          },
          "metadata": {
            "tags": []
          },
          "execution_count": 122
        }
      ]
    },
    {
      "cell_type": "code",
      "metadata": {
        "colab": {
          "base_uri": "https://localhost:8080/"
        },
        "id": "c0gY9YzAyEDQ",
        "outputId": "60fb52b9-3a5c-48e5-cb37-6e879102e2f3"
      },
      "source": [
        "model.fit([encoder_input_data, decoder_input_data], decoder_target_data,\n",
        "          batch_size=batch_size,\n",
        "          epochs=100,\n",
        "          validation_split=0.2)"
      ],
      "execution_count": 130,
      "outputs": [
        {
          "output_type": "stream",
          "text": [
            "Epoch 1/100\n",
            "5/5 [==============================] - 15s 3s/step - loss: 0.1391 - accuracy: 0.9620 - val_loss: 0.1663 - val_accuracy: 0.9594\n",
            "Epoch 2/100\n",
            "5/5 [==============================] - 15s 3s/step - loss: 0.1354 - accuracy: 0.9632 - val_loss: 0.1682 - val_accuracy: 0.9591\n",
            "Epoch 3/100\n",
            "5/5 [==============================] - 15s 3s/step - loss: 0.1332 - accuracy: 0.9643 - val_loss: 0.1676 - val_accuracy: 0.9596\n",
            "Epoch 4/100\n",
            "5/5 [==============================] - 15s 3s/step - loss: 0.1351 - accuracy: 0.9632 - val_loss: 0.1697 - val_accuracy: 0.9595\n",
            "Epoch 5/100\n",
            "5/5 [==============================] - 15s 3s/step - loss: 0.1288 - accuracy: 0.9658 - val_loss: 0.1702 - val_accuracy: 0.9586\n",
            "Epoch 6/100\n",
            "5/5 [==============================] - 15s 3s/step - loss: 0.1308 - accuracy: 0.9650 - val_loss: 0.1703 - val_accuracy: 0.9588\n",
            "Epoch 7/100\n",
            "5/5 [==============================] - 15s 3s/step - loss: 0.1273 - accuracy: 0.9658 - val_loss: 0.1714 - val_accuracy: 0.9592\n",
            "Epoch 8/100\n",
            "5/5 [==============================] - 15s 3s/step - loss: 0.1284 - accuracy: 0.9655 - val_loss: 0.1698 - val_accuracy: 0.9597\n",
            "Epoch 9/100\n",
            "5/5 [==============================] - 15s 3s/step - loss: 0.1221 - accuracy: 0.9679 - val_loss: 0.1729 - val_accuracy: 0.9590\n",
            "Epoch 10/100\n",
            "5/5 [==============================] - 15s 3s/step - loss: 0.1271 - accuracy: 0.9656 - val_loss: 0.1740 - val_accuracy: 0.9589\n",
            "Epoch 11/100\n",
            "5/5 [==============================] - 15s 3s/step - loss: 0.1197 - accuracy: 0.9688 - val_loss: 0.1725 - val_accuracy: 0.9584\n",
            "Epoch 12/100\n",
            "5/5 [==============================] - 15s 3s/step - loss: 0.1190 - accuracy: 0.9689 - val_loss: 0.1736 - val_accuracy: 0.9588\n",
            "Epoch 13/100\n",
            "5/5 [==============================] - 15s 3s/step - loss: 0.1176 - accuracy: 0.9689 - val_loss: 0.1770 - val_accuracy: 0.9580\n",
            "Epoch 14/100\n",
            "5/5 [==============================] - 15s 3s/step - loss: 0.1166 - accuracy: 0.9692 - val_loss: 0.1751 - val_accuracy: 0.9585\n",
            "Epoch 15/100\n",
            "5/5 [==============================] - 15s 3s/step - loss: 0.1163 - accuracy: 0.9697 - val_loss: 0.1766 - val_accuracy: 0.9584\n",
            "Epoch 16/100\n",
            "5/5 [==============================] - 15s 3s/step - loss: 0.1135 - accuracy: 0.9703 - val_loss: 0.1765 - val_accuracy: 0.9585\n",
            "Epoch 17/100\n",
            "5/5 [==============================] - 15s 3s/step - loss: 0.1121 - accuracy: 0.9708 - val_loss: 0.1784 - val_accuracy: 0.9582\n",
            "Epoch 18/100\n",
            "5/5 [==============================] - 15s 3s/step - loss: 0.1155 - accuracy: 0.9695 - val_loss: 0.1768 - val_accuracy: 0.9586\n",
            "Epoch 19/100\n",
            "5/5 [==============================] - 15s 3s/step - loss: 0.1071 - accuracy: 0.9727 - val_loss: 0.1765 - val_accuracy: 0.9589\n",
            "Epoch 20/100\n",
            "5/5 [==============================] - 15s 3s/step - loss: 0.1065 - accuracy: 0.9726 - val_loss: 0.1781 - val_accuracy: 0.9591\n",
            "Epoch 21/100\n",
            "5/5 [==============================] - 15s 3s/step - loss: 0.1089 - accuracy: 0.9716 - val_loss: 0.1818 - val_accuracy: 0.9581\n",
            "Epoch 22/100\n",
            "5/5 [==============================] - 15s 3s/step - loss: 0.1066 - accuracy: 0.9727 - val_loss: 0.1774 - val_accuracy: 0.9585\n",
            "Epoch 23/100\n",
            "5/5 [==============================] - 15s 3s/step - loss: 0.1017 - accuracy: 0.9744 - val_loss: 0.1798 - val_accuracy: 0.9583\n",
            "Epoch 24/100\n",
            "5/5 [==============================] - 15s 3s/step - loss: 0.1025 - accuracy: 0.9741 - val_loss: 0.1806 - val_accuracy: 0.9589\n",
            "Epoch 25/100\n",
            "5/5 [==============================] - 15s 3s/step - loss: 0.1011 - accuracy: 0.9742 - val_loss: 0.1823 - val_accuracy: 0.9584\n",
            "Epoch 26/100\n",
            "5/5 [==============================] - 15s 3s/step - loss: 0.0991 - accuracy: 0.9750 - val_loss: 0.1834 - val_accuracy: 0.9578\n",
            "Epoch 27/100\n",
            "5/5 [==============================] - 15s 3s/step - loss: 0.0978 - accuracy: 0.9754 - val_loss: 0.1835 - val_accuracy: 0.9581\n",
            "Epoch 28/100\n",
            "5/5 [==============================] - 15s 3s/step - loss: 0.1007 - accuracy: 0.9742 - val_loss: 0.1836 - val_accuracy: 0.9588\n",
            "Epoch 29/100\n",
            "5/5 [==============================] - 15s 3s/step - loss: 0.0945 - accuracy: 0.9768 - val_loss: 0.1871 - val_accuracy: 0.9576\n",
            "Epoch 30/100\n",
            "5/5 [==============================] - 15s 3s/step - loss: 0.0966 - accuracy: 0.9757 - val_loss: 0.1834 - val_accuracy: 0.9589\n",
            "Epoch 31/100\n",
            "5/5 [==============================] - 15s 3s/step - loss: 0.0904 - accuracy: 0.9779 - val_loss: 0.1862 - val_accuracy: 0.9580\n",
            "Epoch 32/100\n",
            "5/5 [==============================] - 15s 3s/step - loss: 0.0924 - accuracy: 0.9767 - val_loss: 0.1862 - val_accuracy: 0.9586\n",
            "Epoch 33/100\n",
            "5/5 [==============================] - 15s 3s/step - loss: 0.0913 - accuracy: 0.9774 - val_loss: 0.1861 - val_accuracy: 0.9579\n",
            "Epoch 34/100\n",
            "5/5 [==============================] - 15s 3s/step - loss: 0.0893 - accuracy: 0.9784 - val_loss: 0.1869 - val_accuracy: 0.9585\n",
            "Epoch 35/100\n",
            "5/5 [==============================] - 15s 3s/step - loss: 0.1028 - accuracy: 0.9729 - val_loss: 0.1828 - val_accuracy: 0.9585\n",
            "Epoch 36/100\n",
            "5/5 [==============================] - 15s 3s/step - loss: 0.0901 - accuracy: 0.9779 - val_loss: 0.1867 - val_accuracy: 0.9583\n",
            "Epoch 37/100\n",
            "5/5 [==============================] - 15s 3s/step - loss: 0.0801 - accuracy: 0.9816 - val_loss: 0.1884 - val_accuracy: 0.9586\n",
            "Epoch 38/100\n",
            "5/5 [==============================] - 15s 3s/step - loss: 0.0805 - accuracy: 0.9814 - val_loss: 0.1917 - val_accuracy: 0.9583\n",
            "Epoch 39/100\n",
            "5/5 [==============================] - 15s 3s/step - loss: 0.0883 - accuracy: 0.9780 - val_loss: 0.1892 - val_accuracy: 0.9580\n",
            "Epoch 40/100\n",
            "5/5 [==============================] - 15s 3s/step - loss: 0.0813 - accuracy: 0.9807 - val_loss: 0.1916 - val_accuracy: 0.9577\n",
            "Epoch 41/100\n",
            "5/5 [==============================] - 15s 3s/step - loss: 0.0821 - accuracy: 0.9803 - val_loss: 0.1902 - val_accuracy: 0.9581\n",
            "Epoch 42/100\n",
            "5/5 [==============================] - 15s 3s/step - loss: 0.0811 - accuracy: 0.9807 - val_loss: 0.1912 - val_accuracy: 0.9575\n",
            "Epoch 43/100\n",
            "5/5 [==============================] - 15s 3s/step - loss: 0.0802 - accuracy: 0.9807 - val_loss: 0.1912 - val_accuracy: 0.9580\n",
            "Epoch 44/100\n",
            "5/5 [==============================] - 15s 3s/step - loss: 0.0802 - accuracy: 0.9808 - val_loss: 0.1916 - val_accuracy: 0.9576\n",
            "Epoch 45/100\n",
            "5/5 [==============================] - 15s 3s/step - loss: 0.0798 - accuracy: 0.9806 - val_loss: 0.1943 - val_accuracy: 0.9582\n",
            "Epoch 46/100\n",
            "5/5 [==============================] - 15s 3s/step - loss: 0.0764 - accuracy: 0.9820 - val_loss: 0.1933 - val_accuracy: 0.9585\n",
            "Epoch 47/100\n",
            "5/5 [==============================] - 15s 3s/step - loss: 0.0762 - accuracy: 0.9818 - val_loss: 0.1972 - val_accuracy: 0.9577\n",
            "Epoch 48/100\n",
            "5/5 [==============================] - 15s 3s/step - loss: 0.0751 - accuracy: 0.9822 - val_loss: 0.1944 - val_accuracy: 0.9584\n",
            "Epoch 49/100\n",
            "5/5 [==============================] - 15s 3s/step - loss: 0.0743 - accuracy: 0.9825 - val_loss: 0.1947 - val_accuracy: 0.9581\n",
            "Epoch 50/100\n",
            "5/5 [==============================] - 15s 3s/step - loss: 0.0708 - accuracy: 0.9837 - val_loss: 0.1998 - val_accuracy: 0.9575\n",
            "Epoch 51/100\n",
            "5/5 [==============================] - 15s 3s/step - loss: 0.0734 - accuracy: 0.9826 - val_loss: 0.1978 - val_accuracy: 0.9578\n",
            "Epoch 52/100\n",
            "5/5 [==============================] - 15s 3s/step - loss: 0.0751 - accuracy: 0.9819 - val_loss: 0.1938 - val_accuracy: 0.9593\n",
            "Epoch 53/100\n",
            "5/5 [==============================] - 15s 3s/step - loss: 0.0701 - accuracy: 0.9837 - val_loss: 0.1963 - val_accuracy: 0.9583\n",
            "Epoch 54/100\n",
            "5/5 [==============================] - 15s 3s/step - loss: 0.0690 - accuracy: 0.9839 - val_loss: 0.1996 - val_accuracy: 0.9579\n",
            "Epoch 55/100\n",
            "5/5 [==============================] - 15s 3s/step - loss: 0.0686 - accuracy: 0.9839 - val_loss: 0.1981 - val_accuracy: 0.9578\n",
            "Epoch 56/100\n",
            "5/5 [==============================] - 15s 3s/step - loss: 0.0658 - accuracy: 0.9852 - val_loss: 0.1990 - val_accuracy: 0.9582\n",
            "Epoch 57/100\n",
            "5/5 [==============================] - 15s 3s/step - loss: 0.0683 - accuracy: 0.9842 - val_loss: 0.1993 - val_accuracy: 0.9578\n",
            "Epoch 58/100\n",
            "5/5 [==============================] - 15s 3s/step - loss: 0.0670 - accuracy: 0.9846 - val_loss: 0.2030 - val_accuracy: 0.9578\n",
            "Epoch 59/100\n",
            "5/5 [==============================] - 15s 3s/step - loss: 0.0663 - accuracy: 0.9846 - val_loss: 0.2002 - val_accuracy: 0.9578\n",
            "Epoch 60/100\n",
            "5/5 [==============================] - 15s 3s/step - loss: 0.0622 - accuracy: 0.9860 - val_loss: 0.2012 - val_accuracy: 0.9580\n",
            "Epoch 61/100\n",
            "5/5 [==============================] - 15s 3s/step - loss: 0.0629 - accuracy: 0.9857 - val_loss: 0.2026 - val_accuracy: 0.9579\n",
            "Epoch 62/100\n",
            "5/5 [==============================] - 15s 3s/step - loss: 0.0658 - accuracy: 0.9842 - val_loss: 0.2033 - val_accuracy: 0.9582\n",
            "Epoch 63/100\n",
            "5/5 [==============================] - 15s 3s/step - loss: 0.0621 - accuracy: 0.9857 - val_loss: 0.2027 - val_accuracy: 0.9581\n",
            "Epoch 64/100\n",
            "5/5 [==============================] - 15s 3s/step - loss: 0.0642 - accuracy: 0.9847 - val_loss: 0.2047 - val_accuracy: 0.9580\n",
            "Epoch 65/100\n",
            "5/5 [==============================] - 15s 3s/step - loss: 0.0588 - accuracy: 0.9864 - val_loss: 0.2077 - val_accuracy: 0.9578\n",
            "Epoch 66/100\n",
            "5/5 [==============================] - 15s 3s/step - loss: 0.0623 - accuracy: 0.9856 - val_loss: 0.2045 - val_accuracy: 0.9576\n",
            "Epoch 67/100\n",
            "5/5 [==============================] - 15s 3s/step - loss: 0.0567 - accuracy: 0.9872 - val_loss: 0.2060 - val_accuracy: 0.9579\n",
            "Epoch 68/100\n",
            "5/5 [==============================] - 15s 3s/step - loss: 0.0563 - accuracy: 0.9872 - val_loss: 0.2112 - val_accuracy: 0.9567\n",
            "Epoch 69/100\n",
            "5/5 [==============================] - 15s 3s/step - loss: 0.0605 - accuracy: 0.9857 - val_loss: 0.2069 - val_accuracy: 0.9582\n",
            "Epoch 70/100\n",
            "5/5 [==============================] - 15s 3s/step - loss: 0.0536 - accuracy: 0.9882 - val_loss: 0.2092 - val_accuracy: 0.9574\n",
            "Epoch 71/100\n",
            "5/5 [==============================] - 15s 3s/step - loss: 0.0542 - accuracy: 0.9877 - val_loss: 0.2069 - val_accuracy: 0.9581\n",
            "Epoch 72/100\n",
            "5/5 [==============================] - 15s 3s/step - loss: 0.0603 - accuracy: 0.9856 - val_loss: 0.2095 - val_accuracy: 0.9575\n",
            "Epoch 73/100\n",
            "5/5 [==============================] - 15s 3s/step - loss: 0.0544 - accuracy: 0.9874 - val_loss: 0.2100 - val_accuracy: 0.9576\n",
            "Epoch 74/100\n",
            "5/5 [==============================] - 15s 3s/step - loss: 0.0527 - accuracy: 0.9880 - val_loss: 0.2124 - val_accuracy: 0.9581\n",
            "Epoch 75/100\n",
            "5/5 [==============================] - 15s 3s/step - loss: 0.0521 - accuracy: 0.9882 - val_loss: 0.2090 - val_accuracy: 0.9580\n",
            "Epoch 76/100\n",
            "5/5 [==============================] - 15s 3s/step - loss: 0.0544 - accuracy: 0.9874 - val_loss: 0.2143 - val_accuracy: 0.9580\n",
            "Epoch 77/100\n",
            "5/5 [==============================] - 15s 3s/step - loss: 0.0521 - accuracy: 0.9881 - val_loss: 0.2148 - val_accuracy: 0.9578\n",
            "Epoch 78/100\n",
            "5/5 [==============================] - 15s 3s/step - loss: 0.0511 - accuracy: 0.9884 - val_loss: 0.2154 - val_accuracy: 0.9577\n",
            "Epoch 79/100\n",
            "5/5 [==============================] - 15s 3s/step - loss: 0.0519 - accuracy: 0.9881 - val_loss: 0.2118 - val_accuracy: 0.9579\n",
            "Epoch 80/100\n",
            "5/5 [==============================] - 15s 3s/step - loss: 0.0473 - accuracy: 0.9892 - val_loss: 0.2155 - val_accuracy: 0.9575\n",
            "Epoch 81/100\n",
            "5/5 [==============================] - 15s 3s/step - loss: 0.0515 - accuracy: 0.9876 - val_loss: 0.2138 - val_accuracy: 0.9579\n",
            "Epoch 82/100\n",
            "5/5 [==============================] - 15s 3s/step - loss: 0.0491 - accuracy: 0.9887 - val_loss: 0.2155 - val_accuracy: 0.9576\n",
            "Epoch 83/100\n",
            "5/5 [==============================] - 15s 3s/step - loss: 0.0489 - accuracy: 0.9887 - val_loss: 0.2198 - val_accuracy: 0.9563\n",
            "Epoch 84/100\n",
            "5/5 [==============================] - 15s 3s/step - loss: 0.0552 - accuracy: 0.9867 - val_loss: 0.2145 - val_accuracy: 0.9585\n",
            "Epoch 85/100\n",
            "5/5 [==============================] - 15s 3s/step - loss: 0.0454 - accuracy: 0.9897 - val_loss: 0.2166 - val_accuracy: 0.9583\n",
            "Epoch 86/100\n",
            "5/5 [==============================] - 15s 3s/step - loss: 0.0431 - accuracy: 0.9899 - val_loss: 0.2201 - val_accuracy: 0.9574\n",
            "Epoch 87/100\n",
            "5/5 [==============================] - 15s 3s/step - loss: 0.0451 - accuracy: 0.9895 - val_loss: 0.2228 - val_accuracy: 0.9570\n",
            "Epoch 88/100\n",
            "5/5 [==============================] - 15s 3s/step - loss: 0.0506 - accuracy: 0.9876 - val_loss: 0.2166 - val_accuracy: 0.9580\n",
            "Epoch 89/100\n",
            "5/5 [==============================] - 15s 3s/step - loss: 0.0451 - accuracy: 0.9897 - val_loss: 0.2188 - val_accuracy: 0.9583\n",
            "Epoch 90/100\n",
            "5/5 [==============================] - 15s 3s/step - loss: 0.0432 - accuracy: 0.9899 - val_loss: 0.2232 - val_accuracy: 0.9571\n",
            "Epoch 91/100\n",
            "5/5 [==============================] - 15s 3s/step - loss: 0.0434 - accuracy: 0.9898 - val_loss: 0.2240 - val_accuracy: 0.9576\n",
            "Epoch 92/100\n",
            "5/5 [==============================] - 15s 3s/step - loss: 0.0473 - accuracy: 0.9886 - val_loss: 0.2187 - val_accuracy: 0.9572\n",
            "Epoch 93/100\n",
            "5/5 [==============================] - 15s 3s/step - loss: 0.0435 - accuracy: 0.9899 - val_loss: 0.2248 - val_accuracy: 0.9582\n",
            "Epoch 94/100\n",
            "5/5 [==============================] - 15s 3s/step - loss: 0.0432 - accuracy: 0.9898 - val_loss: 0.2240 - val_accuracy: 0.9577\n",
            "Epoch 95/100\n",
            "5/5 [==============================] - 15s 3s/step - loss: 0.0409 - accuracy: 0.9902 - val_loss: 0.2237 - val_accuracy: 0.9584\n",
            "Epoch 96/100\n",
            "5/5 [==============================] - 15s 3s/step - loss: 0.0456 - accuracy: 0.9892 - val_loss: 0.2224 - val_accuracy: 0.9574\n",
            "Epoch 97/100\n",
            "5/5 [==============================] - 15s 3s/step - loss: 0.0428 - accuracy: 0.9899 - val_loss: 0.2234 - val_accuracy: 0.9578\n",
            "Epoch 98/100\n",
            "5/5 [==============================] - 15s 3s/step - loss: 0.0397 - accuracy: 0.9904 - val_loss: 0.2224 - val_accuracy: 0.9579\n",
            "Epoch 99/100\n",
            "5/5 [==============================] - 15s 3s/step - loss: 0.0398 - accuracy: 0.9903 - val_loss: 0.2310 - val_accuracy: 0.9570\n",
            "Epoch 100/100\n",
            "5/5 [==============================] - 15s 3s/step - loss: 0.0435 - accuracy: 0.9895 - val_loss: 0.2210 - val_accuracy: 0.9573\n"
          ],
          "name": "stdout"
        },
        {
          "output_type": "execute_result",
          "data": {
            "text/plain": [
              "<tensorflow.python.keras.callbacks.History at 0x7f7e080cf350>"
            ]
          },
          "metadata": {
            "tags": []
          },
          "execution_count": 130
        }
      ]
    },
    {
      "cell_type": "code",
      "metadata": {
        "colab": {
          "base_uri": "https://localhost:8080/"
        },
        "id": "9vrQ5Sb_46-f",
        "outputId": "569b3c3b-c199-4269-e645-e1a4a49a4882"
      },
      "source": [
        "model.fit([encoder_input_data, decoder_input_data], decoder_target_data,\n",
        "          batch_size=batch_size,\n",
        "          epochs=30,\n",
        "          validation_split=0.2)"
      ],
      "execution_count": 136,
      "outputs": [
        {
          "output_type": "stream",
          "text": [
            "Epoch 1/30\n",
            "5/5 [==============================] - 15s 3s/step - loss: 0.0442 - accuracy: 0.9895 - val_loss: 0.2247 - val_accuracy: 0.9580\n",
            "Epoch 2/30\n",
            "5/5 [==============================] - 15s 3s/step - loss: 0.0380 - accuracy: 0.9907 - val_loss: 0.2254 - val_accuracy: 0.9577\n",
            "Epoch 3/30\n",
            "5/5 [==============================] - 15s 3s/step - loss: 0.0382 - accuracy: 0.9905 - val_loss: 0.2281 - val_accuracy: 0.9576\n",
            "Epoch 4/30\n",
            "5/5 [==============================] - 15s 3s/step - loss: 0.0400 - accuracy: 0.9904 - val_loss: 0.2327 - val_accuracy: 0.9570\n",
            "Epoch 5/30\n",
            "5/5 [==============================] - 15s 3s/step - loss: 0.0437 - accuracy: 0.9894 - val_loss: 0.2304 - val_accuracy: 0.9570\n",
            "Epoch 6/30\n",
            "5/5 [==============================] - 15s 3s/step - loss: 0.0390 - accuracy: 0.9906 - val_loss: 0.2275 - val_accuracy: 0.9577\n",
            "Epoch 7/30\n",
            "5/5 [==============================] - 15s 3s/step - loss: 0.0359 - accuracy: 0.9910 - val_loss: 0.2302 - val_accuracy: 0.9577\n",
            "Epoch 8/30\n",
            "5/5 [==============================] - 15s 3s/step - loss: 0.0371 - accuracy: 0.9908 - val_loss: 0.2319 - val_accuracy: 0.9575\n",
            "Epoch 9/30\n",
            "5/5 [==============================] - 15s 3s/step - loss: 0.0472 - accuracy: 0.9877 - val_loss: 0.2273 - val_accuracy: 0.9568\n",
            "Epoch 10/30\n",
            "5/5 [==============================] - 15s 3s/step - loss: 0.0398 - accuracy: 0.9901 - val_loss: 0.2292 - val_accuracy: 0.9579\n",
            "Epoch 11/30\n",
            "5/5 [==============================] - 15s 3s/step - loss: 0.0346 - accuracy: 0.9912 - val_loss: 0.2298 - val_accuracy: 0.9582\n",
            "Epoch 12/30\n",
            "5/5 [==============================] - 15s 3s/step - loss: 0.0338 - accuracy: 0.9912 - val_loss: 0.2351 - val_accuracy: 0.9574\n",
            "Epoch 13/30\n",
            "5/5 [==============================] - 15s 3s/step - loss: 0.0352 - accuracy: 0.9909 - val_loss: 0.2316 - val_accuracy: 0.9569\n",
            "Epoch 14/30\n",
            "5/5 [==============================] - 15s 3s/step - loss: 0.0360 - accuracy: 0.9908 - val_loss: 0.2378 - val_accuracy: 0.9567\n",
            "Epoch 15/30\n",
            "5/5 [==============================] - 15s 3s/step - loss: 0.0406 - accuracy: 0.9897 - val_loss: 0.2422 - val_accuracy: 0.9565\n",
            "Epoch 16/30\n",
            "5/5 [==============================] - 15s 3s/step - loss: 0.0505 - accuracy: 0.9867 - val_loss: 0.2280 - val_accuracy: 0.9572\n",
            "Epoch 17/30\n",
            "5/5 [==============================] - 15s 3s/step - loss: 0.0349 - accuracy: 0.9913 - val_loss: 0.2299 - val_accuracy: 0.9574\n",
            "Epoch 18/30\n",
            "5/5 [==============================] - 15s 3s/step - loss: 0.0329 - accuracy: 0.9913 - val_loss: 0.2327 - val_accuracy: 0.9576\n",
            "Epoch 19/30\n",
            "5/5 [==============================] - 15s 3s/step - loss: 0.0325 - accuracy: 0.9913 - val_loss: 0.2329 - val_accuracy: 0.9574\n",
            "Epoch 20/30\n",
            "5/5 [==============================] - 15s 3s/step - loss: 0.0327 - accuracy: 0.9912 - val_loss: 0.2402 - val_accuracy: 0.9571\n",
            "Epoch 21/30\n",
            "5/5 [==============================] - 15s 3s/step - loss: 0.0344 - accuracy: 0.9909 - val_loss: 0.2367 - val_accuracy: 0.9577\n",
            "Epoch 22/30\n",
            "5/5 [==============================] - 15s 3s/step - loss: 0.0347 - accuracy: 0.9911 - val_loss: 0.2356 - val_accuracy: 0.9581\n",
            "Epoch 23/30\n",
            "5/5 [==============================] - 15s 3s/step - loss: 0.0383 - accuracy: 0.9901 - val_loss: 0.2348 - val_accuracy: 0.9569\n",
            "Epoch 24/30\n",
            "5/5 [==============================] - 15s 3s/step - loss: 0.0396 - accuracy: 0.9901 - val_loss: 0.2356 - val_accuracy: 0.9576\n",
            "Epoch 25/30\n",
            "5/5 [==============================] - 15s 3s/step - loss: 0.0322 - accuracy: 0.9913 - val_loss: 0.2363 - val_accuracy: 0.9577\n",
            "Epoch 26/30\n",
            "5/5 [==============================] - 15s 3s/step - loss: 0.0315 - accuracy: 0.9916 - val_loss: 0.2388 - val_accuracy: 0.9576\n",
            "Epoch 27/30\n",
            "5/5 [==============================] - 15s 3s/step - loss: 0.0327 - accuracy: 0.9912 - val_loss: 0.2408 - val_accuracy: 0.9570\n",
            "Epoch 28/30\n",
            "5/5 [==============================] - 15s 3s/step - loss: 0.0354 - accuracy: 0.9905 - val_loss: 0.2368 - val_accuracy: 0.9571\n",
            "Epoch 29/30\n",
            "5/5 [==============================] - 15s 3s/step - loss: 0.0343 - accuracy: 0.9911 - val_loss: 0.2398 - val_accuracy: 0.9570\n",
            "Epoch 30/30\n",
            "5/5 [==============================] - 15s 3s/step - loss: 0.0326 - accuracy: 0.9913 - val_loss: 0.2382 - val_accuracy: 0.9576\n"
          ],
          "name": "stdout"
        },
        {
          "output_type": "execute_result",
          "data": {
            "text/plain": [
              "<tensorflow.python.keras.callbacks.History at 0x7f7e07377e90>"
            ]
          },
          "metadata": {
            "tags": []
          },
          "execution_count": 136
        }
      ]
    },
    {
      "cell_type": "code",
      "metadata": {
        "colab": {
          "base_uri": "https://localhost:8080/"
        },
        "id": "zUjRMOOc7Gnm",
        "outputId": "17869af7-9292-4df8-c55a-f8e27f2e894d"
      },
      "source": [
        "model.fit([encoder_input_data, decoder_input_data], decoder_target_data,\n",
        "          batch_size=batch_size,\n",
        "          epochs=50,\n",
        "          validation_split=0.2)"
      ],
      "execution_count": 143,
      "outputs": [
        {
          "output_type": "stream",
          "text": [
            "Epoch 1/50\n",
            "5/5 [==============================] - 15s 3s/step - loss: 0.0316 - accuracy: 0.9915 - val_loss: 0.2456 - val_accuracy: 0.9571\n",
            "Epoch 2/50\n",
            "5/5 [==============================] - 15s 3s/step - loss: 0.0447 - accuracy: 0.9879 - val_loss: 0.2370 - val_accuracy: 0.9574\n",
            "Epoch 3/50\n",
            "5/5 [==============================] - 15s 3s/step - loss: 0.0372 - accuracy: 0.9902 - val_loss: 0.2390 - val_accuracy: 0.9576\n",
            "Epoch 4/50\n",
            "5/5 [==============================] - 15s 3s/step - loss: 0.0305 - accuracy: 0.9916 - val_loss: 0.2398 - val_accuracy: 0.9581\n",
            "Epoch 5/50\n",
            "5/5 [==============================] - 15s 3s/step - loss: 0.0299 - accuracy: 0.9915 - val_loss: 0.2422 - val_accuracy: 0.9572\n",
            "Epoch 6/50\n",
            "5/5 [==============================] - 15s 3s/step - loss: 0.0300 - accuracy: 0.9915 - val_loss: 0.2452 - val_accuracy: 0.9572\n",
            "Epoch 7/50\n",
            "5/5 [==============================] - 15s 3s/step - loss: 0.0308 - accuracy: 0.9913 - val_loss: 0.2459 - val_accuracy: 0.9571\n",
            "Epoch 8/50\n",
            "5/5 [==============================] - 15s 3s/step - loss: 0.0317 - accuracy: 0.9913 - val_loss: 0.2482 - val_accuracy: 0.9573\n",
            "Epoch 9/50\n",
            "5/5 [==============================] - 15s 3s/step - loss: 0.0337 - accuracy: 0.9910 - val_loss: 0.2449 - val_accuracy: 0.9573\n",
            "Epoch 10/50\n",
            "5/5 [==============================] - 15s 3s/step - loss: 0.0351 - accuracy: 0.9909 - val_loss: 0.2440 - val_accuracy: 0.9572\n",
            "Epoch 11/50\n",
            "5/5 [==============================] - 15s 3s/step - loss: 0.0303 - accuracy: 0.9916 - val_loss: 0.2445 - val_accuracy: 0.9577\n",
            "Epoch 12/50\n",
            "5/5 [==============================] - 15s 3s/step - loss: 0.0294 - accuracy: 0.9915 - val_loss: 0.2458 - val_accuracy: 0.9573\n",
            "Epoch 13/50\n",
            "5/5 [==============================] - 15s 3s/step - loss: 0.0307 - accuracy: 0.9913 - val_loss: 0.2429 - val_accuracy: 0.9577\n",
            "Epoch 14/50\n",
            "5/5 [==============================] - 15s 3s/step - loss: 0.0312 - accuracy: 0.9914 - val_loss: 0.2517 - val_accuracy: 0.9568\n",
            "Epoch 15/50\n",
            "5/5 [==============================] - 15s 3s/step - loss: 0.0323 - accuracy: 0.9914 - val_loss: 0.2453 - val_accuracy: 0.9576\n",
            "Epoch 16/50\n",
            "5/5 [==============================] - 15s 3s/step - loss: 0.0322 - accuracy: 0.9912 - val_loss: 0.2457 - val_accuracy: 0.9576\n",
            "Epoch 17/50\n",
            "5/5 [==============================] - 15s 3s/step - loss: 0.0297 - accuracy: 0.9915 - val_loss: 0.2512 - val_accuracy: 0.9565\n",
            "Epoch 18/50\n",
            "5/5 [==============================] - 15s 3s/step - loss: 0.0295 - accuracy: 0.9914 - val_loss: 0.2505 - val_accuracy: 0.9570\n",
            "Epoch 19/50\n",
            "5/5 [==============================] - 15s 3s/step - loss: 0.0309 - accuracy: 0.9913 - val_loss: 0.2492 - val_accuracy: 0.9570\n",
            "Epoch 20/50\n",
            "5/5 [==============================] - 15s 3s/step - loss: 0.0311 - accuracy: 0.9913 - val_loss: 0.2463 - val_accuracy: 0.9575\n",
            "Epoch 21/50\n",
            "5/5 [==============================] - 15s 3s/step - loss: 0.0351 - accuracy: 0.9905 - val_loss: 0.2438 - val_accuracy: 0.9578\n",
            "Epoch 22/50\n",
            "5/5 [==============================] - 15s 3s/step - loss: 0.0327 - accuracy: 0.9911 - val_loss: 0.2460 - val_accuracy: 0.9570\n",
            "Epoch 23/50\n",
            "5/5 [==============================] - 15s 3s/step - loss: 0.0289 - accuracy: 0.9915 - val_loss: 0.2489 - val_accuracy: 0.9573\n",
            "Epoch 24/50\n",
            "5/5 [==============================] - 15s 3s/step - loss: 0.0280 - accuracy: 0.9918 - val_loss: 0.2504 - val_accuracy: 0.9570\n",
            "Epoch 25/50\n",
            "5/5 [==============================] - 15s 3s/step - loss: 0.0283 - accuracy: 0.9916 - val_loss: 0.2499 - val_accuracy: 0.9574\n",
            "Epoch 26/50\n",
            "5/5 [==============================] - 15s 3s/step - loss: 0.0287 - accuracy: 0.9914 - val_loss: 0.2536 - val_accuracy: 0.9573\n",
            "Epoch 27/50\n",
            "5/5 [==============================] - 15s 3s/step - loss: 0.0296 - accuracy: 0.9914 - val_loss: 0.2520 - val_accuracy: 0.9577\n",
            "Epoch 28/50\n",
            "5/5 [==============================] - 15s 3s/step - loss: 0.0320 - accuracy: 0.9913 - val_loss: 0.2501 - val_accuracy: 0.9573\n",
            "Epoch 29/50\n",
            "5/5 [==============================] - 15s 3s/step - loss: 0.0345 - accuracy: 0.9907 - val_loss: 0.2456 - val_accuracy: 0.9576\n",
            "Epoch 30/50\n",
            "5/5 [==============================] - 15s 3s/step - loss: 0.0295 - accuracy: 0.9916 - val_loss: 0.2506 - val_accuracy: 0.9571\n",
            "Epoch 31/50\n",
            "5/5 [==============================] - 15s 3s/step - loss: 0.0277 - accuracy: 0.9917 - val_loss: 0.2512 - val_accuracy: 0.9572\n",
            "Epoch 32/50\n",
            "5/5 [==============================] - 15s 3s/step - loss: 0.0276 - accuracy: 0.9915 - val_loss: 0.2513 - val_accuracy: 0.9574\n",
            "Epoch 33/50\n",
            "5/5 [==============================] - 15s 3s/step - loss: 0.0275 - accuracy: 0.9916 - val_loss: 0.2544 - val_accuracy: 0.9568\n",
            "Epoch 34/50\n",
            "5/5 [==============================] - 15s 3s/step - loss: 0.0275 - accuracy: 0.9917 - val_loss: 0.2561 - val_accuracy: 0.9571\n",
            "Epoch 35/50\n",
            "5/5 [==============================] - 15s 3s/step - loss: 0.0292 - accuracy: 0.9913 - val_loss: 0.2550 - val_accuracy: 0.9570\n",
            "Epoch 36/50\n",
            "5/5 [==============================] - 15s 3s/step - loss: 0.0353 - accuracy: 0.9902 - val_loss: 0.2500 - val_accuracy: 0.9573\n",
            "Epoch 37/50\n",
            "5/5 [==============================] - 15s 3s/step - loss: 0.0334 - accuracy: 0.9907 - val_loss: 0.2515 - val_accuracy: 0.9572\n",
            "Epoch 38/50\n",
            "5/5 [==============================] - 15s 3s/step - loss: 0.0278 - accuracy: 0.9919 - val_loss: 0.2527 - val_accuracy: 0.9574\n",
            "Epoch 39/50\n",
            "5/5 [==============================] - 15s 3s/step - loss: 0.0268 - accuracy: 0.9918 - val_loss: 0.2558 - val_accuracy: 0.9568\n",
            "Epoch 40/50\n",
            "5/5 [==============================] - 15s 3s/step - loss: 0.0267 - accuracy: 0.9917 - val_loss: 0.2575 - val_accuracy: 0.9565\n",
            "Epoch 41/50\n",
            "5/5 [==============================] - 15s 3s/step - loss: 0.0272 - accuracy: 0.9917 - val_loss: 0.2576 - val_accuracy: 0.9571\n",
            "Epoch 42/50\n",
            "5/5 [==============================] - 15s 3s/step - loss: 0.0279 - accuracy: 0.9914 - val_loss: 0.2572 - val_accuracy: 0.9567\n",
            "Epoch 43/50\n",
            "5/5 [==============================] - 15s 3s/step - loss: 0.0281 - accuracy: 0.9914 - val_loss: 0.2588 - val_accuracy: 0.9579\n",
            "Epoch 44/50\n",
            "5/5 [==============================] - 15s 3s/step - loss: 0.0297 - accuracy: 0.9914 - val_loss: 0.2543 - val_accuracy: 0.9562\n",
            "Epoch 45/50\n",
            "5/5 [==============================] - 15s 3s/step - loss: 0.0328 - accuracy: 0.9909 - val_loss: 0.2557 - val_accuracy: 0.9571\n",
            "Epoch 46/50\n",
            "5/5 [==============================] - 15s 3s/step - loss: 0.0278 - accuracy: 0.9918 - val_loss: 0.2557 - val_accuracy: 0.9576\n",
            "Epoch 47/50\n",
            "5/5 [==============================] - 15s 3s/step - loss: 0.0266 - accuracy: 0.9918 - val_loss: 0.2591 - val_accuracy: 0.9574\n",
            "Epoch 48/50\n",
            "5/5 [==============================] - 15s 3s/step - loss: 0.0266 - accuracy: 0.9917 - val_loss: 0.2607 - val_accuracy: 0.9573\n",
            "Epoch 49/50\n",
            "5/5 [==============================] - 15s 3s/step - loss: 0.0271 - accuracy: 0.9916 - val_loss: 0.2616 - val_accuracy: 0.9567\n",
            "Epoch 50/50\n",
            "5/5 [==============================] - 15s 3s/step - loss: 0.0273 - accuracy: 0.9915 - val_loss: 0.2631 - val_accuracy: 0.9571\n"
          ],
          "name": "stdout"
        },
        {
          "output_type": "execute_result",
          "data": {
            "text/plain": [
              "<tensorflow.python.keras.callbacks.History at 0x7f7e081d6810>"
            ]
          },
          "metadata": {
            "tags": []
          },
          "execution_count": 143
        }
      ]
    },
    {
      "cell_type": "code",
      "metadata": {
        "colab": {
          "base_uri": "https://localhost:8080/"
        },
        "id": "F4xC36F_-YgQ",
        "outputId": "1125d141-f6c5-40bc-cbe4-c5fdb411ba2e"
      },
      "source": [
        "model.fit([encoder_input_data, decoder_input_data], decoder_target_data,\n",
        "          batch_size=batch_size,\n",
        "          epochs=100,\n",
        "          validation_split=0.2)"
      ],
      "execution_count": 151,
      "outputs": [
        {
          "output_type": "stream",
          "text": [
            "Epoch 1/100\n",
            "5/5 [==============================] - 15s 3s/step - loss: 0.0275 - accuracy: 0.9917 - val_loss: 0.2642 - val_accuracy: 0.9568\n",
            "Epoch 2/100\n",
            "5/5 [==============================] - 15s 3s/step - loss: 0.0334 - accuracy: 0.9902 - val_loss: 0.2596 - val_accuracy: 0.9565\n",
            "Epoch 3/100\n",
            "5/5 [==============================] - 15s 3s/step - loss: 0.0337 - accuracy: 0.9903 - val_loss: 0.2575 - val_accuracy: 0.9570\n",
            "Epoch 4/100\n",
            "5/5 [==============================] - 15s 3s/step - loss: 0.0272 - accuracy: 0.9918 - val_loss: 0.2585 - val_accuracy: 0.9572\n",
            "Epoch 5/100\n",
            "5/5 [==============================] - 15s 3s/step - loss: 0.0262 - accuracy: 0.9919 - val_loss: 0.2583 - val_accuracy: 0.9574\n",
            "Epoch 6/100\n",
            "5/5 [==============================] - 15s 3s/step - loss: 0.0261 - accuracy: 0.9917 - val_loss: 0.2607 - val_accuracy: 0.9567\n",
            "Epoch 7/100\n",
            "5/5 [==============================] - 15s 3s/step - loss: 0.0261 - accuracy: 0.9916 - val_loss: 0.2614 - val_accuracy: 0.9574\n",
            "Epoch 8/100\n",
            "5/5 [==============================] - 15s 3s/step - loss: 0.0266 - accuracy: 0.9917 - val_loss: 0.2630 - val_accuracy: 0.9566\n",
            "Epoch 9/100\n",
            "5/5 [==============================] - 15s 3s/step - loss: 0.0264 - accuracy: 0.9917 - val_loss: 0.2688 - val_accuracy: 0.9573\n",
            "Epoch 10/100\n",
            "5/5 [==============================] - 15s 3s/step - loss: 0.0268 - accuracy: 0.9916 - val_loss: 0.2665 - val_accuracy: 0.9568\n",
            "Epoch 11/100\n",
            "5/5 [==============================] - 15s 3s/step - loss: 0.0270 - accuracy: 0.9916 - val_loss: 0.2667 - val_accuracy: 0.9564\n",
            "Epoch 12/100\n",
            "5/5 [==============================] - 15s 3s/step - loss: 0.0272 - accuracy: 0.9917 - val_loss: 0.2630 - val_accuracy: 0.9577\n",
            "Epoch 13/100\n",
            "5/5 [==============================] - 15s 3s/step - loss: 0.0278 - accuracy: 0.9916 - val_loss: 0.2628 - val_accuracy: 0.9573\n",
            "Epoch 14/100\n",
            "5/5 [==============================] - 15s 3s/step - loss: 0.0268 - accuracy: 0.9916 - val_loss: 0.2679 - val_accuracy: 0.9573\n",
            "Epoch 15/100\n",
            "5/5 [==============================] - 15s 3s/step - loss: 0.0272 - accuracy: 0.9916 - val_loss: 0.2624 - val_accuracy: 0.9574\n",
            "Epoch 16/100\n",
            "5/5 [==============================] - 15s 3s/step - loss: 0.0263 - accuracy: 0.9917 - val_loss: 0.2665 - val_accuracy: 0.9574\n",
            "Epoch 17/100\n",
            "5/5 [==============================] - 15s 3s/step - loss: 0.0269 - accuracy: 0.9917 - val_loss: 0.2649 - val_accuracy: 0.9566\n",
            "Epoch 18/100\n",
            "5/5 [==============================] - 15s 3s/step - loss: 0.0266 - accuracy: 0.9917 - val_loss: 0.2676 - val_accuracy: 0.9566\n",
            "Epoch 19/100\n",
            "5/5 [==============================] - 15s 3s/step - loss: 0.0356 - accuracy: 0.9893 - val_loss: 0.2557 - val_accuracy: 0.9571\n",
            "Epoch 20/100\n",
            "5/5 [==============================] - 15s 3s/step - loss: 0.0307 - accuracy: 0.9911 - val_loss: 0.2609 - val_accuracy: 0.9571\n",
            "Epoch 21/100\n",
            "5/5 [==============================] - 15s 3s/step - loss: 0.0256 - accuracy: 0.9920 - val_loss: 0.2616 - val_accuracy: 0.9573\n",
            "Epoch 22/100\n",
            "5/5 [==============================] - 15s 3s/step - loss: 0.0251 - accuracy: 0.9920 - val_loss: 0.2629 - val_accuracy: 0.9572\n",
            "Epoch 23/100\n",
            "5/5 [==============================] - 15s 3s/step - loss: 0.0250 - accuracy: 0.9920 - val_loss: 0.2636 - val_accuracy: 0.9565\n",
            "Epoch 24/100\n",
            "5/5 [==============================] - 15s 3s/step - loss: 0.0251 - accuracy: 0.9920 - val_loss: 0.2651 - val_accuracy: 0.9572\n",
            "Epoch 25/100\n",
            "5/5 [==============================] - 15s 3s/step - loss: 0.0253 - accuracy: 0.9918 - val_loss: 0.2662 - val_accuracy: 0.9570\n",
            "Epoch 26/100\n",
            "5/5 [==============================] - 15s 3s/step - loss: 0.0255 - accuracy: 0.9917 - val_loss: 0.2692 - val_accuracy: 0.9562\n",
            "Epoch 27/100\n",
            "5/5 [==============================] - 15s 3s/step - loss: 0.0262 - accuracy: 0.9916 - val_loss: 0.2665 - val_accuracy: 0.9577\n",
            "Epoch 28/100\n",
            "5/5 [==============================] - 15s 3s/step - loss: 0.0264 - accuracy: 0.9916 - val_loss: 0.2706 - val_accuracy: 0.9568\n",
            "Epoch 29/100\n",
            "5/5 [==============================] - 15s 3s/step - loss: 0.0262 - accuracy: 0.9916 - val_loss: 0.2693 - val_accuracy: 0.9570\n",
            "Epoch 30/100\n",
            "5/5 [==============================] - 15s 3s/step - loss: 0.0263 - accuracy: 0.9919 - val_loss: 0.2663 - val_accuracy: 0.9574\n",
            "Epoch 31/100\n",
            "5/5 [==============================] - 15s 3s/step - loss: 0.0270 - accuracy: 0.9917 - val_loss: 0.2665 - val_accuracy: 0.9568\n",
            "Epoch 32/100\n",
            "5/5 [==============================] - 15s 3s/step - loss: 0.0348 - accuracy: 0.9895 - val_loss: 0.2612 - val_accuracy: 0.9573\n",
            "Epoch 33/100\n",
            "5/5 [==============================] - 15s 3s/step - loss: 0.0289 - accuracy: 0.9911 - val_loss: 0.2658 - val_accuracy: 0.9569\n",
            "Epoch 34/100\n",
            "5/5 [==============================] - 15s 3s/step - loss: 0.0259 - accuracy: 0.9918 - val_loss: 0.2670 - val_accuracy: 0.9568\n",
            "Epoch 35/100\n",
            "5/5 [==============================] - 15s 3s/step - loss: 0.0250 - accuracy: 0.9920 - val_loss: 0.2674 - val_accuracy: 0.9569\n",
            "Epoch 36/100\n",
            "5/5 [==============================] - 15s 3s/step - loss: 0.0249 - accuracy: 0.9919 - val_loss: 0.2690 - val_accuracy: 0.9571\n",
            "Epoch 37/100\n",
            "5/5 [==============================] - 15s 3s/step - loss: 0.0250 - accuracy: 0.9918 - val_loss: 0.2682 - val_accuracy: 0.9571\n",
            "Epoch 38/100\n",
            "5/5 [==============================] - 15s 3s/step - loss: 0.0250 - accuracy: 0.9918 - val_loss: 0.2732 - val_accuracy: 0.9570\n",
            "Epoch 39/100\n",
            "5/5 [==============================] - 15s 3s/step - loss: 0.0253 - accuracy: 0.9918 - val_loss: 0.2687 - val_accuracy: 0.9567\n",
            "Epoch 40/100\n",
            "5/5 [==============================] - 15s 3s/step - loss: 0.0256 - accuracy: 0.9916 - val_loss: 0.2736 - val_accuracy: 0.9566\n",
            "Epoch 41/100\n",
            "5/5 [==============================] - 15s 3s/step - loss: 0.0262 - accuracy: 0.9916 - val_loss: 0.2714 - val_accuracy: 0.9573\n",
            "Epoch 42/100\n",
            "5/5 [==============================] - 15s 3s/step - loss: 0.0258 - accuracy: 0.9916 - val_loss: 0.2784 - val_accuracy: 0.9566\n",
            "Epoch 43/100\n",
            "5/5 [==============================] - 15s 3s/step - loss: 0.0264 - accuracy: 0.9916 - val_loss: 0.2731 - val_accuracy: 0.9565\n",
            "Epoch 44/100\n",
            "5/5 [==============================] - 15s 3s/step - loss: 0.0285 - accuracy: 0.9913 - val_loss: 0.2661 - val_accuracy: 0.9567\n",
            "Epoch 45/100\n",
            "5/5 [==============================] - 15s 3s/step - loss: 0.0284 - accuracy: 0.9912 - val_loss: 0.2695 - val_accuracy: 0.9575\n",
            "Epoch 46/100\n",
            "5/5 [==============================] - 15s 3s/step - loss: 0.0255 - accuracy: 0.9918 - val_loss: 0.2700 - val_accuracy: 0.9577\n",
            "Epoch 47/100\n",
            "5/5 [==============================] - 15s 3s/step - loss: 0.0248 - accuracy: 0.9918 - val_loss: 0.2714 - val_accuracy: 0.9574\n",
            "Epoch 48/100\n",
            "5/5 [==============================] - 15s 3s/step - loss: 0.0248 - accuracy: 0.9918 - val_loss: 0.2724 - val_accuracy: 0.9572\n",
            "Epoch 49/100\n",
            "5/5 [==============================] - 15s 3s/step - loss: 0.0251 - accuracy: 0.9918 - val_loss: 0.2737 - val_accuracy: 0.9573\n",
            "Epoch 50/100\n",
            "5/5 [==============================] - 15s 3s/step - loss: 0.0253 - accuracy: 0.9916 - val_loss: 0.2735 - val_accuracy: 0.9571\n",
            "Epoch 51/100\n",
            "5/5 [==============================] - 15s 3s/step - loss: 0.0252 - accuracy: 0.9917 - val_loss: 0.2755 - val_accuracy: 0.9570\n",
            "Epoch 52/100\n",
            "5/5 [==============================] - 15s 3s/step - loss: 0.0257 - accuracy: 0.9917 - val_loss: 0.2778 - val_accuracy: 0.9567\n",
            "Epoch 53/100\n",
            "5/5 [==============================] - 15s 3s/step - loss: 0.0256 - accuracy: 0.9916 - val_loss: 0.2755 - val_accuracy: 0.9568\n",
            "Epoch 54/100\n",
            "5/5 [==============================] - 15s 3s/step - loss: 0.0257 - accuracy: 0.9917 - val_loss: 0.2742 - val_accuracy: 0.9567\n",
            "Epoch 55/100\n",
            "5/5 [==============================] - 15s 3s/step - loss: 0.0255 - accuracy: 0.9917 - val_loss: 0.2741 - val_accuracy: 0.9569\n",
            "Epoch 56/100\n",
            "5/5 [==============================] - 15s 3s/step - loss: 0.0256 - accuracy: 0.9916 - val_loss: 0.2797 - val_accuracy: 0.9567\n",
            "Epoch 57/100\n",
            "5/5 [==============================] - 15s 3s/step - loss: 0.0254 - accuracy: 0.9917 - val_loss: 0.2764 - val_accuracy: 0.9568\n",
            "Epoch 58/100\n",
            "5/5 [==============================] - 15s 3s/step - loss: 0.0256 - accuracy: 0.9917 - val_loss: 0.2787 - val_accuracy: 0.9568\n",
            "Epoch 59/100\n",
            "5/5 [==============================] - 15s 3s/step - loss: 0.0281 - accuracy: 0.9912 - val_loss: 0.2747 - val_accuracy: 0.9569\n",
            "Epoch 60/100\n",
            "5/5 [==============================] - 15s 3s/step - loss: 0.0302 - accuracy: 0.9907 - val_loss: 0.2725 - val_accuracy: 0.9571\n",
            "Epoch 61/100\n",
            "5/5 [==============================] - 15s 3s/step - loss: 0.0255 - accuracy: 0.9918 - val_loss: 0.2726 - val_accuracy: 0.9568\n",
            "Epoch 62/100\n",
            "5/5 [==============================] - 15s 3s/step - loss: 0.0248 - accuracy: 0.9919 - val_loss: 0.2742 - val_accuracy: 0.9571\n",
            "Epoch 63/100\n",
            "5/5 [==============================] - 15s 3s/step - loss: 0.0245 - accuracy: 0.9918 - val_loss: 0.2750 - val_accuracy: 0.9570\n",
            "Epoch 64/100\n",
            "5/5 [==============================] - 15s 3s/step - loss: 0.0243 - accuracy: 0.9919 - val_loss: 0.2785 - val_accuracy: 0.9565\n",
            "Epoch 65/100\n",
            "5/5 [==============================] - 15s 3s/step - loss: 0.0246 - accuracy: 0.9917 - val_loss: 0.2785 - val_accuracy: 0.9569\n",
            "Epoch 66/100\n",
            "5/5 [==============================] - 15s 3s/step - loss: 0.0249 - accuracy: 0.9915 - val_loss: 0.2787 - val_accuracy: 0.9570\n",
            "Epoch 67/100\n",
            "5/5 [==============================] - 15s 3s/step - loss: 0.0249 - accuracy: 0.9919 - val_loss: 0.2801 - val_accuracy: 0.9567\n",
            "Epoch 68/100\n",
            "5/5 [==============================] - 15s 3s/step - loss: 0.0249 - accuracy: 0.9918 - val_loss: 0.2793 - val_accuracy: 0.9566\n",
            "Epoch 69/100\n",
            "5/5 [==============================] - 15s 3s/step - loss: 0.0255 - accuracy: 0.9915 - val_loss: 0.2771 - val_accuracy: 0.9567\n",
            "Epoch 70/100\n",
            "5/5 [==============================] - 15s 3s/step - loss: 0.0249 - accuracy: 0.9917 - val_loss: 0.2808 - val_accuracy: 0.9567\n",
            "Epoch 71/100\n",
            "5/5 [==============================] - 15s 3s/step - loss: 0.0251 - accuracy: 0.9918 - val_loss: 0.2821 - val_accuracy: 0.9571\n",
            "Epoch 72/100\n",
            "5/5 [==============================] - 15s 3s/step - loss: 0.0253 - accuracy: 0.9917 - val_loss: 0.2819 - val_accuracy: 0.9568\n",
            "Epoch 73/100\n",
            "5/5 [==============================] - 15s 3s/step - loss: 0.0250 - accuracy: 0.9917 - val_loss: 0.2826 - val_accuracy: 0.9569\n",
            "Epoch 74/100\n",
            "5/5 [==============================] - 15s 3s/step - loss: 0.0251 - accuracy: 0.9917 - val_loss: 0.2799 - val_accuracy: 0.9572\n",
            "Epoch 75/100\n",
            "5/5 [==============================] - 15s 3s/step - loss: 0.0257 - accuracy: 0.9915 - val_loss: 0.2814 - val_accuracy: 0.9568\n",
            "Epoch 76/100\n",
            "5/5 [==============================] - 15s 3s/step - loss: 0.0337 - accuracy: 0.9895 - val_loss: 0.2695 - val_accuracy: 0.9575\n",
            "Epoch 77/100\n",
            "5/5 [==============================] - 15s 3s/step - loss: 0.0268 - accuracy: 0.9917 - val_loss: 0.2711 - val_accuracy: 0.9575\n",
            "Epoch 78/100\n",
            "5/5 [==============================] - 15s 3s/step - loss: 0.0242 - accuracy: 0.9919 - val_loss: 0.2730 - val_accuracy: 0.9578\n",
            "Epoch 79/100\n",
            "5/5 [==============================] - 15s 3s/step - loss: 0.0238 - accuracy: 0.9920 - val_loss: 0.2751 - val_accuracy: 0.9569\n",
            "Epoch 80/100\n",
            "5/5 [==============================] - 15s 3s/step - loss: 0.0237 - accuracy: 0.9919 - val_loss: 0.2764 - val_accuracy: 0.9572\n",
            "Epoch 81/100\n",
            "5/5 [==============================] - 15s 3s/step - loss: 0.0239 - accuracy: 0.9919 - val_loss: 0.2763 - val_accuracy: 0.9574\n",
            "Epoch 82/100\n",
            "5/5 [==============================] - 15s 3s/step - loss: 0.0241 - accuracy: 0.9918 - val_loss: 0.2801 - val_accuracy: 0.9574\n",
            "Epoch 83/100\n",
            "5/5 [==============================] - 15s 3s/step - loss: 0.0241 - accuracy: 0.9918 - val_loss: 0.2822 - val_accuracy: 0.9564\n",
            "Epoch 84/100\n",
            "5/5 [==============================] - 15s 3s/step - loss: 0.0246 - accuracy: 0.9918 - val_loss: 0.2806 - val_accuracy: 0.9573\n",
            "Epoch 85/100\n",
            "5/5 [==============================] - 15s 3s/step - loss: 0.0248 - accuracy: 0.9916 - val_loss: 0.2827 - val_accuracy: 0.9566\n",
            "Epoch 86/100\n",
            "5/5 [==============================] - 15s 3s/step - loss: 0.0248 - accuracy: 0.9918 - val_loss: 0.2836 - val_accuracy: 0.9573\n",
            "Epoch 87/100\n",
            "5/5 [==============================] - 15s 3s/step - loss: 0.0246 - accuracy: 0.9918 - val_loss: 0.2830 - val_accuracy: 0.9566\n",
            "Epoch 88/100\n",
            "5/5 [==============================] - 15s 3s/step - loss: 0.0248 - accuracy: 0.9916 - val_loss: 0.2842 - val_accuracy: 0.9571\n",
            "Epoch 89/100\n",
            "5/5 [==============================] - 15s 3s/step - loss: 0.0248 - accuracy: 0.9916 - val_loss: 0.2811 - val_accuracy: 0.9564\n",
            "Epoch 90/100\n",
            "5/5 [==============================] - 15s 3s/step - loss: 0.0248 - accuracy: 0.9917 - val_loss: 0.2823 - val_accuracy: 0.9568\n",
            "Epoch 91/100\n",
            "5/5 [==============================] - 15s 3s/step - loss: 0.0255 - accuracy: 0.9915 - val_loss: 0.2856 - val_accuracy: 0.9568\n",
            "Epoch 92/100\n",
            "5/5 [==============================] - 15s 3s/step - loss: 0.0321 - accuracy: 0.9898 - val_loss: 0.2726 - val_accuracy: 0.9574\n",
            "Epoch 93/100\n",
            "5/5 [==============================] - 15s 3s/step - loss: 0.0272 - accuracy: 0.9913 - val_loss: 0.2774 - val_accuracy: 0.9568\n",
            "Epoch 94/100\n",
            "5/5 [==============================] - 15s 3s/step - loss: 0.0243 - accuracy: 0.9919 - val_loss: 0.2772 - val_accuracy: 0.9572\n",
            "Epoch 95/100\n",
            "5/5 [==============================] - 15s 3s/step - loss: 0.0235 - accuracy: 0.9920 - val_loss: 0.2793 - val_accuracy: 0.9572\n",
            "Epoch 96/100\n",
            "5/5 [==============================] - 15s 3s/step - loss: 0.0237 - accuracy: 0.9918 - val_loss: 0.2809 - val_accuracy: 0.9572\n",
            "Epoch 97/100\n",
            "5/5 [==============================] - 15s 3s/step - loss: 0.0237 - accuracy: 0.9918 - val_loss: 0.2794 - val_accuracy: 0.9573\n",
            "Epoch 98/100\n",
            "5/5 [==============================] - 15s 3s/step - loss: 0.0241 - accuracy: 0.9918 - val_loss: 0.2809 - val_accuracy: 0.9570\n",
            "Epoch 99/100\n",
            "5/5 [==============================] - 15s 3s/step - loss: 0.0242 - accuracy: 0.9916 - val_loss: 0.2844 - val_accuracy: 0.9568\n",
            "Epoch 100/100\n",
            "5/5 [==============================] - 15s 3s/step - loss: 0.0245 - accuracy: 0.9917 - val_loss: 0.2869 - val_accuracy: 0.9567\n"
          ],
          "name": "stdout"
        },
        {
          "output_type": "execute_result",
          "data": {
            "text/plain": [
              "<tensorflow.python.keras.callbacks.History at 0x7f7e075940d0>"
            ]
          },
          "metadata": {
            "tags": []
          },
          "execution_count": 151
        }
      ]
    },
    {
      "cell_type": "code",
      "metadata": {
        "colab": {
          "base_uri": "https://localhost:8080/"
        },
        "id": "wSra7FmaEdr7",
        "outputId": "cf4b26c3-e8da-40b5-f2c0-01961233f938"
      },
      "source": [
        "model.fit([encoder_input_data, decoder_input_data], decoder_target_data,\n",
        "          batch_size=batch_size,\n",
        "          epochs=300,\n",
        "          validation_split=0.2)"
      ],
      "execution_count": 161,
      "outputs": [
        {
          "output_type": "stream",
          "text": [
            "Epoch 1/300\n",
            "5/5 [==============================] - 15s 3s/step - loss: 0.0245 - accuracy: 0.9918 - val_loss: 0.2835 - val_accuracy: 0.9572\n",
            "Epoch 2/300\n",
            "5/5 [==============================] - 15s 3s/step - loss: 0.0244 - accuracy: 0.9918 - val_loss: 0.2874 - val_accuracy: 0.9569\n",
            "Epoch 3/300\n",
            "5/5 [==============================] - 15s 3s/step - loss: 0.0244 - accuracy: 0.9917 - val_loss: 0.2853 - val_accuracy: 0.9569\n",
            "Epoch 4/300\n",
            "5/5 [==============================] - 15s 3s/step - loss: 0.0249 - accuracy: 0.9917 - val_loss: 0.2845 - val_accuracy: 0.9574\n",
            "Epoch 5/300\n",
            "5/5 [==============================] - 15s 3s/step - loss: 0.0244 - accuracy: 0.9917 - val_loss: 0.2799 - val_accuracy: 0.9568\n",
            "Epoch 6/300\n",
            "5/5 [==============================] - 15s 3s/step - loss: 0.0247 - accuracy: 0.9917 - val_loss: 0.2844 - val_accuracy: 0.9573\n",
            "Epoch 7/300\n",
            "5/5 [==============================] - 15s 3s/step - loss: 0.0245 - accuracy: 0.9917 - val_loss: 0.2865 - val_accuracy: 0.9570\n",
            "Epoch 8/300\n",
            "5/5 [==============================] - 15s 3s/step - loss: 0.0249 - accuracy: 0.9916 - val_loss: 0.2862 - val_accuracy: 0.9566\n",
            "Epoch 9/300\n",
            "5/5 [==============================] - 15s 3s/step - loss: 0.0244 - accuracy: 0.9918 - val_loss: 0.2873 - val_accuracy: 0.9570\n",
            "Epoch 10/300\n",
            "5/5 [==============================] - 15s 3s/step - loss: 0.0247 - accuracy: 0.9916 - val_loss: 0.2849 - val_accuracy: 0.9571\n",
            "Epoch 11/300\n",
            "5/5 [==============================] - 15s 3s/step - loss: 0.0244 - accuracy: 0.9918 - val_loss: 0.2848 - val_accuracy: 0.9570\n",
            "Epoch 12/300\n",
            "5/5 [==============================] - 15s 3s/step - loss: 0.0245 - accuracy: 0.9916 - val_loss: 0.2850 - val_accuracy: 0.9569\n",
            "Epoch 13/300\n",
            "5/5 [==============================] - 15s 3s/step - loss: 0.0245 - accuracy: 0.9917 - val_loss: 0.2862 - val_accuracy: 0.9567\n",
            "Epoch 14/300\n",
            "5/5 [==============================] - 15s 3s/step - loss: 0.0288 - accuracy: 0.9903 - val_loss: 0.2810 - val_accuracy: 0.9563\n",
            "Epoch 15/300\n",
            "5/5 [==============================] - 15s 3s/step - loss: 0.0307 - accuracy: 0.9903 - val_loss: 0.2812 - val_accuracy: 0.9567\n",
            "Epoch 16/300\n",
            "5/5 [==============================] - 15s 3s/step - loss: 0.0248 - accuracy: 0.9918 - val_loss: 0.2798 - val_accuracy: 0.9568\n",
            "Epoch 17/300\n",
            "5/5 [==============================] - 15s 3s/step - loss: 0.0235 - accuracy: 0.9920 - val_loss: 0.2811 - val_accuracy: 0.9567\n",
            "Epoch 18/300\n",
            "5/5 [==============================] - 15s 3s/step - loss: 0.0234 - accuracy: 0.9920 - val_loss: 0.2823 - val_accuracy: 0.9568\n",
            "Epoch 19/300\n",
            "5/5 [==============================] - 15s 3s/step - loss: 0.0234 - accuracy: 0.9918 - val_loss: 0.2858 - val_accuracy: 0.9566\n",
            "Epoch 20/300\n",
            "5/5 [==============================] - 15s 3s/step - loss: 0.0234 - accuracy: 0.9919 - val_loss: 0.2853 - val_accuracy: 0.9568\n",
            "Epoch 21/300\n",
            "5/5 [==============================] - 15s 3s/step - loss: 0.0237 - accuracy: 0.9917 - val_loss: 0.2868 - val_accuracy: 0.9572\n",
            "Epoch 22/300\n",
            "5/5 [==============================] - 15s 3s/step - loss: 0.0237 - accuracy: 0.9918 - val_loss: 0.2845 - val_accuracy: 0.9568\n",
            "Epoch 23/300\n",
            "5/5 [==============================] - 15s 3s/step - loss: 0.0239 - accuracy: 0.9917 - val_loss: 0.2879 - val_accuracy: 0.9565\n",
            "Epoch 24/300\n",
            "5/5 [==============================] - 15s 3s/step - loss: 0.0242 - accuracy: 0.9918 - val_loss: 0.2910 - val_accuracy: 0.9566\n",
            "Epoch 25/300\n",
            "5/5 [==============================] - 15s 3s/step - loss: 0.0241 - accuracy: 0.9916 - val_loss: 0.2874 - val_accuracy: 0.9576\n",
            "Epoch 26/300\n",
            "5/5 [==============================] - 15s 3s/step - loss: 0.0244 - accuracy: 0.9917 - val_loss: 0.2901 - val_accuracy: 0.9568\n",
            "Epoch 27/300\n",
            "5/5 [==============================] - 15s 3s/step - loss: 0.0243 - accuracy: 0.9916 - val_loss: 0.2865 - val_accuracy: 0.9564\n",
            "Epoch 28/300\n",
            "5/5 [==============================] - 15s 3s/step - loss: 0.0243 - accuracy: 0.9917 - val_loss: 0.2877 - val_accuracy: 0.9567\n",
            "Epoch 29/300\n",
            "5/5 [==============================] - 15s 3s/step - loss: 0.0242 - accuracy: 0.9916 - val_loss: 0.2881 - val_accuracy: 0.9570\n",
            "Epoch 30/300\n",
            "5/5 [==============================] - 15s 3s/step - loss: 0.0243 - accuracy: 0.9917 - val_loss: 0.2910 - val_accuracy: 0.9563\n",
            "Epoch 31/300\n",
            "5/5 [==============================] - 15s 3s/step - loss: 0.0242 - accuracy: 0.9917 - val_loss: 0.2896 - val_accuracy: 0.9563\n",
            "Epoch 32/300\n",
            "5/5 [==============================] - 15s 3s/step - loss: 0.0245 - accuracy: 0.9918 - val_loss: 0.2866 - val_accuracy: 0.9567\n",
            "Epoch 33/300\n",
            "5/5 [==============================] - 15s 3s/step - loss: 0.0241 - accuracy: 0.9918 - val_loss: 0.2881 - val_accuracy: 0.9572\n",
            "Epoch 34/300\n",
            "5/5 [==============================] - 15s 3s/step - loss: 0.0242 - accuracy: 0.9916 - val_loss: 0.2835 - val_accuracy: 0.9570\n",
            "Epoch 35/300\n",
            "5/5 [==============================] - 15s 3s/step - loss: 0.0242 - accuracy: 0.9917 - val_loss: 0.2895 - val_accuracy: 0.9567\n",
            "Epoch 36/300\n",
            "5/5 [==============================] - 15s 3s/step - loss: 0.0243 - accuracy: 0.9917 - val_loss: 0.2899 - val_accuracy: 0.9562\n",
            "Epoch 37/300\n",
            "5/5 [==============================] - 15s 3s/step - loss: 0.0241 - accuracy: 0.9919 - val_loss: 0.2924 - val_accuracy: 0.9564\n",
            "Epoch 38/300\n",
            "5/5 [==============================] - 15s 3s/step - loss: 0.0242 - accuracy: 0.9917 - val_loss: 0.2913 - val_accuracy: 0.9564\n",
            "Epoch 39/300\n",
            "5/5 [==============================] - 15s 3s/step - loss: 0.0245 - accuracy: 0.9916 - val_loss: 0.2865 - val_accuracy: 0.9565\n",
            "Epoch 40/300\n",
            "5/5 [==============================] - 15s 3s/step - loss: 0.0270 - accuracy: 0.9911 - val_loss: 0.2831 - val_accuracy: 0.9570\n",
            "Epoch 41/300\n",
            "5/5 [==============================] - 15s 3s/step - loss: 0.0296 - accuracy: 0.9906 - val_loss: 0.2821 - val_accuracy: 0.9571\n",
            "Epoch 42/300\n",
            "5/5 [==============================] - 15s 3s/step - loss: 0.0247 - accuracy: 0.9918 - val_loss: 0.2836 - val_accuracy: 0.9567\n",
            "Epoch 43/300\n",
            "5/5 [==============================] - 15s 3s/step - loss: 0.0233 - accuracy: 0.9919 - val_loss: 0.2837 - val_accuracy: 0.9562\n",
            "Epoch 44/300\n",
            "5/5 [==============================] - 15s 3s/step - loss: 0.0230 - accuracy: 0.9919 - val_loss: 0.2859 - val_accuracy: 0.9570\n",
            "Epoch 45/300\n",
            "5/5 [==============================] - 15s 3s/step - loss: 0.0231 - accuracy: 0.9919 - val_loss: 0.2870 - val_accuracy: 0.9569\n",
            "Epoch 46/300\n",
            "5/5 [==============================] - 15s 3s/step - loss: 0.0234 - accuracy: 0.9918 - val_loss: 0.2888 - val_accuracy: 0.9567\n",
            "Epoch 47/300\n",
            "5/5 [==============================] - 15s 3s/step - loss: 0.0235 - accuracy: 0.9917 - val_loss: 0.2890 - val_accuracy: 0.9567\n",
            "Epoch 48/300\n",
            "5/5 [==============================] - 15s 3s/step - loss: 0.0237 - accuracy: 0.9916 - val_loss: 0.2919 - val_accuracy: 0.9568\n",
            "Epoch 49/300\n",
            "5/5 [==============================] - 15s 3s/step - loss: 0.0240 - accuracy: 0.9917 - val_loss: 0.2928 - val_accuracy: 0.9566\n",
            "Epoch 50/300\n",
            "5/5 [==============================] - 15s 3s/step - loss: 0.0239 - accuracy: 0.9916 - val_loss: 0.2888 - val_accuracy: 0.9563\n",
            "Epoch 51/300\n",
            "5/5 [==============================] - 15s 3s/step - loss: 0.0239 - accuracy: 0.9917 - val_loss: 0.2932 - val_accuracy: 0.9562\n",
            "Epoch 52/300\n",
            "5/5 [==============================] - 15s 3s/step - loss: 0.0240 - accuracy: 0.9918 - val_loss: 0.2928 - val_accuracy: 0.9566\n",
            "Epoch 53/300\n",
            "5/5 [==============================] - 15s 3s/step - loss: 0.0240 - accuracy: 0.9917 - val_loss: 0.2938 - val_accuracy: 0.9567\n",
            "Epoch 54/300\n",
            "5/5 [==============================] - 15s 3s/step - loss: 0.0241 - accuracy: 0.9917 - val_loss: 0.2923 - val_accuracy: 0.9566\n",
            "Epoch 55/300\n",
            "5/5 [==============================] - 15s 3s/step - loss: 0.0240 - accuracy: 0.9917 - val_loss: 0.2949 - val_accuracy: 0.9568\n",
            "Epoch 56/300\n",
            "5/5 [==============================] - 15s 3s/step - loss: 0.0241 - accuracy: 0.9917 - val_loss: 0.2912 - val_accuracy: 0.9565\n",
            "Epoch 57/300\n",
            "5/5 [==============================] - 15s 3s/step - loss: 0.0295 - accuracy: 0.9901 - val_loss: 0.2841 - val_accuracy: 0.9567\n",
            "Epoch 58/300\n",
            "5/5 [==============================] - 15s 3s/step - loss: 0.0270 - accuracy: 0.9912 - val_loss: 0.2858 - val_accuracy: 0.9568\n",
            "Epoch 59/300\n",
            "5/5 [==============================] - 15s 3s/step - loss: 0.0235 - accuracy: 0.9919 - val_loss: 0.2861 - val_accuracy: 0.9574\n",
            "Epoch 60/300\n",
            "5/5 [==============================] - 15s 3s/step - loss: 0.0230 - accuracy: 0.9919 - val_loss: 0.2871 - val_accuracy: 0.9570\n",
            "Epoch 61/300\n",
            "5/5 [==============================] - 15s 3s/step - loss: 0.0230 - accuracy: 0.9919 - val_loss: 0.2875 - val_accuracy: 0.9571\n",
            "Epoch 62/300\n",
            "5/5 [==============================] - 15s 3s/step - loss: 0.0230 - accuracy: 0.9919 - val_loss: 0.2895 - val_accuracy: 0.9572\n",
            "Epoch 63/300\n",
            "5/5 [==============================] - 15s 3s/step - loss: 0.0233 - accuracy: 0.9918 - val_loss: 0.2901 - val_accuracy: 0.9569\n",
            "Epoch 64/300\n",
            "5/5 [==============================] - 15s 3s/step - loss: 0.0235 - accuracy: 0.9917 - val_loss: 0.2930 - val_accuracy: 0.9566\n",
            "Epoch 65/300\n",
            "5/5 [==============================] - 15s 3s/step - loss: 0.0235 - accuracy: 0.9917 - val_loss: 0.2922 - val_accuracy: 0.9566\n",
            "Epoch 66/300\n",
            "5/5 [==============================] - 15s 3s/step - loss: 0.0237 - accuracy: 0.9916 - val_loss: 0.2939 - val_accuracy: 0.9567\n",
            "Epoch 67/300\n",
            "5/5 [==============================] - 15s 3s/step - loss: 0.0238 - accuracy: 0.9916 - val_loss: 0.2908 - val_accuracy: 0.9572\n",
            "Epoch 68/300\n",
            "5/5 [==============================] - 15s 3s/step - loss: 0.0237 - accuracy: 0.9918 - val_loss: 0.2963 - val_accuracy: 0.9571\n",
            "Epoch 69/300\n",
            "5/5 [==============================] - 15s 3s/step - loss: 0.0239 - accuracy: 0.9918 - val_loss: 0.2964 - val_accuracy: 0.9573\n",
            "Epoch 70/300\n",
            "5/5 [==============================] - 15s 3s/step - loss: 0.0240 - accuracy: 0.9917 - val_loss: 0.2947 - val_accuracy: 0.9572\n",
            "Epoch 71/300\n",
            "5/5 [==============================] - 15s 3s/step - loss: 0.0240 - accuracy: 0.9918 - val_loss: 0.2935 - val_accuracy: 0.9564\n",
            "Epoch 72/300\n",
            "5/5 [==============================] - 15s 3s/step - loss: 0.0237 - accuracy: 0.9918 - val_loss: 0.2948 - val_accuracy: 0.9568\n",
            "Epoch 73/300\n",
            "5/5 [==============================] - 15s 3s/step - loss: 0.0262 - accuracy: 0.9913 - val_loss: 0.2863 - val_accuracy: 0.9567\n",
            "Epoch 74/300\n",
            "5/5 [==============================] - 15s 3s/step - loss: 0.0288 - accuracy: 0.9905 - val_loss: 0.2876 - val_accuracy: 0.9564\n",
            "Epoch 75/300\n",
            "5/5 [==============================] - 15s 3s/step - loss: 0.0237 - accuracy: 0.9919 - val_loss: 0.2894 - val_accuracy: 0.9565\n",
            "Epoch 76/300\n",
            "5/5 [==============================] - 15s 3s/step - loss: 0.0231 - accuracy: 0.9920 - val_loss: 0.2899 - val_accuracy: 0.9567\n",
            "Epoch 77/300\n",
            "5/5 [==============================] - 15s 3s/step - loss: 0.0229 - accuracy: 0.9919 - val_loss: 0.2925 - val_accuracy: 0.9567\n",
            "Epoch 78/300\n",
            "5/5 [==============================] - 15s 3s/step - loss: 0.0229 - accuracy: 0.9918 - val_loss: 0.2945 - val_accuracy: 0.9565\n",
            "Epoch 79/300\n",
            "5/5 [==============================] - 15s 3s/step - loss: 0.0232 - accuracy: 0.9918 - val_loss: 0.2967 - val_accuracy: 0.9567\n",
            "Epoch 80/300\n",
            "5/5 [==============================] - 15s 3s/step - loss: 0.0233 - accuracy: 0.9918 - val_loss: 0.2994 - val_accuracy: 0.9567\n",
            "Epoch 81/300\n",
            "5/5 [==============================] - 15s 3s/step - loss: 0.0234 - accuracy: 0.9917 - val_loss: 0.2929 - val_accuracy: 0.9566\n",
            "Epoch 82/300\n",
            "5/5 [==============================] - 15s 3s/step - loss: 0.0237 - accuracy: 0.9917 - val_loss: 0.2962 - val_accuracy: 0.9570\n",
            "Epoch 83/300\n",
            "5/5 [==============================] - 15s 3s/step - loss: 0.0236 - accuracy: 0.9917 - val_loss: 0.2950 - val_accuracy: 0.9567\n",
            "Epoch 84/300\n",
            "5/5 [==============================] - 15s 3s/step - loss: 0.0237 - accuracy: 0.9917 - val_loss: 0.2930 - val_accuracy: 0.9570\n",
            "Epoch 85/300\n",
            "5/5 [==============================] - 15s 3s/step - loss: 0.0239 - accuracy: 0.9915 - val_loss: 0.2962 - val_accuracy: 0.9558\n",
            "Epoch 86/300\n",
            "5/5 [==============================] - 15s 3s/step - loss: 0.0238 - accuracy: 0.9917 - val_loss: 0.2946 - val_accuracy: 0.9563\n",
            "Epoch 87/300\n",
            "5/5 [==============================] - 15s 3s/step - loss: 0.0238 - accuracy: 0.9917 - val_loss: 0.2955 - val_accuracy: 0.9573\n",
            "Epoch 88/300\n",
            "5/5 [==============================] - 15s 3s/step - loss: 0.0239 - accuracy: 0.9916 - val_loss: 0.2957 - val_accuracy: 0.9568\n",
            "Epoch 89/300\n",
            "5/5 [==============================] - 15s 3s/step - loss: 0.0239 - accuracy: 0.9917 - val_loss: 0.2963 - val_accuracy: 0.9565\n",
            "Epoch 90/300\n",
            "5/5 [==============================] - 15s 3s/step - loss: 0.0239 - accuracy: 0.9915 - val_loss: 0.2957 - val_accuracy: 0.9570\n",
            "Epoch 91/300\n",
            "5/5 [==============================] - 15s 3s/step - loss: 0.0238 - accuracy: 0.9917 - val_loss: 0.2963 - val_accuracy: 0.9568\n",
            "Epoch 92/300\n",
            "5/5 [==============================] - 15s 3s/step - loss: 0.0238 - accuracy: 0.9916 - val_loss: 0.2998 - val_accuracy: 0.9571\n",
            "Epoch 93/300\n",
            "5/5 [==============================] - 15s 3s/step - loss: 0.0240 - accuracy: 0.9917 - val_loss: 0.2947 - val_accuracy: 0.9556\n",
            "Epoch 94/300\n",
            "5/5 [==============================] - 15s 3s/step - loss: 0.0307 - accuracy: 0.9900 - val_loss: 0.2914 - val_accuracy: 0.9571\n",
            "Epoch 95/300\n",
            "5/5 [==============================] - 15s 3s/step - loss: 0.0243 - accuracy: 0.9918 - val_loss: 0.2900 - val_accuracy: 0.9567\n",
            "Epoch 96/300\n",
            "5/5 [==============================] - 15s 3s/step - loss: 0.0231 - accuracy: 0.9920 - val_loss: 0.2923 - val_accuracy: 0.9565\n",
            "Epoch 97/300\n",
            "5/5 [==============================] - 15s 3s/step - loss: 0.0228 - accuracy: 0.9921 - val_loss: 0.2930 - val_accuracy: 0.9566\n",
            "Epoch 98/300\n",
            "5/5 [==============================] - 15s 3s/step - loss: 0.0227 - accuracy: 0.9920 - val_loss: 0.2950 - val_accuracy: 0.9566\n",
            "Epoch 99/300\n",
            "5/5 [==============================] - 15s 3s/step - loss: 0.0228 - accuracy: 0.9918 - val_loss: 0.2966 - val_accuracy: 0.9564\n",
            "Epoch 100/300\n",
            "5/5 [==============================] - 15s 3s/step - loss: 0.0230 - accuracy: 0.9918 - val_loss: 0.2967 - val_accuracy: 0.9566\n",
            "Epoch 101/300\n",
            "5/5 [==============================] - 15s 3s/step - loss: 0.0232 - accuracy: 0.9917 - val_loss: 0.2964 - val_accuracy: 0.9566\n",
            "Epoch 102/300\n",
            "5/5 [==============================] - 15s 3s/step - loss: 0.0234 - accuracy: 0.9917 - val_loss: 0.2939 - val_accuracy: 0.9565\n",
            "Epoch 103/300\n",
            "5/5 [==============================] - 15s 3s/step - loss: 0.0235 - accuracy: 0.9916 - val_loss: 0.2992 - val_accuracy: 0.9570\n",
            "Epoch 104/300\n",
            "5/5 [==============================] - 15s 3s/step - loss: 0.0236 - accuracy: 0.9917 - val_loss: 0.2981 - val_accuracy: 0.9566\n",
            "Epoch 105/300\n",
            "5/5 [==============================] - 15s 3s/step - loss: 0.0236 - accuracy: 0.9919 - val_loss: 0.2998 - val_accuracy: 0.9565\n",
            "Epoch 106/300\n",
            "5/5 [==============================] - 15s 3s/step - loss: 0.0237 - accuracy: 0.9918 - val_loss: 0.2967 - val_accuracy: 0.9570\n",
            "Epoch 107/300\n",
            "5/5 [==============================] - 15s 3s/step - loss: 0.0238 - accuracy: 0.9917 - val_loss: 0.3013 - val_accuracy: 0.9569\n",
            "Epoch 108/300\n",
            "5/5 [==============================] - 15s 3s/step - loss: 0.0238 - accuracy: 0.9915 - val_loss: 0.3018 - val_accuracy: 0.9568\n",
            "Epoch 109/300\n",
            "5/5 [==============================] - 15s 3s/step - loss: 0.0236 - accuracy: 0.9917 - val_loss: 0.3000 - val_accuracy: 0.9569\n",
            "Epoch 110/300\n",
            "5/5 [==============================] - 15s 3s/step - loss: 0.0236 - accuracy: 0.9916 - val_loss: 0.2995 - val_accuracy: 0.9567\n",
            "Epoch 111/300\n",
            "5/5 [==============================] - 15s 3s/step - loss: 0.0271 - accuracy: 0.9909 - val_loss: 0.2938 - val_accuracy: 0.9569\n",
            "Epoch 112/300\n",
            "5/5 [==============================] - 15s 3s/step - loss: 0.0282 - accuracy: 0.9906 - val_loss: 0.2918 - val_accuracy: 0.9572\n",
            "Epoch 113/300\n",
            "5/5 [==============================] - 15s 3s/step - loss: 0.0241 - accuracy: 0.9918 - val_loss: 0.2927 - val_accuracy: 0.9572\n",
            "Epoch 114/300\n",
            "5/5 [==============================] - 15s 3s/step - loss: 0.0229 - accuracy: 0.9920 - val_loss: 0.2938 - val_accuracy: 0.9564\n",
            "Epoch 115/300\n",
            "5/5 [==============================] - 15s 3s/step - loss: 0.0228 - accuracy: 0.9920 - val_loss: 0.2949 - val_accuracy: 0.9568\n",
            "Epoch 116/300\n",
            "5/5 [==============================] - 15s 3s/step - loss: 0.0226 - accuracy: 0.9920 - val_loss: 0.2955 - val_accuracy: 0.9569\n",
            "Epoch 117/300\n",
            "5/5 [==============================] - 15s 3s/step - loss: 0.0228 - accuracy: 0.9919 - val_loss: 0.2971 - val_accuracy: 0.9572\n",
            "Epoch 118/300\n",
            "5/5 [==============================] - 15s 3s/step - loss: 0.0230 - accuracy: 0.9919 - val_loss: 0.2971 - val_accuracy: 0.9572\n",
            "Epoch 119/300\n",
            "5/5 [==============================] - 15s 3s/step - loss: 0.0230 - accuracy: 0.9918 - val_loss: 0.2994 - val_accuracy: 0.9568\n",
            "Epoch 120/300\n",
            "5/5 [==============================] - 15s 3s/step - loss: 0.0231 - accuracy: 0.9919 - val_loss: 0.2972 - val_accuracy: 0.9569\n",
            "Epoch 121/300\n",
            "5/5 [==============================] - 15s 3s/step - loss: 0.0233 - accuracy: 0.9916 - val_loss: 0.2982 - val_accuracy: 0.9567\n",
            "Epoch 122/300\n",
            "5/5 [==============================] - 15s 3s/step - loss: 0.0237 - accuracy: 0.9916 - val_loss: 0.2972 - val_accuracy: 0.9566\n",
            "Epoch 123/300\n",
            "5/5 [==============================] - 15s 3s/step - loss: 0.0234 - accuracy: 0.9917 - val_loss: 0.3036 - val_accuracy: 0.9570\n",
            "Epoch 124/300\n",
            "5/5 [==============================] - 15s 3s/step - loss: 0.0236 - accuracy: 0.9916 - val_loss: 0.3009 - val_accuracy: 0.9565\n",
            "Epoch 125/300\n",
            "5/5 [==============================] - 15s 3s/step - loss: 0.0237 - accuracy: 0.9917 - val_loss: 0.3002 - val_accuracy: 0.9560\n",
            "Epoch 126/300\n",
            "5/5 [==============================] - 15s 3s/step - loss: 0.0235 - accuracy: 0.9917 - val_loss: 0.2995 - val_accuracy: 0.9568\n",
            "Epoch 127/300\n",
            "5/5 [==============================] - 15s 3s/step - loss: 0.0236 - accuracy: 0.9917 - val_loss: 0.3009 - val_accuracy: 0.9563\n",
            "Epoch 128/300\n",
            "5/5 [==============================] - 15s 3s/step - loss: 0.0237 - accuracy: 0.9915 - val_loss: 0.2996 - val_accuracy: 0.9565\n",
            "Epoch 129/300\n",
            "5/5 [==============================] - 15s 3s/step - loss: 0.0236 - accuracy: 0.9917 - val_loss: 0.2995 - val_accuracy: 0.9565\n",
            "Epoch 130/300\n",
            "5/5 [==============================] - 15s 3s/step - loss: 0.0247 - accuracy: 0.9915 - val_loss: 0.2981 - val_accuracy: 0.9563\n",
            "Epoch 131/300\n",
            "5/5 [==============================] - 15s 3s/step - loss: 0.0282 - accuracy: 0.9906 - val_loss: 0.2917 - val_accuracy: 0.9578\n",
            "Epoch 132/300\n",
            "5/5 [==============================] - 15s 3s/step - loss: 0.0244 - accuracy: 0.9917 - val_loss: 0.2931 - val_accuracy: 0.9571\n",
            "Epoch 133/300\n",
            "5/5 [==============================] - 15s 3s/step - loss: 0.0228 - accuracy: 0.9920 - val_loss: 0.2961 - val_accuracy: 0.9572\n",
            "Epoch 134/300\n",
            "5/5 [==============================] - 15s 3s/step - loss: 0.0227 - accuracy: 0.9921 - val_loss: 0.2972 - val_accuracy: 0.9566\n",
            "Epoch 135/300\n",
            "5/5 [==============================] - 15s 3s/step - loss: 0.0227 - accuracy: 0.9919 - val_loss: 0.2984 - val_accuracy: 0.9567\n",
            "Epoch 136/300\n",
            "5/5 [==============================] - 15s 3s/step - loss: 0.0228 - accuracy: 0.9918 - val_loss: 0.2980 - val_accuracy: 0.9565\n",
            "Epoch 137/300\n",
            "5/5 [==============================] - 15s 3s/step - loss: 0.0230 - accuracy: 0.9917 - val_loss: 0.3008 - val_accuracy: 0.9568\n",
            "Epoch 138/300\n",
            "5/5 [==============================] - 15s 3s/step - loss: 0.0231 - accuracy: 0.9919 - val_loss: 0.3018 - val_accuracy: 0.9565\n",
            "Epoch 139/300\n",
            "5/5 [==============================] - 15s 3s/step - loss: 0.0231 - accuracy: 0.9918 - val_loss: 0.3029 - val_accuracy: 0.9567\n",
            "Epoch 140/300\n",
            "5/5 [==============================] - 15s 3s/step - loss: 0.0234 - accuracy: 0.9917 - val_loss: 0.3022 - val_accuracy: 0.9572\n",
            "Epoch 141/300\n",
            "5/5 [==============================] - 15s 3s/step - loss: 0.0234 - accuracy: 0.9918 - val_loss: 0.2981 - val_accuracy: 0.9573\n",
            "Epoch 142/300\n",
            "5/5 [==============================] - 15s 3s/step - loss: 0.0236 - accuracy: 0.9917 - val_loss: 0.3031 - val_accuracy: 0.9572\n",
            "Epoch 143/300\n",
            "5/5 [==============================] - 15s 3s/step - loss: 0.0234 - accuracy: 0.9918 - val_loss: 0.2990 - val_accuracy: 0.9568\n",
            "Epoch 144/300\n",
            "5/5 [==============================] - 15s 3s/step - loss: 0.0234 - accuracy: 0.9916 - val_loss: 0.3048 - val_accuracy: 0.9569\n",
            "Epoch 145/300\n",
            "5/5 [==============================] - 15s 3s/step - loss: 0.0234 - accuracy: 0.9917 - val_loss: 0.3008 - val_accuracy: 0.9566\n",
            "Epoch 146/300\n",
            "5/5 [==============================] - 15s 3s/step - loss: 0.0236 - accuracy: 0.9917 - val_loss: 0.3036 - val_accuracy: 0.9568\n",
            "Epoch 147/300\n",
            "5/5 [==============================] - 15s 3s/step - loss: 0.0236 - accuracy: 0.9916 - val_loss: 0.2987 - val_accuracy: 0.9573\n",
            "Epoch 148/300\n",
            "5/5 [==============================] - 15s 3s/step - loss: 0.0235 - accuracy: 0.9918 - val_loss: 0.3004 - val_accuracy: 0.9574\n",
            "Epoch 149/300\n",
            "5/5 [==============================] - 15s 3s/step - loss: 0.0233 - accuracy: 0.9917 - val_loss: 0.3028 - val_accuracy: 0.9563\n",
            "Epoch 150/300\n",
            "5/5 [==============================] - 15s 3s/step - loss: 5.4308 - accuracy: 0.6461 - val_loss: 15.6711 - val_accuracy: 0.0545\n",
            "Epoch 151/300\n",
            "5/5 [==============================] - 15s 3s/step - loss: 14.3695 - accuracy: 0.1300 - val_loss: 16.7123 - val_accuracy: 0.0519\n",
            "Epoch 152/300\n",
            "5/5 [==============================] - 15s 3s/step - loss: 14.2067 - accuracy: 0.1299 - val_loss: 14.4658 - val_accuracy: 0.0511\n",
            "Epoch 153/300\n",
            "5/5 [==============================] - 15s 3s/step - loss: 12.8217 - accuracy: 0.1283 - val_loss: 13.6346 - val_accuracy: 0.0511\n",
            "Epoch 154/300\n",
            "5/5 [==============================] - 15s 3s/step - loss: 11.6132 - accuracy: 0.1287 - val_loss: 12.1543 - val_accuracy: 0.0513\n",
            "Epoch 155/300\n",
            "5/5 [==============================] - 15s 3s/step - loss: 10.1815 - accuracy: 0.1320 - val_loss: 10.5290 - val_accuracy: 0.0554\n",
            "Epoch 156/300\n",
            "5/5 [==============================] - 15s 3s/step - loss: 9.3312 - accuracy: 0.1325 - val_loss: 10.4791 - val_accuracy: 0.0533\n",
            "Epoch 157/300\n",
            "5/5 [==============================] - 15s 3s/step - loss: 8.8807 - accuracy: 0.1314 - val_loss: 9.0916 - val_accuracy: 0.0544\n",
            "Epoch 158/300\n",
            "5/5 [==============================] - 15s 3s/step - loss: 7.9067 - accuracy: 0.1336 - val_loss: 8.2072 - val_accuracy: 0.0579\n",
            "Epoch 159/300\n",
            "5/5 [==============================] - 15s 3s/step - loss: 6.5295 - accuracy: 0.1396 - val_loss: 6.5207 - val_accuracy: 0.0691\n",
            "Epoch 160/300\n",
            "5/5 [==============================] - 15s 3s/step - loss: 5.7905 - accuracy: 0.1491 - val_loss: 4.3188 - val_accuracy: 0.1206\n",
            "Epoch 161/300\n",
            "5/5 [==============================] - 15s 3s/step - loss: 3.3308 - accuracy: 0.2416 - val_loss: 2.9777 - val_accuracy: 0.3020\n",
            "Epoch 162/300\n",
            "5/5 [==============================] - 15s 3s/step - loss: 2.1699 - accuracy: 0.4634 - val_loss: 1.8854 - val_accuracy: 0.5786\n",
            "Epoch 163/300\n",
            "5/5 [==============================] - 15s 3s/step - loss: 1.4399 - accuracy: 0.6660 - val_loss: 1.3491 - val_accuracy: 0.7354\n",
            "Epoch 164/300\n",
            "5/5 [==============================] - 15s 3s/step - loss: 1.0289 - accuracy: 0.7869 - val_loss: 1.0465 - val_accuracy: 0.8152\n",
            "Epoch 165/300\n",
            "5/5 [==============================] - 15s 3s/step - loss: 0.8191 - accuracy: 0.8383 - val_loss: 0.8817 - val_accuracy: 0.8477\n",
            "Epoch 166/300\n",
            "5/5 [==============================] - 15s 3s/step - loss: 0.6866 - accuracy: 0.8663 - val_loss: 0.7717 - val_accuracy: 0.8664\n",
            "Epoch 167/300\n",
            "5/5 [==============================] - 15s 3s/step - loss: 0.6035 - accuracy: 0.8817 - val_loss: 0.6904 - val_accuracy: 0.8798\n",
            "Epoch 168/300\n",
            "5/5 [==============================] - 15s 3s/step - loss: 0.5433 - accuracy: 0.8932 - val_loss: 0.6301 - val_accuracy: 0.8918\n",
            "Epoch 169/300\n",
            "5/5 [==============================] - 15s 3s/step - loss: 0.4977 - accuracy: 0.9017 - val_loss: 0.5806 - val_accuracy: 0.9020\n",
            "Epoch 170/300\n",
            "5/5 [==============================] - 15s 3s/step - loss: 0.4619 - accuracy: 0.9095 - val_loss: 0.5425 - val_accuracy: 0.9094\n",
            "Epoch 171/300\n",
            "5/5 [==============================] - 15s 3s/step - loss: 0.4337 - accuracy: 0.9153 - val_loss: 0.5120 - val_accuracy: 0.9142\n",
            "Epoch 172/300\n",
            "5/5 [==============================] - 15s 3s/step - loss: 0.4101 - accuracy: 0.9199 - val_loss: 0.4853 - val_accuracy: 0.9198\n",
            "Epoch 173/300\n",
            "5/5 [==============================] - 15s 3s/step - loss: 0.3895 - accuracy: 0.9243 - val_loss: 0.4620 - val_accuracy: 0.9248\n",
            "Epoch 174/300\n",
            "5/5 [==============================] - 15s 3s/step - loss: 0.3706 - accuracy: 0.9282 - val_loss: 0.4420 - val_accuracy: 0.9293\n",
            "Epoch 175/300\n",
            "5/5 [==============================] - 15s 3s/step - loss: 0.3542 - accuracy: 0.9311 - val_loss: 0.4252 - val_accuracy: 0.9326\n",
            "Epoch 176/300\n",
            "5/5 [==============================] - 15s 3s/step - loss: 0.3388 - accuracy: 0.9339 - val_loss: 0.4102 - val_accuracy: 0.9352\n",
            "Epoch 177/300\n",
            "5/5 [==============================] - 15s 3s/step - loss: 0.3246 - accuracy: 0.9363 - val_loss: 0.3973 - val_accuracy: 0.9369\n",
            "Epoch 178/300\n",
            "5/5 [==============================] - 15s 3s/step - loss: 0.3104 - accuracy: 0.9387 - val_loss: 0.3857 - val_accuracy: 0.9394\n",
            "Epoch 179/300\n",
            "5/5 [==============================] - 15s 3s/step - loss: 0.2967 - accuracy: 0.9404 - val_loss: 0.3747 - val_accuracy: 0.9414\n",
            "Epoch 180/300\n",
            "5/5 [==============================] - 15s 3s/step - loss: 0.2835 - accuracy: 0.9426 - val_loss: 0.3645 - val_accuracy: 0.9431\n",
            "Epoch 181/300\n",
            "5/5 [==============================] - 15s 3s/step - loss: 0.2709 - accuracy: 0.9443 - val_loss: 0.3555 - val_accuracy: 0.9448\n",
            "Epoch 182/300\n",
            "5/5 [==============================] - 15s 3s/step - loss: 0.2573 - accuracy: 0.9461 - val_loss: 0.3476 - val_accuracy: 0.9465\n",
            "Epoch 183/300\n",
            "5/5 [==============================] - 15s 3s/step - loss: 0.2428 - accuracy: 0.9479 - val_loss: 0.3404 - val_accuracy: 0.9476\n",
            "Epoch 184/300\n",
            "5/5 [==============================] - 15s 3s/step - loss: 0.2294 - accuracy: 0.9494 - val_loss: 0.3332 - val_accuracy: 0.9488\n",
            "Epoch 185/300\n",
            "5/5 [==============================] - 15s 3s/step - loss: 0.2160 - accuracy: 0.9510 - val_loss: 0.3270 - val_accuracy: 0.9496\n",
            "Epoch 186/300\n",
            "5/5 [==============================] - 15s 3s/step - loss: 0.2028 - accuracy: 0.9531 - val_loss: 0.3211 - val_accuracy: 0.9508\n",
            "Epoch 187/300\n",
            "5/5 [==============================] - 15s 3s/step - loss: 0.1879 - accuracy: 0.9551 - val_loss: 0.3160 - val_accuracy: 0.9510\n",
            "Epoch 188/300\n",
            "5/5 [==============================] - 15s 3s/step - loss: 0.1721 - accuracy: 0.9575 - val_loss: 0.3100 - val_accuracy: 0.9516\n",
            "Epoch 189/300\n",
            "5/5 [==============================] - 15s 3s/step - loss: 0.1579 - accuracy: 0.9596 - val_loss: 0.3053 - val_accuracy: 0.9525\n",
            "Epoch 190/300\n",
            "5/5 [==============================] - 15s 3s/step - loss: 0.1416 - accuracy: 0.9625 - val_loss: 0.3013 - val_accuracy: 0.9529\n",
            "Epoch 191/300\n",
            "5/5 [==============================] - 15s 3s/step - loss: 0.1251 - accuracy: 0.9656 - val_loss: 0.2981 - val_accuracy: 0.9536\n",
            "Epoch 192/300\n",
            "5/5 [==============================] - 15s 3s/step - loss: 0.1094 - accuracy: 0.9689 - val_loss: 0.2948 - val_accuracy: 0.9538\n",
            "Epoch 193/300\n",
            "5/5 [==============================] - 15s 3s/step - loss: 0.0936 - accuracy: 0.9725 - val_loss: 0.2919 - val_accuracy: 0.9540\n",
            "Epoch 194/300\n",
            "5/5 [==============================] - 15s 3s/step - loss: 0.0789 - accuracy: 0.9762 - val_loss: 0.2891 - val_accuracy: 0.9544\n",
            "Epoch 195/300\n",
            "5/5 [==============================] - 15s 3s/step - loss: 0.0661 - accuracy: 0.9796 - val_loss: 0.2867 - val_accuracy: 0.9547\n",
            "Epoch 196/300\n",
            "5/5 [==============================] - 15s 3s/step - loss: 0.0555 - accuracy: 0.9828 - val_loss: 0.2841 - val_accuracy: 0.9549\n",
            "Epoch 197/300\n",
            "5/5 [==============================] - 15s 3s/step - loss: 0.0470 - accuracy: 0.9856 - val_loss: 0.2827 - val_accuracy: 0.9556\n",
            "Epoch 198/300\n",
            "5/5 [==============================] - 15s 3s/step - loss: 0.0404 - accuracy: 0.9876 - val_loss: 0.2825 - val_accuracy: 0.9559\n",
            "Epoch 199/300\n",
            "5/5 [==============================] - 15s 3s/step - loss: 0.0353 - accuracy: 0.9892 - val_loss: 0.2824 - val_accuracy: 0.9559\n",
            "Epoch 200/300\n",
            "5/5 [==============================] - 15s 3s/step - loss: 0.0318 - accuracy: 0.9905 - val_loss: 0.2830 - val_accuracy: 0.9559\n",
            "Epoch 201/300\n",
            "5/5 [==============================] - 15s 3s/step - loss: 0.0294 - accuracy: 0.9913 - val_loss: 0.2832 - val_accuracy: 0.9560\n",
            "Epoch 202/300\n",
            "5/5 [==============================] - 15s 3s/step - loss: 0.0276 - accuracy: 0.9917 - val_loss: 0.2837 - val_accuracy: 0.9559\n",
            "Epoch 203/300\n",
            "5/5 [==============================] - 15s 3s/step - loss: 0.0263 - accuracy: 0.9920 - val_loss: 0.2843 - val_accuracy: 0.9562\n",
            "Epoch 204/300\n",
            "5/5 [==============================] - 15s 3s/step - loss: 0.0253 - accuracy: 0.9922 - val_loss: 0.2847 - val_accuracy: 0.9565\n",
            "Epoch 205/300\n",
            "5/5 [==============================] - 15s 3s/step - loss: 0.0247 - accuracy: 0.9922 - val_loss: 0.2857 - val_accuracy: 0.9567\n",
            "Epoch 206/300\n",
            "5/5 [==============================] - 15s 3s/step - loss: 0.0242 - accuracy: 0.9922 - val_loss: 0.2866 - val_accuracy: 0.9564\n",
            "Epoch 207/300\n",
            "5/5 [==============================] - 15s 3s/step - loss: 0.0238 - accuracy: 0.9923 - val_loss: 0.2872 - val_accuracy: 0.9566\n",
            "Epoch 208/300\n",
            "5/5 [==============================] - 15s 3s/step - loss: 0.0234 - accuracy: 0.9922 - val_loss: 0.2881 - val_accuracy: 0.9565\n",
            "Epoch 209/300\n",
            "5/5 [==============================] - 15s 3s/step - loss: 0.0232 - accuracy: 0.9921 - val_loss: 0.2885 - val_accuracy: 0.9566\n",
            "Epoch 210/300\n",
            "5/5 [==============================] - 15s 3s/step - loss: 0.0231 - accuracy: 0.9921 - val_loss: 0.2894 - val_accuracy: 0.9564\n",
            "Epoch 211/300\n",
            "5/5 [==============================] - 15s 3s/step - loss: 0.0230 - accuracy: 0.9920 - val_loss: 0.2891 - val_accuracy: 0.9564\n",
            "Epoch 212/300\n",
            "5/5 [==============================] - 15s 3s/step - loss: 0.0229 - accuracy: 0.9921 - val_loss: 0.2921 - val_accuracy: 0.9562\n",
            "Epoch 213/300\n",
            "5/5 [==============================] - 15s 3s/step - loss: 0.0228 - accuracy: 0.9921 - val_loss: 0.2917 - val_accuracy: 0.9563\n",
            "Epoch 214/300\n",
            "5/5 [==============================] - 15s 3s/step - loss: 0.0228 - accuracy: 0.9920 - val_loss: 0.2917 - val_accuracy: 0.9568\n",
            "Epoch 215/300\n",
            "5/5 [==============================] - 15s 3s/step - loss: 0.0228 - accuracy: 0.9918 - val_loss: 0.2921 - val_accuracy: 0.9565\n",
            "Epoch 216/300\n",
            "5/5 [==============================] - 15s 3s/step - loss: 0.0229 - accuracy: 0.9920 - val_loss: 0.2942 - val_accuracy: 0.9562\n",
            "Epoch 217/300\n",
            "5/5 [==============================] - 15s 3s/step - loss: 0.0229 - accuracy: 0.9920 - val_loss: 0.2939 - val_accuracy: 0.9566\n",
            "Epoch 218/300\n",
            "5/5 [==============================] - 15s 3s/step - loss: 0.0230 - accuracy: 0.9918 - val_loss: 0.2935 - val_accuracy: 0.9568\n",
            "Epoch 219/300\n",
            "5/5 [==============================] - 15s 3s/step - loss: 0.0232 - accuracy: 0.9919 - val_loss: 0.2930 - val_accuracy: 0.9567\n",
            "Epoch 220/300\n",
            "5/5 [==============================] - 15s 3s/step - loss: 0.0232 - accuracy: 0.9917 - val_loss: 0.2956 - val_accuracy: 0.9565\n",
            "Epoch 221/300\n",
            "5/5 [==============================] - 15s 3s/step - loss: 0.0235 - accuracy: 0.9918 - val_loss: 0.2975 - val_accuracy: 0.9560\n",
            "Epoch 222/300\n",
            "5/5 [==============================] - 15s 3s/step - loss: 0.0315 - accuracy: 0.9897 - val_loss: 0.2858 - val_accuracy: 0.9574\n",
            "Epoch 223/300\n",
            "5/5 [==============================] - 15s 3s/step - loss: 0.0383 - accuracy: 0.9878 - val_loss: 0.2808 - val_accuracy: 0.9576\n",
            "Epoch 224/300\n",
            "5/5 [==============================] - 15s 3s/step - loss: 0.0251 - accuracy: 0.9919 - val_loss: 0.2833 - val_accuracy: 0.9577\n",
            "Epoch 225/300\n",
            "5/5 [==============================] - 15s 3s/step - loss: 0.0234 - accuracy: 0.9921 - val_loss: 0.2848 - val_accuracy: 0.9577\n",
            "Epoch 226/300\n",
            "5/5 [==============================] - 15s 3s/step - loss: 0.0230 - accuracy: 0.9921 - val_loss: 0.2864 - val_accuracy: 0.9576\n",
            "Epoch 227/300\n",
            "5/5 [==============================] - 15s 3s/step - loss: 0.0228 - accuracy: 0.9921 - val_loss: 0.2871 - val_accuracy: 0.9576\n",
            "Epoch 228/300\n",
            "5/5 [==============================] - 15s 3s/step - loss: 0.0227 - accuracy: 0.9919 - val_loss: 0.2883 - val_accuracy: 0.9577\n",
            "Epoch 229/300\n",
            "5/5 [==============================] - 15s 3s/step - loss: 0.0226 - accuracy: 0.9920 - val_loss: 0.2885 - val_accuracy: 0.9576\n",
            "Epoch 230/300\n",
            "5/5 [==============================] - 15s 3s/step - loss: 0.0227 - accuracy: 0.9919 - val_loss: 0.2899 - val_accuracy: 0.9576\n",
            "Epoch 231/300\n",
            "5/5 [==============================] - 15s 3s/step - loss: 0.0228 - accuracy: 0.9919 - val_loss: 0.2915 - val_accuracy: 0.9574\n",
            "Epoch 232/300\n",
            "5/5 [==============================] - 15s 3s/step - loss: 0.0228 - accuracy: 0.9919 - val_loss: 0.2928 - val_accuracy: 0.9571\n",
            "Epoch 233/300\n",
            "5/5 [==============================] - 15s 3s/step - loss: 0.0229 - accuracy: 0.9918 - val_loss: 0.2935 - val_accuracy: 0.9575\n",
            "Epoch 234/300\n",
            "5/5 [==============================] - 15s 3s/step - loss: 0.0230 - accuracy: 0.9919 - val_loss: 0.2956 - val_accuracy: 0.9566\n",
            "Epoch 235/300\n",
            "5/5 [==============================] - 15s 3s/step - loss: 0.0231 - accuracy: 0.9918 - val_loss: 0.2950 - val_accuracy: 0.9572\n",
            "Epoch 236/300\n",
            "5/5 [==============================] - 15s 3s/step - loss: 0.0233 - accuracy: 0.9918 - val_loss: 0.2938 - val_accuracy: 0.9580\n",
            "Epoch 237/300\n",
            "5/5 [==============================] - 15s 3s/step - loss: 0.0271 - accuracy: 0.9908 - val_loss: 0.2916 - val_accuracy: 0.9566\n",
            "Epoch 238/300\n",
            "5/5 [==============================] - 15s 3s/step - loss: 0.0265 - accuracy: 0.9913 - val_loss: 0.2892 - val_accuracy: 0.9576\n",
            "Epoch 239/300\n",
            "5/5 [==============================] - 15s 3s/step - loss: 0.0235 - accuracy: 0.9919 - val_loss: 0.2863 - val_accuracy: 0.9577\n",
            "Epoch 240/300\n",
            "5/5 [==============================] - 15s 3s/step - loss: 0.0230 - accuracy: 0.9918 - val_loss: 0.2895 - val_accuracy: 0.9576\n",
            "Epoch 241/300\n",
            "5/5 [==============================] - 15s 3s/step - loss: 0.0227 - accuracy: 0.9920 - val_loss: 0.2899 - val_accuracy: 0.9577\n",
            "Epoch 242/300\n",
            "5/5 [==============================] - 15s 3s/step - loss: 0.0227 - accuracy: 0.9919 - val_loss: 0.2917 - val_accuracy: 0.9577\n",
            "Epoch 243/300\n",
            "5/5 [==============================] - 15s 3s/step - loss: 0.0229 - accuracy: 0.9919 - val_loss: 0.2931 - val_accuracy: 0.9574\n",
            "Epoch 244/300\n",
            "5/5 [==============================] - 15s 3s/step - loss: 0.0230 - accuracy: 0.9918 - val_loss: 0.2933 - val_accuracy: 0.9576\n",
            "Epoch 245/300\n",
            "5/5 [==============================] - 15s 3s/step - loss: 0.0230 - accuracy: 0.9919 - val_loss: 0.2961 - val_accuracy: 0.9573\n",
            "Epoch 246/300\n",
            "5/5 [==============================] - 15s 3s/step - loss: 0.0232 - accuracy: 0.9917 - val_loss: 0.2935 - val_accuracy: 0.9579\n",
            "Epoch 247/300\n",
            "5/5 [==============================] - 15s 3s/step - loss: 0.0234 - accuracy: 0.9917 - val_loss: 0.2981 - val_accuracy: 0.9574\n",
            "Epoch 248/300\n",
            "5/5 [==============================] - 15s 3s/step - loss: 0.0233 - accuracy: 0.9917 - val_loss: 0.2950 - val_accuracy: 0.9577\n",
            "Epoch 249/300\n",
            "5/5 [==============================] - 15s 3s/step - loss: 0.0234 - accuracy: 0.9917 - val_loss: 0.2973 - val_accuracy: 0.9569\n",
            "Epoch 250/300\n",
            "5/5 [==============================] - 15s 3s/step - loss: 0.0235 - accuracy: 0.9917 - val_loss: 0.2944 - val_accuracy: 0.9576\n",
            "Epoch 251/300\n",
            "5/5 [==============================] - 15s 3s/step - loss: 0.0234 - accuracy: 0.9919 - val_loss: 0.2948 - val_accuracy: 0.9572\n",
            "Epoch 252/300\n",
            "5/5 [==============================] - 15s 3s/step - loss: 0.0234 - accuracy: 0.9916 - val_loss: 0.2927 - val_accuracy: 0.9573\n",
            "Epoch 253/300\n",
            "5/5 [==============================] - 15s 3s/step - loss: 0.0234 - accuracy: 0.9916 - val_loss: 0.2972 - val_accuracy: 0.9576\n",
            "Epoch 254/300\n",
            "5/5 [==============================] - 15s 3s/step - loss: 0.0269 - accuracy: 0.9908 - val_loss: 0.2944 - val_accuracy: 0.9575\n",
            "Epoch 255/300\n",
            "5/5 [==============================] - 15s 3s/step - loss: 0.0300 - accuracy: 0.9901 - val_loss: 0.2909 - val_accuracy: 0.9573\n",
            "Epoch 256/300\n",
            "5/5 [==============================] - 15s 3s/step - loss: 0.0243 - accuracy: 0.9918 - val_loss: 0.2910 - val_accuracy: 0.9569\n",
            "Epoch 257/300\n",
            "5/5 [==============================] - 15s 3s/step - loss: 0.0230 - accuracy: 0.9921 - val_loss: 0.2930 - val_accuracy: 0.9570\n",
            "Epoch 258/300\n",
            "5/5 [==============================] - 15s 3s/step - loss: 0.0227 - accuracy: 0.9918 - val_loss: 0.2921 - val_accuracy: 0.9573\n",
            "Epoch 259/300\n",
            "5/5 [==============================] - 15s 3s/step - loss: 0.0226 - accuracy: 0.9920 - val_loss: 0.2927 - val_accuracy: 0.9573\n",
            "Epoch 260/300\n",
            "5/5 [==============================] - 15s 3s/step - loss: 0.0226 - accuracy: 0.9918 - val_loss: 0.2944 - val_accuracy: 0.9572\n",
            "Epoch 261/300\n",
            "5/5 [==============================] - 15s 3s/step - loss: 0.0226 - accuracy: 0.9919 - val_loss: 0.2943 - val_accuracy: 0.9570\n",
            "Epoch 262/300\n",
            "5/5 [==============================] - 15s 3s/step - loss: 0.0227 - accuracy: 0.9919 - val_loss: 0.2963 - val_accuracy: 0.9572\n",
            "Epoch 263/300\n",
            "5/5 [==============================] - 15s 3s/step - loss: 0.0228 - accuracy: 0.9919 - val_loss: 0.2964 - val_accuracy: 0.9570\n",
            "Epoch 264/300\n",
            "5/5 [==============================] - 15s 3s/step - loss: 0.0229 - accuracy: 0.9918 - val_loss: 0.2990 - val_accuracy: 0.9574\n",
            "Epoch 265/300\n",
            "5/5 [==============================] - 15s 3s/step - loss: 0.0231 - accuracy: 0.9918 - val_loss: 0.2974 - val_accuracy: 0.9567\n",
            "Epoch 266/300\n",
            "5/5 [==============================] - 15s 3s/step - loss: 0.0232 - accuracy: 0.9918 - val_loss: 0.3002 - val_accuracy: 0.9574\n",
            "Epoch 267/300\n",
            "5/5 [==============================] - 15s 3s/step - loss: 0.0234 - accuracy: 0.9918 - val_loss: 0.2978 - val_accuracy: 0.9570\n",
            "Epoch 268/300\n",
            "5/5 [==============================] - 15s 3s/step - loss: 0.0234 - accuracy: 0.9918 - val_loss: 0.2992 - val_accuracy: 0.9570\n",
            "Epoch 269/300\n",
            "5/5 [==============================] - 15s 3s/step - loss: 0.0233 - accuracy: 0.9917 - val_loss: 0.2988 - val_accuracy: 0.9567\n",
            "Epoch 270/300\n",
            "5/5 [==============================] - 15s 3s/step - loss: 0.0236 - accuracy: 0.9916 - val_loss: 0.2957 - val_accuracy: 0.9575\n",
            "Epoch 271/300\n",
            "5/5 [==============================] - 15s 3s/step - loss: 0.0250 - accuracy: 0.9916 - val_loss: 0.2937 - val_accuracy: 0.9576\n",
            "Epoch 272/300\n",
            "5/5 [==============================] - 15s 3s/step - loss: 0.0241 - accuracy: 0.9916 - val_loss: 0.2974 - val_accuracy: 0.9570\n",
            "Epoch 273/300\n",
            "5/5 [==============================] - 15s 3s/step - loss: 0.0238 - accuracy: 0.9917 - val_loss: 0.2922 - val_accuracy: 0.9574\n",
            "Epoch 274/300\n",
            "5/5 [==============================] - 15s 3s/step - loss: 0.0231 - accuracy: 0.9918 - val_loss: 0.2961 - val_accuracy: 0.9568\n",
            "Epoch 275/300\n",
            "5/5 [==============================] - 15s 3s/step - loss: 0.0228 - accuracy: 0.9918 - val_loss: 0.2948 - val_accuracy: 0.9572\n",
            "Epoch 276/300\n",
            "5/5 [==============================] - 15s 3s/step - loss: 0.0229 - accuracy: 0.9919 - val_loss: 0.2966 - val_accuracy: 0.9574\n",
            "Epoch 277/300\n",
            "5/5 [==============================] - 15s 3s/step - loss: 0.0229 - accuracy: 0.9918 - val_loss: 0.2983 - val_accuracy: 0.9572\n",
            "Epoch 278/300\n",
            "5/5 [==============================] - 15s 3s/step - loss: 0.0231 - accuracy: 0.9917 - val_loss: 0.2998 - val_accuracy: 0.9573\n",
            "Epoch 279/300\n",
            "5/5 [==============================] - 15s 3s/step - loss: 0.0229 - accuracy: 0.9918 - val_loss: 0.2973 - val_accuracy: 0.9568\n",
            "Epoch 280/300\n",
            "5/5 [==============================] - 15s 3s/step - loss: 0.0231 - accuracy: 0.9918 - val_loss: 0.2988 - val_accuracy: 0.9576\n",
            "Epoch 281/300\n",
            "5/5 [==============================] - 15s 3s/step - loss: 0.0232 - accuracy: 0.9917 - val_loss: 0.2998 - val_accuracy: 0.9570\n",
            "Epoch 282/300\n",
            "5/5 [==============================] - 15s 3s/step - loss: 0.0233 - accuracy: 0.9917 - val_loss: 0.2985 - val_accuracy: 0.9571\n",
            "Epoch 283/300\n",
            "5/5 [==============================] - 15s 3s/step - loss: 0.0232 - accuracy: 0.9916 - val_loss: 0.3014 - val_accuracy: 0.9571\n",
            "Epoch 284/300\n",
            "5/5 [==============================] - 15s 3s/step - loss: 0.0233 - accuracy: 0.9916 - val_loss: 0.3000 - val_accuracy: 0.9572\n",
            "Epoch 285/300\n",
            "5/5 [==============================] - 15s 3s/step - loss: 0.0233 - accuracy: 0.9917 - val_loss: 0.2997 - val_accuracy: 0.9574\n",
            "Epoch 286/300\n",
            "5/5 [==============================] - 15s 3s/step - loss: 0.0234 - accuracy: 0.9917 - val_loss: 0.2996 - val_accuracy: 0.9575\n",
            "Epoch 287/300\n",
            "5/5 [==============================] - 15s 3s/step - loss: 0.0233 - accuracy: 0.9918 - val_loss: 0.2995 - val_accuracy: 0.9575\n",
            "Epoch 288/300\n",
            "5/5 [==============================] - 15s 3s/step - loss: 0.0233 - accuracy: 0.9917 - val_loss: 0.3019 - val_accuracy: 0.9569\n",
            "Epoch 289/300\n",
            "5/5 [==============================] - 15s 3s/step - loss: 0.0233 - accuracy: 0.9916 - val_loss: 0.2988 - val_accuracy: 0.9571\n",
            "Epoch 290/300\n",
            "5/5 [==============================] - 15s 3s/step - loss: 0.0232 - accuracy: 0.9918 - val_loss: 0.2985 - val_accuracy: 0.9574\n",
            "Epoch 291/300\n",
            "5/5 [==============================] - 15s 3s/step - loss: 0.0232 - accuracy: 0.9916 - val_loss: 0.3002 - val_accuracy: 0.9572\n",
            "Epoch 292/300\n",
            "5/5 [==============================] - 15s 3s/step - loss: 0.0233 - accuracy: 0.9916 - val_loss: 0.3002 - val_accuracy: 0.9572\n",
            "Epoch 293/300\n",
            "5/5 [==============================] - 15s 3s/step - loss: 0.0233 - accuracy: 0.9918 - val_loss: 0.3004 - val_accuracy: 0.9573\n",
            "Epoch 294/300\n",
            "5/5 [==============================] - 15s 3s/step - loss: 0.0232 - accuracy: 0.9917 - val_loss: 0.2991 - val_accuracy: 0.9572\n",
            "Epoch 295/300\n",
            "5/5 [==============================] - 15s 3s/step - loss: 0.0233 - accuracy: 0.9916 - val_loss: 0.2995 - val_accuracy: 0.9569\n",
            "Epoch 296/300\n",
            "5/5 [==============================] - 15s 3s/step - loss: 0.0231 - accuracy: 0.9919 - val_loss: 0.3017 - val_accuracy: 0.9570\n",
            "Epoch 297/300\n",
            "5/5 [==============================] - 15s 3s/step - loss: 0.0232 - accuracy: 0.9916 - val_loss: 0.3033 - val_accuracy: 0.9572\n",
            "Epoch 298/300\n",
            "5/5 [==============================] - 15s 3s/step - loss: 0.0232 - accuracy: 0.9917 - val_loss: 0.2990 - val_accuracy: 0.9570\n",
            "Epoch 299/300\n",
            "5/5 [==============================] - 15s 3s/step - loss: 0.0232 - accuracy: 0.9917 - val_loss: 0.3014 - val_accuracy: 0.9568\n",
            "Epoch 300/300\n",
            "5/5 [==============================] - 15s 3s/step - loss: 0.0232 - accuracy: 0.9916 - val_loss: 0.2985 - val_accuracy: 0.9572\n"
          ],
          "name": "stdout"
        },
        {
          "output_type": "execute_result",
          "data": {
            "text/plain": [
              "<tensorflow.python.keras.callbacks.History at 0x7f7e07532150>"
            ]
          },
          "metadata": {
            "tags": []
          },
          "execution_count": 161
        }
      ]
    },
    {
      "cell_type": "code",
      "metadata": {
        "id": "ivgfY4-ohy5z"
      },
      "source": [
        "# inference setup\n",
        "encoder_model = Model(encoder_inputs, encoder_states)\n",
        "\n",
        "decoder_state_input_h = Input(shape=(latent_dim,))\n",
        "decoder_state_input_c = Input(shape=(latent_dim,))\n",
        "decoder_states_inputs = [decoder_state_input_h, decoder_state_input_c]\n",
        "decoder_outputs, state_h, state_c = decoder_lstm(\n",
        "    decoder_inputs, initial_state=decoder_states_inputs)\n",
        "decoder_states = [state_h, state_c]\n",
        "decoder_outputs = decoder_dense(decoder_outputs)\n",
        "decoder_model = Model(\n",
        "    [decoder_inputs] + decoder_states_inputs,\n",
        "    [decoder_outputs] + decoder_states)"
      ],
      "execution_count": 162,
      "outputs": []
    },
    {
      "cell_type": "code",
      "metadata": {
        "id": "KZVAhEDdV8mS"
      },
      "source": [
        "encoder_model.save('encoder_model_760epochs.h5')"
      ],
      "execution_count": 166,
      "outputs": []
    },
    {
      "cell_type": "code",
      "metadata": {
        "id": "742-ggnwWsxB"
      },
      "source": [
        "decoder_model.save(\"decoder_model_760epochs.h5\")"
      ],
      "execution_count": 167,
      "outputs": []
    },
    {
      "cell_type": "code",
      "metadata": {
        "id": "W5JFZNeSWyBq"
      },
      "source": [
        "model.save('model_760epochs.h5')"
      ],
      "execution_count": 170,
      "outputs": []
    },
    {
      "cell_type": "code",
      "metadata": {
        "id": "7xTue5Nrl9UX"
      },
      "source": [
        "target_seq = np.zeros((1, 1, num_decoder_tokens))"
      ],
      "execution_count": 97,
      "outputs": []
    },
    {
      "cell_type": "code",
      "metadata": {
        "colab": {
          "base_uri": "https://localhost:8080/"
        },
        "id": "oYtQkV3yl-a0",
        "outputId": "aee2e6a5-1241-4db5-ac12-1647ff312160"
      },
      "source": [
        "target_seq"
      ],
      "execution_count": 98,
      "outputs": [
        {
          "output_type": "execute_result",
          "data": {
            "text/plain": [
              "array([[[0., 0., 0., 0., 0., 0., 0., 0., 0., 0., 0., 0., 0., 0., 0., 0.,\n",
              "         0., 0., 0., 0., 0., 0., 0., 0., 0., 0., 0., 0., 0., 0., 0., 0.,\n",
              "         0., 0., 0., 0., 0., 0., 0., 0., 0., 0., 0., 0., 0., 0., 0., 0.,\n",
              "         0., 0., 0., 0., 0., 0., 0., 0., 0., 0., 0., 0., 0., 0., 0., 0.,\n",
              "         0., 0., 0., 0., 0., 0., 0., 0., 0., 0., 0., 0., 0., 0., 0., 0.,\n",
              "         0., 0., 0., 0., 0., 0., 0., 0., 0., 0., 0., 0., 0., 0., 0., 0.,\n",
              "         0., 0., 0., 0., 0., 0., 0., 0., 0., 0., 0., 0., 0., 0., 0., 0.]]])"
            ]
          },
          "metadata": {
            "tags": []
          },
          "execution_count": 98
        }
      ]
    },
    {
      "cell_type": "code",
      "metadata": {
        "colab": {
          "base_uri": "https://localhost:8080/"
        },
        "id": "gCCElLfQmBwk",
        "outputId": "56ba05e0-119a-486d-b433-3b72ec3a968a"
      },
      "source": [
        "target_seq[0, 0, target_token_index['\\t']] = 1.\n",
        "target_seq"
      ],
      "execution_count": 100,
      "outputs": [
        {
          "output_type": "execute_result",
          "data": {
            "text/plain": [
              "array([[[1., 0., 0., 0., 0., 0., 0., 0., 0., 0., 0., 0., 0., 0., 0., 0.,\n",
              "         0., 0., 0., 0., 0., 0., 0., 0., 0., 0., 0., 0., 0., 0., 0., 0.,\n",
              "         0., 0., 0., 0., 0., 0., 0., 0., 0., 0., 0., 0., 0., 0., 0., 0.,\n",
              "         0., 0., 0., 0., 0., 0., 0., 0., 0., 0., 0., 0., 0., 0., 0., 0.,\n",
              "         0., 0., 0., 0., 0., 0., 0., 0., 0., 0., 0., 0., 0., 0., 0., 0.,\n",
              "         0., 0., 0., 0., 0., 0., 0., 0., 0., 0., 0., 0., 0., 0., 0., 0.,\n",
              "         0., 0., 0., 0., 0., 0., 0., 0., 0., 0., 0., 0., 0., 0., 0., 0.]]])"
            ]
          },
          "metadata": {
            "tags": []
          },
          "execution_count": 100
        }
      ]
    },
    {
      "cell_type": "code",
      "metadata": {
        "id": "4Du-O2kviD8W"
      },
      "source": [
        "def decode_sequence(input_seq):\n",
        "    # Encode the input as state vectors.\n",
        "    states_value = encoder_model.predict(input_seq)\n",
        "\n",
        "    # Generate empty target sequence of length 1.\n",
        "    target_seq = np.zeros((1, 1, num_decoder_tokens))\n",
        "    # Populate the first character of target sequence with the start character.\n",
        "    target_seq[0, 0, target_token_index['\\t']] = 1.\n",
        "\n",
        "    # Sampling loop for a batch of sequences\n",
        "    # (to simplify, here we assume a batch of size 1).\n",
        "    stop_condition = False\n",
        "    decoded_sentence = ''\n",
        "    while not stop_condition:\n",
        "        output_tokens, h, c = decoder_model.predict(\n",
        "            [target_seq] + states_value)\n",
        "\n",
        "        # Sample a token\n",
        "        # print(output_tokens.shape) # 1 1 112\n",
        "        sampled_token_index = np.argmax(output_tokens[0, -1, :])\n",
        "        sampled_char = target_token_reverse_index[sampled_token_index]\n",
        "        # print(sampled_char)\n",
        "        decoded_sentence += sampled_char\n",
        "\n",
        "        # Exit condition: either hit max length\n",
        "        # or find stop character.\n",
        "        if (sampled_char == '\\n' or\n",
        "           len(decoded_sentence) > max_decoder_seq_length):\n",
        "            stop_condition = True\n",
        "\n",
        "        # Update the target sequence (of length 1).\n",
        "        target_seq = np.zeros((1, 1, num_decoder_tokens))\n",
        "        target_seq[0, 0, sampled_token_index] = 1.\n",
        "\n",
        "        # Update states\n",
        "        states_value = [h, c]\n",
        "\n",
        "    return decoded_sentence"
      ],
      "execution_count": 163,
      "outputs": []
    },
    {
      "cell_type": "code",
      "metadata": {
        "colab": {
          "base_uri": "https://localhost:8080/"
        },
        "id": "pdYO2bLriPcd",
        "outputId": "f1b2ea43-3a3e-41eb-c9a6-8e7550570535"
      },
      "source": [
        "encoder_input_data[0]"
      ],
      "execution_count": 88,
      "outputs": [
        {
          "output_type": "execute_result",
          "data": {
            "text/plain": [
              "array([[0., 0., 0., ..., 0., 0., 0.],\n",
              "       [0., 0., 0., ..., 0., 0., 0.],\n",
              "       [0., 0., 0., ..., 0., 0., 0.],\n",
              "       ...,\n",
              "       [1., 0., 0., ..., 0., 0., 0.],\n",
              "       [1., 0., 0., ..., 0., 0., 0.],\n",
              "       [1., 0., 0., ..., 0., 0., 0.]], dtype=float32)"
            ]
          },
          "metadata": {
            "tags": []
          },
          "execution_count": 88
        }
      ]
    },
    {
      "cell_type": "code",
      "metadata": {
        "colab": {
          "base_uri": "https://localhost:8080/",
          "height": 35
        },
        "id": "wVjCb7HkuxJS",
        "outputId": "b06906a9-f042-4cb2-d48e-26e97979250f"
      },
      "source": [
        "input_texts[1]"
      ],
      "execution_count": 156,
      "outputs": [
        {
          "output_type": "execute_result",
          "data": {
            "application/vnd.google.colaboratory.intrinsic+json": {
              "type": "string"
            },
            "text/plain": [
              "'solo yasua không'"
            ]
          },
          "metadata": {
            "tags": []
          },
          "execution_count": 156
        }
      ]
    },
    {
      "cell_type": "code",
      "metadata": {
        "colab": {
          "base_uri": "https://localhost:8080/"
        },
        "id": "q-oh9zw6imNU",
        "outputId": "1027f60c-b9b1-4eae-9b0c-8e6ca3cceef6"
      },
      "source": [
        "for i in range(5):\n",
        "  print(decode_sequence(np.array([encoder_input_data[i]])))"
      ],
      "execution_count": 164,
      "outputs": [
        {
          "output_type": "stream",
          "text": [
            "mình thích đi ăn cùng người yêu\n",
            "\n",
            "mình thích đi ăn cùng người yêu\n",
            "\n",
            "mình thích đi ăn cùng người yêu\n",
            "\n",
            "mình thích đi ăn cùng người yêu\n",
            "\n",
            "mình thích đi ăn cùng người yêu\n",
            "\n"
          ],
          "name": "stdout"
        }
      ]
    },
    {
      "cell_type": "code",
      "metadata": {
        "id": "BmEaTtgG4vbc"
      },
      "source": [
        "mình thích nghe nhạc hoặc xem phim, đôi khi là chơi game nha binh cùng khang cho tho tao sone với crush kết không thể mào tối bạn của sứnh trảnh cũng không biế tới với bạn bè thì là cũng chứa biết chá nhiền là chía chải tao mài lên \n"
      ],
      "execution_count": null,
      "outputs": []
    }
  ]
}