{
  "nbformat": 4,
  "nbformat_minor": 0,
  "metadata": {
    "colab": {
      "name": "final_VSM_bai1.ipynb",
      "provenance": [],
      "mount_file_id": "1bKJNJ_3SfQZMHRTPl3hvloue7B852kv4",
      "authorship_tag": "ABX9TyNbzgtIglsFZVD4gbuUVGNy",
      "include_colab_link": true
    },
    "kernelspec": {
      "name": "python3",
      "display_name": "Python 3"
    },
    "language_info": {
      "name": "python"
    }
  },
  "cells": [
    {
      "cell_type": "markdown",
      "metadata": {
        "id": "view-in-github",
        "colab_type": "text"
      },
      "source": [
        "<a href=\"https://colab.research.google.com/github/1000Roses/NLP_course/blob/main/final_VSM_bai1.ipynb\" target=\"_parent\"><img src=\"https://colab.research.google.com/assets/colab-badge.svg\" alt=\"Open In Colab\"/></a>"
      ]
    },
    {
      "cell_type": "code",
      "metadata": {
        "id": "rMlSsS2DQ2Ia"
      },
      "source": [
        "!pip install underthesea"
      ],
      "execution_count": null,
      "outputs": []
    },
    {
      "cell_type": "code",
      "metadata": {
        "id": "5WjiYbydDWZU"
      },
      "source": [
        "from underthesea import word_tokenize\n",
        "import numpy as np\n",
        "import pandas as pd\n",
        "from gensim.models import Word2Vec\n",
        "from sklearn.metrics.pairwise import cosine_similarity"
      ],
      "execution_count": 193,
      "outputs": []
    },
    {
      "cell_type": "code",
      "metadata": {
        "id": "1gfZxKlRDk41"
      },
      "source": [
        "FRIEND_PRE_DATA = list()\n",
        "VOCAB_SIZE = 0"
      ],
      "execution_count": 194,
      "outputs": []
    },
    {
      "cell_type": "code",
      "metadata": {
        "id": "J8Njk80KDlXM"
      },
      "source": [
        "path = '/content/drive/MyDrive/NLP/chatbotdata/bạn bè.txt'\n",
        "with open(path) as frienddata:\n",
        "  i = 0\n",
        "  for data in frienddata:\n",
        "    sent = data.split(\"__eou__\")[:2]\n",
        "    if len(sent) == 2:\n",
        "      anq = list()\n",
        "      for subsent in sent:\n",
        "        anq.append(subsent)\n",
        "      FRIEND_PRE_DATA.append(anq)"
      ],
      "execution_count": 195,
      "outputs": []
    },
    {
      "cell_type": "code",
      "metadata": {
        "colab": {
          "base_uri": "https://localhost:8080/"
        },
        "id": "N5rTtGOXD-Rk",
        "outputId": "4f2612aa-e734-493d-8ab6-0d23d059550b"
      },
      "source": [
        "FRIEND_PRE_DATA[0]"
      ],
      "execution_count": 196,
      "outputs": [
        {
          "output_type": "execute_result",
          "data": {
            "text/plain": [
              "['Thích đánh lộn không? ', ' Ngon nhà vô ']"
            ]
          },
          "metadata": {
            "tags": []
          },
          "execution_count": 196
        }
      ]
    },
    {
      "cell_type": "code",
      "metadata": {
        "id": "V8UE-VT0EDcq"
      },
      "source": [
        "df = pd.DataFrame(FRIEND_PRE_DATA, columns=[\"Question\", \"Answer\"])"
      ],
      "execution_count": 197,
      "outputs": []
    },
    {
      "cell_type": "code",
      "metadata": {
        "id": "O4PoGAJ1EdIQ"
      },
      "source": [
        "df['Merge'] = df['Question'] + df[\"Answer\"]"
      ],
      "execution_count": 198,
      "outputs": []
    },
    {
      "cell_type": "code",
      "metadata": {
        "colab": {
          "base_uri": "https://localhost:8080/",
          "height": 343
        },
        "id": "PeVOFxPcEpNG",
        "outputId": "fcb7cd10-506c-42e4-cd98-dc4f2db0afe3"
      },
      "source": [
        "df.head(10)"
      ],
      "execution_count": 199,
      "outputs": [
        {
          "output_type": "execute_result",
          "data": {
            "text/html": [
              "<div>\n",
              "<style scoped>\n",
              "    .dataframe tbody tr th:only-of-type {\n",
              "        vertical-align: middle;\n",
              "    }\n",
              "\n",
              "    .dataframe tbody tr th {\n",
              "        vertical-align: top;\n",
              "    }\n",
              "\n",
              "    .dataframe thead th {\n",
              "        text-align: right;\n",
              "    }\n",
              "</style>\n",
              "<table border=\"1\" class=\"dataframe\">\n",
              "  <thead>\n",
              "    <tr style=\"text-align: right;\">\n",
              "      <th></th>\n",
              "      <th>Question</th>\n",
              "      <th>Answer</th>\n",
              "      <th>Merge</th>\n",
              "    </tr>\n",
              "  </thead>\n",
              "  <tbody>\n",
              "    <tr>\n",
              "      <th>0</th>\n",
              "      <td>Thích đánh lộn không?</td>\n",
              "      <td>Ngon nhà vô</td>\n",
              "      <td>Thích đánh lộn không?  Ngon nhà vô</td>\n",
              "    </tr>\n",
              "    <tr>\n",
              "      <th>1</th>\n",
              "      <td>Solo yasua không</td>\n",
              "      <td>Chấp lun 2 mạng đầu</td>\n",
              "      <td>Solo yasua không  Chấp lun 2 mạng đầu</td>\n",
              "    </tr>\n",
              "    <tr>\n",
              "      <th>2</th>\n",
              "      <td>Mai đi picnic không?</td>\n",
              "      <td>Mai bận học rồi</td>\n",
              "      <td>Mai đi picnic không?  Mai bận học rồi</td>\n",
              "    </tr>\n",
              "    <tr>\n",
              "      <th>3</th>\n",
              "      <td>Mai học ca mấy vậy?</td>\n",
              "      <td>Mai học ca 3</td>\n",
              "      <td>Mai học ca mấy vậy?  Mai học ca 3</td>\n",
              "    </tr>\n",
              "    <tr>\n",
              "      <th>4</th>\n",
              "      <td>Còn tiền không?</td>\n",
              "      <td>Còn chết liền</td>\n",
              "      <td>Còn tiền không?  Còn chết liền</td>\n",
              "    </tr>\n",
              "    <tr>\n",
              "      <th>5</th>\n",
              "      <td>Mấy giờ rồi nhỉ?</td>\n",
              "      <td>11:00 rồi</td>\n",
              "      <td>Mấy giờ rồi nhỉ?  11:00 rồi</td>\n",
              "    </tr>\n",
              "    <tr>\n",
              "      <th>6</th>\n",
              "      <td>Bao lâu rồi chưa về quê</td>\n",
              "      <td>1 tháng rồi</td>\n",
              "      <td>Bao lâu rồi chưa về quê  1 tháng rồi</td>\n",
              "    </tr>\n",
              "    <tr>\n",
              "      <th>7</th>\n",
              "      <td>Bạn có crush chưa</td>\n",
              "      <td>Mình có rồi</td>\n",
              "      <td>Bạn có crush chưa  Mình có rồi</td>\n",
              "    </tr>\n",
              "    <tr>\n",
              "      <th>8</th>\n",
              "      <td>Crush bao lâu rồi</td>\n",
              "      <td>Khoảng 10 năm</td>\n",
              "      <td>Crush bao lâu rồi  Khoảng 10 năm</td>\n",
              "    </tr>\n",
              "    <tr>\n",
              "      <th>9</th>\n",
              "      <td>Crush có Bồ chưa?</td>\n",
              "      <td>Có rồi huhu</td>\n",
              "      <td>Crush có Bồ chưa?  Có rồi huhu</td>\n",
              "    </tr>\n",
              "  </tbody>\n",
              "</table>\n",
              "</div>"
            ],
            "text/plain": [
              "                   Question  ...                                   Merge\n",
              "0    Thích đánh lộn không?   ...     Thích đánh lộn không?  Ngon nhà vô \n",
              "1         Solo yasua không   ...  Solo yasua không  Chấp lun 2 mạng đầu \n",
              "2     Mai đi picnic không?   ...  Mai đi picnic không?  Mai bận học rồi \n",
              "3      Mai học ca mấy vậy?   ...      Mai học ca mấy vậy?  Mai học ca 3 \n",
              "4          Còn tiền không?   ...         Còn tiền không?  Còn chết liền \n",
              "5         Mấy giờ rồi nhỉ?   ...            Mấy giờ rồi nhỉ?  11:00 rồi \n",
              "6  Bao lâu rồi chưa về quê   ...   Bao lâu rồi chưa về quê  1 tháng rồi \n",
              "7        Bạn có crush chưa   ...         Bạn có crush chưa  Mình có rồi \n",
              "8        Crush bao lâu rồi   ...       Crush bao lâu rồi  Khoảng 10 năm \n",
              "9        Crush có Bồ chưa?   ...         Crush có Bồ chưa?  Có rồi huhu \n",
              "\n",
              "[10 rows x 3 columns]"
            ]
          },
          "metadata": {
            "tags": []
          },
          "execution_count": 199
        }
      ]
    },
    {
      "cell_type": "code",
      "metadata": {
        "id": "8NLZ_p9_Ewyc"
      },
      "source": [
        "document_token = [ word_tokenize(sent.lower()) for sent in df['Merge']] "
      ],
      "execution_count": 200,
      "outputs": []
    },
    {
      "cell_type": "code",
      "metadata": {
        "id": "9_6XhkSkGRW5"
      },
      "source": [
        "df[\"Tokenize\"] = document_token"
      ],
      "execution_count": 201,
      "outputs": []
    },
    {
      "cell_type": "code",
      "metadata": {
        "colab": {
          "base_uri": "https://localhost:8080/",
          "height": 343
        },
        "id": "wwMtQad0GYoy",
        "outputId": "91539857-b953-4965-a4f6-d6659d6da422"
      },
      "source": [
        "df.head(10)"
      ],
      "execution_count": 202,
      "outputs": [
        {
          "output_type": "execute_result",
          "data": {
            "text/html": [
              "<div>\n",
              "<style scoped>\n",
              "    .dataframe tbody tr th:only-of-type {\n",
              "        vertical-align: middle;\n",
              "    }\n",
              "\n",
              "    .dataframe tbody tr th {\n",
              "        vertical-align: top;\n",
              "    }\n",
              "\n",
              "    .dataframe thead th {\n",
              "        text-align: right;\n",
              "    }\n",
              "</style>\n",
              "<table border=\"1\" class=\"dataframe\">\n",
              "  <thead>\n",
              "    <tr style=\"text-align: right;\">\n",
              "      <th></th>\n",
              "      <th>Question</th>\n",
              "      <th>Answer</th>\n",
              "      <th>Merge</th>\n",
              "      <th>Tokenize</th>\n",
              "    </tr>\n",
              "  </thead>\n",
              "  <tbody>\n",
              "    <tr>\n",
              "      <th>0</th>\n",
              "      <td>Thích đánh lộn không?</td>\n",
              "      <td>Ngon nhà vô</td>\n",
              "      <td>Thích đánh lộn không?  Ngon nhà vô</td>\n",
              "      <td>[thích, đánh lộn, không, ?, ngon, nhà, vô]</td>\n",
              "    </tr>\n",
              "    <tr>\n",
              "      <th>1</th>\n",
              "      <td>Solo yasua không</td>\n",
              "      <td>Chấp lun 2 mạng đầu</td>\n",
              "      <td>Solo yasua không  Chấp lun 2 mạng đầu</td>\n",
              "      <td>[solo, yasua, không, chấp, lun, 2, mạng, đầu]</td>\n",
              "    </tr>\n",
              "    <tr>\n",
              "      <th>2</th>\n",
              "      <td>Mai đi picnic không?</td>\n",
              "      <td>Mai bận học rồi</td>\n",
              "      <td>Mai đi picnic không?  Mai bận học rồi</td>\n",
              "      <td>[mai, đi, picnic, không, ?, mai, bận, học, rồi]</td>\n",
              "    </tr>\n",
              "    <tr>\n",
              "      <th>3</th>\n",
              "      <td>Mai học ca mấy vậy?</td>\n",
              "      <td>Mai học ca 3</td>\n",
              "      <td>Mai học ca mấy vậy?  Mai học ca 3</td>\n",
              "      <td>[mai, học, ca, mấy, vậy, ?, mai, học, ca, 3]</td>\n",
              "    </tr>\n",
              "    <tr>\n",
              "      <th>4</th>\n",
              "      <td>Còn tiền không?</td>\n",
              "      <td>Còn chết liền</td>\n",
              "      <td>Còn tiền không?  Còn chết liền</td>\n",
              "      <td>[còn, tiền, không, ?, còn, chết, liền]</td>\n",
              "    </tr>\n",
              "    <tr>\n",
              "      <th>5</th>\n",
              "      <td>Mấy giờ rồi nhỉ?</td>\n",
              "      <td>11:00 rồi</td>\n",
              "      <td>Mấy giờ rồi nhỉ?  11:00 rồi</td>\n",
              "      <td>[mấy, giờ, rồi, nhỉ, ?, 11, :, 00, rồi]</td>\n",
              "    </tr>\n",
              "    <tr>\n",
              "      <th>6</th>\n",
              "      <td>Bao lâu rồi chưa về quê</td>\n",
              "      <td>1 tháng rồi</td>\n",
              "      <td>Bao lâu rồi chưa về quê  1 tháng rồi</td>\n",
              "      <td>[bao lâu, rồi, chưa, về, quê, 1, tháng, rồi]</td>\n",
              "    </tr>\n",
              "    <tr>\n",
              "      <th>7</th>\n",
              "      <td>Bạn có crush chưa</td>\n",
              "      <td>Mình có rồi</td>\n",
              "      <td>Bạn có crush chưa  Mình có rồi</td>\n",
              "      <td>[bạn, có, crush, chưa, mình, có, rồi]</td>\n",
              "    </tr>\n",
              "    <tr>\n",
              "      <th>8</th>\n",
              "      <td>Crush bao lâu rồi</td>\n",
              "      <td>Khoảng 10 năm</td>\n",
              "      <td>Crush bao lâu rồi  Khoảng 10 năm</td>\n",
              "      <td>[crush, bao lâu, rồi, khoảng, 10, năm]</td>\n",
              "    </tr>\n",
              "    <tr>\n",
              "      <th>9</th>\n",
              "      <td>Crush có Bồ chưa?</td>\n",
              "      <td>Có rồi huhu</td>\n",
              "      <td>Crush có Bồ chưa?  Có rồi huhu</td>\n",
              "      <td>[crush, có, bồ, chưa, ?, có, rồi, huhu]</td>\n",
              "    </tr>\n",
              "  </tbody>\n",
              "</table>\n",
              "</div>"
            ],
            "text/plain": [
              "                   Question  ...                                         Tokenize\n",
              "0    Thích đánh lộn không?   ...       [thích, đánh lộn, không, ?, ngon, nhà, vô]\n",
              "1         Solo yasua không   ...    [solo, yasua, không, chấp, lun, 2, mạng, đầu]\n",
              "2     Mai đi picnic không?   ...  [mai, đi, picnic, không, ?, mai, bận, học, rồi]\n",
              "3      Mai học ca mấy vậy?   ...     [mai, học, ca, mấy, vậy, ?, mai, học, ca, 3]\n",
              "4          Còn tiền không?   ...           [còn, tiền, không, ?, còn, chết, liền]\n",
              "5         Mấy giờ rồi nhỉ?   ...          [mấy, giờ, rồi, nhỉ, ?, 11, :, 00, rồi]\n",
              "6  Bao lâu rồi chưa về quê   ...     [bao lâu, rồi, chưa, về, quê, 1, tháng, rồi]\n",
              "7        Bạn có crush chưa   ...            [bạn, có, crush, chưa, mình, có, rồi]\n",
              "8        Crush bao lâu rồi   ...           [crush, bao lâu, rồi, khoảng, 10, năm]\n",
              "9        Crush có Bồ chưa?   ...          [crush, có, bồ, chưa, ?, có, rồi, huhu]\n",
              "\n",
              "[10 rows x 4 columns]"
            ]
          },
          "metadata": {
            "tags": []
          },
          "execution_count": 202
        }
      ]
    },
    {
      "cell_type": "code",
      "metadata": {
        "id": "bcc98STBGf5e"
      },
      "source": [
        "w2v_model = Word2Vec(df['Tokenize'], size = 300, min_count = 2, workers = 3)"
      ],
      "execution_count": 203,
      "outputs": []
    },
    {
      "cell_type": "code",
      "metadata": {
        "colab": {
          "base_uri": "https://localhost:8080/"
        },
        "id": "opU9qhlbHnCs",
        "outputId": "eff0fb87-4359-43d8-b358-ac1a65f8a2e2"
      },
      "source": [
        "w2v_model.wv.most_similar(\"khoảng\")"
      ],
      "execution_count": 204,
      "outputs": [
        {
          "output_type": "execute_result",
          "data": {
            "text/plain": [
              "[('nhau', 0.9995696544647217),\n",
              " (',', 0.9995543956756592),\n",
              " ('rồi', 0.9995535612106323),\n",
              " ('.', 0.9995489120483398),\n",
              " ('?', 0.9995474815368652),\n",
              " ('người', 0.999547004699707),\n",
              " ('với', 0.9995461702346802),\n",
              " ('đi', 0.9995430111885071),\n",
              " ('hay', 0.9995427131652832),\n",
              " ('sao', 0.9995424151420593)]"
            ]
          },
          "metadata": {
            "tags": []
          },
          "execution_count": 204
        }
      ]
    },
    {
      "cell_type": "code",
      "metadata": {
        "colab": {
          "base_uri": "https://localhost:8080/"
        },
        "id": "MRIxqZkNIpOG",
        "outputId": "4145ab2f-f109-4480-afe5-ba8fde758229"
      },
      "source": [
        "print('Vocabulary size:', len(w2v_model.wv.vocab))"
      ],
      "execution_count": 205,
      "outputs": [
        {
          "output_type": "stream",
          "text": [
            "Vocabulary size: 598\n"
          ],
          "name": "stdout"
        }
      ]
    },
    {
      "cell_type": "code",
      "metadata": {
        "colab": {
          "base_uri": "https://localhost:8080/"
        },
        "id": "R3O0EleJI0ZF",
        "outputId": "e7dc75ea-c192-4673-dc51-21f49a134efd"
      },
      "source": [
        "w2v_model.wv.word_vec(\"crush\").shape"
      ],
      "execution_count": 206,
      "outputs": [
        {
          "output_type": "execute_result",
          "data": {
            "text/plain": [
              "(300,)"
            ]
          },
          "metadata": {
            "tags": []
          },
          "execution_count": 206
        }
      ]
    },
    {
      "cell_type": "code",
      "metadata": {
        "id": "knRYd9xDJhy3"
      },
      "source": [
        "embedding_each_sent = list()\n",
        "for sent_tokenize in df['Tokenize']:\n",
        "  embedding = list()\n",
        "  for word in sent_tokenize:\n",
        "    if word not in w2v_model.wv.vocab:\n",
        "      #300 dimension is the same as size of output embedding word2vec\n",
        "      embedding.append(np.random.rand(300))  \n",
        "    else:\n",
        "      embedding.append(w2v_model.wv.word_vec(word))\n",
        "  embedding = np.mean(embedding, axis = 0)\n",
        "  embedding_each_sent.append(embedding)\n",
        "\n"
      ],
      "execution_count": 207,
      "outputs": []
    },
    {
      "cell_type": "code",
      "metadata": {
        "colab": {
          "base_uri": "https://localhost:8080/"
        },
        "id": "h9sdIxGoK-jE",
        "outputId": "591d7b53-3371-440c-dec6-2b8fafea96e7"
      },
      "source": [
        "np.array(embedding_each_sent).shape\n"
      ],
      "execution_count": 208,
      "outputs": [
        {
          "output_type": "execute_result",
          "data": {
            "text/plain": [
              "(610, 300)"
            ]
          },
          "metadata": {
            "tags": []
          },
          "execution_count": 208
        }
      ]
    },
    {
      "cell_type": "code",
      "metadata": {
        "id": "71xEAuGfLHLI"
      },
      "source": [
        "df['Embedding_vector'] = embedding_each_sent\n"
      ],
      "execution_count": 209,
      "outputs": []
    },
    {
      "cell_type": "code",
      "metadata": {
        "colab": {
          "base_uri": "https://localhost:8080/",
          "height": 1000
        },
        "id": "mzUuESSkLQcI",
        "outputId": "adab6c62-36fd-49a0-cd33-b30c86c6912b"
      },
      "source": [
        "df.head(30)\n"
      ],
      "execution_count": 210,
      "outputs": [
        {
          "output_type": "execute_result",
          "data": {
            "text/html": [
              "<div>\n",
              "<style scoped>\n",
              "    .dataframe tbody tr th:only-of-type {\n",
              "        vertical-align: middle;\n",
              "    }\n",
              "\n",
              "    .dataframe tbody tr th {\n",
              "        vertical-align: top;\n",
              "    }\n",
              "\n",
              "    .dataframe thead th {\n",
              "        text-align: right;\n",
              "    }\n",
              "</style>\n",
              "<table border=\"1\" class=\"dataframe\">\n",
              "  <thead>\n",
              "    <tr style=\"text-align: right;\">\n",
              "      <th></th>\n",
              "      <th>Question</th>\n",
              "      <th>Answer</th>\n",
              "      <th>Merge</th>\n",
              "      <th>Tokenize</th>\n",
              "      <th>Embedding_vector</th>\n",
              "    </tr>\n",
              "  </thead>\n",
              "  <tbody>\n",
              "    <tr>\n",
              "      <th>0</th>\n",
              "      <td>Thích đánh lộn không?</td>\n",
              "      <td>Ngon nhà vô</td>\n",
              "      <td>Thích đánh lộn không?  Ngon nhà vô</td>\n",
              "      <td>[thích, đánh lộn, không, ?, ngon, nhà, vô]</td>\n",
              "      <td>[-0.002419531425886325, 0.18361451128266476, 0...</td>\n",
              "    </tr>\n",
              "    <tr>\n",
              "      <th>1</th>\n",
              "      <td>Solo yasua không</td>\n",
              "      <td>Chấp lun 2 mạng đầu</td>\n",
              "      <td>Solo yasua không  Chấp lun 2 mạng đầu</td>\n",
              "      <td>[solo, yasua, không, chấp, lun, 2, mạng, đầu]</td>\n",
              "      <td>[0.2177986643133716, 0.35278749777648666, 0.31...</td>\n",
              "    </tr>\n",
              "    <tr>\n",
              "      <th>2</th>\n",
              "      <td>Mai đi picnic không?</td>\n",
              "      <td>Mai bận học rồi</td>\n",
              "      <td>Mai đi picnic không?  Mai bận học rồi</td>\n",
              "      <td>[mai, đi, picnic, không, ?, mai, bận, học, rồi]</td>\n",
              "      <td>[0.032702188216388074, 0.10600210901175876, 0....</td>\n",
              "    </tr>\n",
              "    <tr>\n",
              "      <th>3</th>\n",
              "      <td>Mai học ca mấy vậy?</td>\n",
              "      <td>Mai học ca 3</td>\n",
              "      <td>Mai học ca mấy vậy?  Mai học ca 3</td>\n",
              "      <td>[mai, học, ca, mấy, vậy, ?, mai, học, ca, 3]</td>\n",
              "      <td>[-0.034582898, 0.06460502, -0.0091148, -0.0246...</td>\n",
              "    </tr>\n",
              "    <tr>\n",
              "      <th>4</th>\n",
              "      <td>Còn tiền không?</td>\n",
              "      <td>Còn chết liền</td>\n",
              "      <td>Còn tiền không?  Còn chết liền</td>\n",
              "      <td>[còn, tiền, không, ?, còn, chết, liền]</td>\n",
              "      <td>[0.06924444304123388, 0.1280587441579126, 0.03...</td>\n",
              "    </tr>\n",
              "    <tr>\n",
              "      <th>5</th>\n",
              "      <td>Mấy giờ rồi nhỉ?</td>\n",
              "      <td>11:00 rồi</td>\n",
              "      <td>Mấy giờ rồi nhỉ?  11:00 rồi</td>\n",
              "      <td>[mấy, giờ, rồi, nhỉ, ?, 11, :, 00, rồi]</td>\n",
              "      <td>[0.009076516738299937, 0.07743546669266738, 0....</td>\n",
              "    </tr>\n",
              "    <tr>\n",
              "      <th>6</th>\n",
              "      <td>Bao lâu rồi chưa về quê</td>\n",
              "      <td>1 tháng rồi</td>\n",
              "      <td>Bao lâu rồi chưa về quê  1 tháng rồi</td>\n",
              "      <td>[bao lâu, rồi, chưa, về, quê, 1, tháng, rồi]</td>\n",
              "      <td>[-0.03717409, 0.06946865, -0.00984173, -0.0263...</td>\n",
              "    </tr>\n",
              "    <tr>\n",
              "      <th>7</th>\n",
              "      <td>Bạn có crush chưa</td>\n",
              "      <td>Mình có rồi</td>\n",
              "      <td>Bạn có crush chưa  Mình có rồi</td>\n",
              "      <td>[bạn, có, crush, chưa, mình, có, rồi]</td>\n",
              "      <td>[-0.06998384, 0.13206232, -0.018603478, -0.050...</td>\n",
              "    </tr>\n",
              "    <tr>\n",
              "      <th>8</th>\n",
              "      <td>Crush bao lâu rồi</td>\n",
              "      <td>Khoảng 10 năm</td>\n",
              "      <td>Crush bao lâu rồi  Khoảng 10 năm</td>\n",
              "      <td>[crush, bao lâu, rồi, khoảng, 10, năm]</td>\n",
              "      <td>[-0.031402793, 0.058421776, -0.007890015, -0.0...</td>\n",
              "    </tr>\n",
              "    <tr>\n",
              "      <th>9</th>\n",
              "      <td>Crush có Bồ chưa?</td>\n",
              "      <td>Có rồi huhu</td>\n",
              "      <td>Crush có Bồ chưa?  Có rồi huhu</td>\n",
              "      <td>[crush, có, bồ, chưa, ?, có, rồi, huhu]</td>\n",
              "      <td>[-0.053210378, 0.10015448, -0.0144921085, -0.0...</td>\n",
              "    </tr>\n",
              "    <tr>\n",
              "      <th>10</th>\n",
              "      <td>Vậy sao còn crush ?</td>\n",
              "      <td>Chưa cưới mà nào cưới thì hết thôi</td>\n",
              "      <td>Vậy sao còn crush ?  Chưa cưới mà nào cưới thì...</td>\n",
              "      <td>[vậy, sao, còn, crush, ?, chưa, cưới, mà, nào,...</td>\n",
              "      <td>[-0.05004563, 0.093474776, -0.0132475365, -0.0...</td>\n",
              "    </tr>\n",
              "    <tr>\n",
              "      <th>11</th>\n",
              "      <td>Bạn có bạn trai chưa?</td>\n",
              "      <td>Mình đang còn ế đây này</td>\n",
              "      <td>Bạn có bạn trai chưa?  Mình đang còn ế đây này</td>\n",
              "      <td>[bạn, có, bạn, trai, chưa, ?, mình, đang, còn,...</td>\n",
              "      <td>[-0.057495296, 0.10768517, -0.014913353, -0.04...</td>\n",
              "    </tr>\n",
              "    <tr>\n",
              "      <th>12</th>\n",
              "      <td>Mai rảnh không rũ bồ đi bar chơi</td>\n",
              "      <td>Rảnh thì rũ không thì thôi</td>\n",
              "      <td>Mai rảnh không rũ bồ đi bar chơi  Rảnh thì rũ ...</td>\n",
              "      <td>[mai, rảnh, không, rũ, bồ, đi, bar, chơi, rảnh...</td>\n",
              "      <td>[-0.029698768607020216, 0.08915940910106622, 0...</td>\n",
              "    </tr>\n",
              "    <tr>\n",
              "      <th>13</th>\n",
              "      <td>Bạn có thói quen làm gì khi rảnh vậy ?</td>\n",
              "      <td>À tui thích xem phim, đọc truyện và đặc biệt ...</td>\n",
              "      <td>Bạn có thói quen làm gì khi rảnh vậy ?  À tui ...</td>\n",
              "      <td>[bạn, có, thói quen, làm, gì, khi, rảnh, vậy, ...</td>\n",
              "      <td>[-0.018704612695349322, 0.1294091389029199, 0....</td>\n",
              "    </tr>\n",
              "    <tr>\n",
              "      <th>14</th>\n",
              "      <td>Khi bạn đi chơi cùng bạn bè thì nơi \"tủ\" của b...</td>\n",
              "      <td>Nơi tui thích đi chơi cùng với bạn bè đó chín...</td>\n",
              "      <td>Khi bạn đi chơi cùng bạn bè thì nơi \"tủ\" của b...</td>\n",
              "      <td>[khi, bạn, đi, chơi, cùng, bạn bè, thì, nơi, \"...</td>\n",
              "      <td>[-0.01863785464569942, 0.14006973982393156, 0....</td>\n",
              "    </tr>\n",
              "    <tr>\n",
              "      <th>15</th>\n",
              "      <td>Bạn có thích hút thuốc lúc rảnh không ?</td>\n",
              "      <td>Mình không thích hút thuốc, vì nó làm hại phổ...</td>\n",
              "      <td>Bạn có thích hút thuốc lúc rảnh không ?  Mình ...</td>\n",
              "      <td>[bạn, có, thích, hút, thuốc, lúc, rảnh, không,...</td>\n",
              "      <td>[0.018915699894849224, 0.17224762925594284, 0....</td>\n",
              "    </tr>\n",
              "    <tr>\n",
              "      <th>16</th>\n",
              "      <td>Bạn có thích học bài lúc rảnh không ?</td>\n",
              "      <td>Thật ra học bài đối với mình là chuyện thường...</td>\n",
              "      <td>Bạn có thích học bài lúc rảnh không ?  Thật ra...</td>\n",
              "      <td>[bạn, có, thích, học, bài, lúc, rảnh, không, ?...</td>\n",
              "      <td>[-0.061211932, 0.116670035, -0.016603518, -0.0...</td>\n",
              "    </tr>\n",
              "    <tr>\n",
              "      <th>17</th>\n",
              "      <td>Bạn có muốn đi bơi cùng bạn bè lúc rảnh không ?</td>\n",
              "      <td>Mình bơi hơi dở, chỉ ngồi coi mấy bạn mình bơ...</td>\n",
              "      <td>Bạn có muốn đi bơi cùng bạn bè lúc rảnh không ...</td>\n",
              "      <td>[bạn, có, muốn, đi, bơi, cùng, bạn bè, lúc, rả...</td>\n",
              "      <td>[-0.04145171957487034, 0.13397648083450245, 0....</td>\n",
              "    </tr>\n",
              "    <tr>\n",
              "      <th>18</th>\n",
              "      <td>Dạo này bạn với crush sao rồi, ổn không ?</td>\n",
              "      <td>Buồn lắm bạn à, crush unfriend trên facebook ...</td>\n",
              "      <td>Dạo này bạn với crush sao rồi, ổn không ?  Buồ...</td>\n",
              "      <td>[dạo, này, bạn, với, crush, sao, rồi, ,, ổn, k...</td>\n",
              "      <td>[-0.04149168875581962, 0.13779691374370615, 0....</td>\n",
              "    </tr>\n",
              "    <tr>\n",
              "      <th>19</th>\n",
              "      <td>Tỏ tình với crush chưa bạn, bữa tui thấy bạn đ...</td>\n",
              "      <td>Hì hì, cũng may lắm bạn ơi, tui tỏ tình xong ...</td>\n",
              "      <td>Tỏ tình với crush chưa bạn, bữa tui thấy bạn đ...</td>\n",
              "      <td>[tỏ tình, với, crush, chưa, bạn, ,, bữa, tui, ...</td>\n",
              "      <td>[0.0006910863579350245, 0.18134136037219165, 0...</td>\n",
              "    </tr>\n",
              "    <tr>\n",
              "      <th>20</th>\n",
              "      <td>Mẫu người bạn thích là như thế nào vậy, bạn có...</td>\n",
              "      <td>Mình rất kén chọn, con gái dễ thương 1 mét 7,...</td>\n",
              "      <td>Mẫu người bạn thích là như thế nào vậy, bạn có...</td>\n",
              "      <td>[mẫu, người, bạn, thích, là, như, thế nào, vậy...</td>\n",
              "      <td>[0.009785340297858556, 0.1573656061185855, 0.0...</td>\n",
              "    </tr>\n",
              "    <tr>\n",
              "      <th>21</th>\n",
              "      <td>Bạn thích tặng quà gì cho người yêu về những d...</td>\n",
              "      <td>Bình thường mình sẽ tặng hoa, son, nhưng có l...</td>\n",
              "      <td>Bạn thích tặng quà gì cho người yêu về những d...</td>\n",
              "      <td>[bạn, thích, tặng, quà, gì, cho, người yêu, về...</td>\n",
              "      <td>[-0.02891685260497603, 0.11905441786264424, 0....</td>\n",
              "    </tr>\n",
              "    <tr>\n",
              "      <th>22</th>\n",
              "      <td>Để giữ mối quan hệ tình cảm nồng cháy thì bạn ...</td>\n",
              "      <td>Mình sẽ nhắn tin vào mỗi sáng, đêm thì call v...</td>\n",
              "      <td>Để giữ mối quan hệ tình cảm nồng cháy thì bạn ...</td>\n",
              "      <td>[để, giữ, mối, quan hệ, tình cảm, nồng cháy, t...</td>\n",
              "      <td>[0.02173284659238113, 0.16966871438624484, 0.0...</td>\n",
              "    </tr>\n",
              "    <tr>\n",
              "      <th>23</th>\n",
              "      <td>lúc rảnh bạn thường làm gì?</td>\n",
              "      <td>mình thường xem phim lúc rảnh</td>\n",
              "      <td>lúc rảnh bạn thường làm gì?  mình thường xem p...</td>\n",
              "      <td>[lúc, rảnh, bạn, thường, làm, gì, ?, mình, thư...</td>\n",
              "      <td>[-0.06229088, 0.118405, -0.016975407, -0.04448...</td>\n",
              "    </tr>\n",
              "    <tr>\n",
              "      <th>24</th>\n",
              "      <td>bạn có hay đi chơi thể thao không?</td>\n",
              "      <td>mình cũng thường hay đi chơi thể thao</td>\n",
              "      <td>bạn có hay đi chơi thể thao không?  mình cũng ...</td>\n",
              "      <td>[bạn, có, hay, đi, chơi, thể thao, không, ?, m...</td>\n",
              "      <td>[-0.06663404, 0.1264843, -0.01781549, -0.04746...</td>\n",
              "    </tr>\n",
              "    <tr>\n",
              "      <th>25</th>\n",
              "      <td>bạn có hay đi chơi thể thao không?</td>\n",
              "      <td>mình hay đi đá banh với bạn vào tối T7 mỗi tuần</td>\n",
              "      <td>bạn có hay đi chơi thể thao không?  mình hay đ...</td>\n",
              "      <td>[bạn, có, hay, đi, chơi, thể thao, không, ?, m...</td>\n",
              "      <td>[-0.01288780002834659, 0.14777820740559758, 0....</td>\n",
              "    </tr>\n",
              "    <tr>\n",
              "      <th>26</th>\n",
              "      <td>bạn thường đi uống cà phê ở quán nào?</td>\n",
              "      <td>mình hay đi uống cà phê tại quán Cộng</td>\n",
              "      <td>bạn thường đi uống cà phê ở quán nào?  mình ha...</td>\n",
              "      <td>[bạn, thường, đi, uống, cà phê, ở, quán, nào, ...</td>\n",
              "      <td>[-0.010341532335314384, 0.12829696063099597, 0...</td>\n",
              "    </tr>\n",
              "    <tr>\n",
              "      <th>27</th>\n",
              "      <td>ngoài tập thể thao ra bạn còn sở thích nào khá...</td>\n",
              "      <td>mình thích đọc sách</td>\n",
              "      <td>ngoài tập thể thao ra bạn còn sở thích nào khá...</td>\n",
              "      <td>[ngoài, tập, thể thao, ra, bạn, còn, sở thích,...</td>\n",
              "      <td>[-0.052405316, 0.09975063, -0.014243027, -0.03...</td>\n",
              "    </tr>\n",
              "    <tr>\n",
              "      <th>28</th>\n",
              "      <td>bạn có người yêu chưa?</td>\n",
              "      <td>mình đã làm gì có người yêu, mình còn đang sợ...</td>\n",
              "      <td>bạn có người yêu chưa?  mình đã làm gì có ngườ...</td>\n",
              "      <td>[bạn, có, người yêu, chưa, ?, mình, đã, làm, g...</td>\n",
              "      <td>[-0.058308758, 0.11006077, -0.015507696, -0.04...</td>\n",
              "    </tr>\n",
              "    <tr>\n",
              "      <th>29</th>\n",
              "      <td>crush của bạn có biết bạn thích bạn không?</td>\n",
              "      <td>không, crush mình không biết mình thích bạn đó</td>\n",
              "      <td>crush của bạn có biết bạn thích bạn không?  kh...</td>\n",
              "      <td>[crush, của, bạn, có, biết, bạn, thích, bạn, k...</td>\n",
              "      <td>[-0.07623354, 0.14416617, -0.02016635, -0.0537...</td>\n",
              "    </tr>\n",
              "  </tbody>\n",
              "</table>\n",
              "</div>"
            ],
            "text/plain": [
              "                                             Question  ...                                   Embedding_vector\n",
              "0                              Thích đánh lộn không?   ...  [-0.002419531425886325, 0.18361451128266476, 0...\n",
              "1                                   Solo yasua không   ...  [0.2177986643133716, 0.35278749777648666, 0.31...\n",
              "2                               Mai đi picnic không?   ...  [0.032702188216388074, 0.10600210901175876, 0....\n",
              "3                                Mai học ca mấy vậy?   ...  [-0.034582898, 0.06460502, -0.0091148, -0.0246...\n",
              "4                                    Còn tiền không?   ...  [0.06924444304123388, 0.1280587441579126, 0.03...\n",
              "5                                   Mấy giờ rồi nhỉ?   ...  [0.009076516738299937, 0.07743546669266738, 0....\n",
              "6                            Bao lâu rồi chưa về quê   ...  [-0.03717409, 0.06946865, -0.00984173, -0.0263...\n",
              "7                                  Bạn có crush chưa   ...  [-0.06998384, 0.13206232, -0.018603478, -0.050...\n",
              "8                                  Crush bao lâu rồi   ...  [-0.031402793, 0.058421776, -0.007890015, -0.0...\n",
              "9                                  Crush có Bồ chưa?   ...  [-0.053210378, 0.10015448, -0.0144921085, -0.0...\n",
              "10                               Vậy sao còn crush ?   ...  [-0.05004563, 0.093474776, -0.0132475365, -0.0...\n",
              "11                             Bạn có bạn trai chưa?   ...  [-0.057495296, 0.10768517, -0.014913353, -0.04...\n",
              "12                  Mai rảnh không rũ bồ đi bar chơi   ...  [-0.029698768607020216, 0.08915940910106622, 0...\n",
              "13            Bạn có thói quen làm gì khi rảnh vậy ?   ...  [-0.018704612695349322, 0.1294091389029199, 0....\n",
              "14  Khi bạn đi chơi cùng bạn bè thì nơi \"tủ\" của b...  ...  [-0.01863785464569942, 0.14006973982393156, 0....\n",
              "15           Bạn có thích hút thuốc lúc rảnh không ?   ...  [0.018915699894849224, 0.17224762925594284, 0....\n",
              "16             Bạn có thích học bài lúc rảnh không ?   ...  [-0.061211932, 0.116670035, -0.016603518, -0.0...\n",
              "17   Bạn có muốn đi bơi cùng bạn bè lúc rảnh không ?   ...  [-0.04145171957487034, 0.13397648083450245, 0....\n",
              "18         Dạo này bạn với crush sao rồi, ổn không ?   ...  [-0.04149168875581962, 0.13779691374370615, 0....\n",
              "19  Tỏ tình với crush chưa bạn, bữa tui thấy bạn đ...  ...  [0.0006910863579350245, 0.18134136037219165, 0...\n",
              "20  Mẫu người bạn thích là như thế nào vậy, bạn có...  ...  [0.009785340297858556, 0.1573656061185855, 0.0...\n",
              "21  Bạn thích tặng quà gì cho người yêu về những d...  ...  [-0.02891685260497603, 0.11905441786264424, 0....\n",
              "22  Để giữ mối quan hệ tình cảm nồng cháy thì bạn ...  ...  [0.02173284659238113, 0.16966871438624484, 0.0...\n",
              "23                       lúc rảnh bạn thường làm gì?   ...  [-0.06229088, 0.118405, -0.016975407, -0.04448...\n",
              "24                bạn có hay đi chơi thể thao không?   ...  [-0.06663404, 0.1264843, -0.01781549, -0.04746...\n",
              "25                bạn có hay đi chơi thể thao không?   ...  [-0.01288780002834659, 0.14777820740559758, 0....\n",
              "26             bạn thường đi uống cà phê ở quán nào?   ...  [-0.010341532335314384, 0.12829696063099597, 0...\n",
              "27  ngoài tập thể thao ra bạn còn sở thích nào khá...  ...  [-0.052405316, 0.09975063, -0.014243027, -0.03...\n",
              "28                            bạn có người yêu chưa?   ...  [-0.058308758, 0.11006077, -0.015507696, -0.04...\n",
              "29        crush của bạn có biết bạn thích bạn không?   ...  [-0.07623354, 0.14416617, -0.02016635, -0.0537...\n",
              "\n",
              "[30 rows x 5 columns]"
            ]
          },
          "metadata": {
            "tags": []
          },
          "execution_count": 210
        }
      ]
    },
    {
      "cell_type": "code",
      "metadata": {
        "colab": {
          "base_uri": "https://localhost:8080/"
        },
        "id": "OcfEQS_OMrGN",
        "outputId": "26d444e4-bcf1-4969-f016-d94a5a15647e"
      },
      "source": [
        "np.array([embedding]).shape"
      ],
      "execution_count": 211,
      "outputs": [
        {
          "output_type": "execute_result",
          "data": {
            "text/plain": [
              "(1, 300)"
            ]
          },
          "metadata": {
            "tags": []
          },
          "execution_count": 211
        }
      ]
    },
    {
      "cell_type": "code",
      "metadata": {
        "colab": {
          "base_uri": "https://localhost:8080/"
        },
        "id": "pcn0A8XyMvjb",
        "outputId": "23062634-4865-4606-d684-249bb3f0fd2b"
      },
      "source": [
        "df['Embedding_vector'][4].shape\n"
      ],
      "execution_count": 212,
      "outputs": [
        {
          "output_type": "execute_result",
          "data": {
            "text/plain": [
              "(300,)"
            ]
          },
          "metadata": {
            "tags": []
          },
          "execution_count": 212
        }
      ]
    },
    {
      "cell_type": "code",
      "metadata": {
        "colab": {
          "base_uri": "https://localhost:8080/"
        },
        "id": "sO4illYzRLil",
        "outputId": "4c84550a-b140-4035-a313-f0c476ebcdaf"
      },
      "source": [
        "def ir():\n",
        "  while(True):\n",
        "    q = input()\n",
        "    if q == \"q\":\n",
        "      break\n",
        "    \n",
        "    q = q.lower()\n",
        "    tokenize_q = word_tokenize(q)\n",
        "    q_embedding = list()\n",
        "    for word in tokenize_q:\n",
        "      if word not in w2v_model.wv.vocab:\n",
        "        #300 dimension is the same as size of output embedding word2vec\n",
        "        q_embedding.append(np.random.rand(300))  \n",
        "      else:\n",
        "        q_embedding.append(w2v_model.wv.word_vec(word))\n",
        "    q_embedding = np.mean(q_embedding, axis = 0)\n",
        "  \n",
        "    r = list()\n",
        "    for i in (range(len(df['Embedding_vector']))):\n",
        "      r.append([i, cosine_similarity(np.array([q_embedding]), np.array([df['Embedding_vector'][i]]))[0][0]])\n",
        "    \n",
        "    r= pd.DataFrame(r, columns = [\"index\", \"cosine_similarity\"])\n",
        "    r = r.sort_values(by =\"cosine_similarity\", ascending= False)\n",
        "    r = r.head(15)\n",
        "    # print(r)\n",
        "    a = df.iloc[r['index']]['Answer'].tolist()\n",
        "    cosine = r['cosine_similarity'].tolist()\n",
        "    \n",
        "    print(pd.DataFrame( list(zip(a, cosine)) , columns = [\"Answer\", 'cosine_similarity']))\n",
        "      "
      ],
      "execution_count": 215,
      "outputs": [
        {
          "output_type": "stream",
          "text": [
            "Gõ q để thoát\n"
          ],
          "name": "stdout"
        }
      ]
    },
    {
      "cell_type": "code",
      "metadata": {
        "colab": {
          "base_uri": "https://localhost:8080/"
        },
        "id": "QSoOXn_ZUKu9",
        "outputId": "cc88dbcc-a82d-4744-d6fb-a2273e92d218"
      },
      "source": [
        "print(\"Gõ q để thoát\")\n",
        "ir()"
      ],
      "execution_count": 214,
      "outputs": [
        {
          "output_type": "stream",
          "text": [
            "bạn có crush ai không?\n",
            "                                               Answer  cosine_similarity\n",
            "0                                                 Có            0.999998\n",
            "1    Mình đang crush một bạn, bạn có thể chỉ mình ...           0.999998\n",
            "2     không, crush mình không biết mình thích bạn đó            0.999998\n",
            "3                                          nhiều lắm            0.999998\n",
            "4                                       có nhiều lắm            0.999998\n",
            "5                                         Không ít à            0.999998\n",
            "6                                         Không ít à            0.999998\n",
            "7                                                 có            0.999998\n",
            "8                                                 Có            0.999998\n",
            "9                                       có nhiều lắm            0.999997\n",
            "10                                                có            0.999997\n",
            "11                                            Rất có            0.999997\n",
            "12                           mình không có nhiều bạn            0.999997\n",
            "13                           mình không có nhiều bạn            0.999997\n",
            "14                                 Mình có nhiều bạn            0.999997\n",
            "q\n"
          ],
          "name": "stdout"
        }
      ]
    }
  ]
}